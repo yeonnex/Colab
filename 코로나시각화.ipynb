{
  "nbformat": 4,
  "nbformat_minor": 0,
  "metadata": {
    "colab": {
      "name": "코로나시각화.ipynb",
      "provenance": [],
      "mount_file_id": "1fJ2pqhNFzK0ODoUNECeilpCB17kr-5M3",
      "authorship_tag": "ABX9TyM5sdu9xSIJd00DoH9hk4wL",
      "include_colab_link": true
    },
    "kernelspec": {
      "name": "python3",
      "display_name": "Python 3"
    },
    "language_info": {
      "name": "python"
    }
  },
  "cells": [
    {
      "cell_type": "markdown",
      "metadata": {
        "id": "view-in-github",
        "colab_type": "text"
      },
      "source": [
        "<a href=\"https://colab.research.google.com/github/yeonnex/Colab/blob/main/%EC%BD%94%EB%A1%9C%EB%82%98%EC%8B%9C%EA%B0%81%ED%99%94.ipynb\" target=\"_parent\"><img src=\"https://colab.research.google.com/assets/colab-badge.svg\" alt=\"Open In Colab\"/></a>"
      ]
    },
    {
      "cell_type": "markdown",
      "metadata": {
        "id": "AfKeIqWaNInp"
      },
      "source": [
        "# 코로나 : 시각화를 통한 인사이트 도출"
      ]
    },
    {
      "cell_type": "markdown",
      "metadata": {
        "id": "foErcEGENOOJ"
      },
      "source": [
        "# 1.준비"
      ]
    },
    {
      "cell_type": "code",
      "metadata": {
        "id": "51IG4jAHNUqY"
      },
      "source": [
        "# 필요한 라이브러리를 가져온다.\n",
        "import pandas as pd\n",
        "import numpy as np\n",
        "import matplotlib.pyplot as plt\n",
        "import seaborn as sns\n",
        "import missingno as msno # 결측데이터들을 파악하는데 직관적인 도움을 주는 패키지\n",
        "import warnings"
      ],
      "execution_count": 1,
      "outputs": []
    },
    {
      "cell_type": "code",
      "metadata": {
        "id": "SncyBqeoNruT"
      },
      "source": [
        " pd.set_option(\"precision\", 4)"
      ],
      "execution_count": 2,
      "outputs": []
    },
    {
      "cell_type": "code",
      "metadata": {
        "id": "8GtG9GoSN4Rh"
      },
      "source": [
        "# 성가신 경고를 꺼준다.\n",
        "warnings.filterwarnings('ignore')"
      ],
      "execution_count": 3,
      "outputs": []
    },
    {
      "cell_type": "code",
      "metadata": {
        "id": "6vhZySxVOHW8"
      },
      "source": [
        "df1 = pd.read_csv('/content/drive/MyDrive/Colab Notebooks/빅데이터/별첨 2_DACON_코로나 데이터 분석_최종/data/PatientInfo.csv')"
      ],
      "execution_count": 4,
      "outputs": []
    },
    {
      "cell_type": "code",
      "metadata": {
        "colab": {
          "base_uri": "https://localhost:8080/"
        },
        "id": "nJIyDLKVOjTT",
        "outputId": "15b556b0-e694-46bb-e26d-838fd868a4ab"
      },
      "source": [
        "df1.shape"
      ],
      "execution_count": 5,
      "outputs": [
        {
          "output_type": "execute_result",
          "data": {
            "text/plain": [
              "(4004, 18)"
            ]
          },
          "metadata": {},
          "execution_count": 5
        }
      ]
    },
    {
      "cell_type": "code",
      "metadata": {
        "colab": {
          "base_uri": "https://localhost:8080/",
          "height": 290
        },
        "id": "Axjx7a4sOlLS",
        "outputId": "246c050e-739c-43fd-c17a-4b673b0141cf"
      },
      "source": [
        "df1.head()"
      ],
      "execution_count": 6,
      "outputs": [
        {
          "output_type": "execute_result",
          "data": {
            "text/html": [
              "<div>\n",
              "<style scoped>\n",
              "    .dataframe tbody tr th:only-of-type {\n",
              "        vertical-align: middle;\n",
              "    }\n",
              "\n",
              "    .dataframe tbody tr th {\n",
              "        vertical-align: top;\n",
              "    }\n",
              "\n",
              "    .dataframe thead th {\n",
              "        text-align: right;\n",
              "    }\n",
              "</style>\n",
              "<table border=\"1\" class=\"dataframe\">\n",
              "  <thead>\n",
              "    <tr style=\"text-align: right;\">\n",
              "      <th></th>\n",
              "      <th>patient_id</th>\n",
              "      <th>global_num</th>\n",
              "      <th>sex</th>\n",
              "      <th>birth_year</th>\n",
              "      <th>age</th>\n",
              "      <th>country</th>\n",
              "      <th>province</th>\n",
              "      <th>city</th>\n",
              "      <th>disease</th>\n",
              "      <th>infection_case</th>\n",
              "      <th>infection_order</th>\n",
              "      <th>infected_by</th>\n",
              "      <th>contact_number</th>\n",
              "      <th>symptom_onset_date</th>\n",
              "      <th>confirmed_date</th>\n",
              "      <th>released_date</th>\n",
              "      <th>deceased_date</th>\n",
              "      <th>state</th>\n",
              "    </tr>\n",
              "  </thead>\n",
              "  <tbody>\n",
              "    <tr>\n",
              "      <th>0</th>\n",
              "      <td>1000000001</td>\n",
              "      <td>2.0</td>\n",
              "      <td>male</td>\n",
              "      <td>1964</td>\n",
              "      <td>50s</td>\n",
              "      <td>Korea</td>\n",
              "      <td>Seoul</td>\n",
              "      <td>Gangseo-gu</td>\n",
              "      <td>NaN</td>\n",
              "      <td>overseas inflow</td>\n",
              "      <td>1.0</td>\n",
              "      <td>NaN</td>\n",
              "      <td>75</td>\n",
              "      <td>2020-01-22</td>\n",
              "      <td>2020-01-23</td>\n",
              "      <td>2020-02-05</td>\n",
              "      <td>NaN</td>\n",
              "      <td>released</td>\n",
              "    </tr>\n",
              "    <tr>\n",
              "      <th>1</th>\n",
              "      <td>1000000002</td>\n",
              "      <td>5.0</td>\n",
              "      <td>male</td>\n",
              "      <td>1987</td>\n",
              "      <td>30s</td>\n",
              "      <td>Korea</td>\n",
              "      <td>Seoul</td>\n",
              "      <td>Jungnang-gu</td>\n",
              "      <td>NaN</td>\n",
              "      <td>overseas inflow</td>\n",
              "      <td>1.0</td>\n",
              "      <td>NaN</td>\n",
              "      <td>31</td>\n",
              "      <td>NaN</td>\n",
              "      <td>2020-01-30</td>\n",
              "      <td>2020-03-02</td>\n",
              "      <td>NaN</td>\n",
              "      <td>released</td>\n",
              "    </tr>\n",
              "    <tr>\n",
              "      <th>2</th>\n",
              "      <td>1000000003</td>\n",
              "      <td>6.0</td>\n",
              "      <td>male</td>\n",
              "      <td>1964</td>\n",
              "      <td>50s</td>\n",
              "      <td>Korea</td>\n",
              "      <td>Seoul</td>\n",
              "      <td>Jongno-gu</td>\n",
              "      <td>NaN</td>\n",
              "      <td>contact with patient</td>\n",
              "      <td>2.0</td>\n",
              "      <td>2002000001</td>\n",
              "      <td>17</td>\n",
              "      <td>NaN</td>\n",
              "      <td>2020-01-30</td>\n",
              "      <td>2020-02-19</td>\n",
              "      <td>NaN</td>\n",
              "      <td>released</td>\n",
              "    </tr>\n",
              "    <tr>\n",
              "      <th>3</th>\n",
              "      <td>1000000004</td>\n",
              "      <td>7.0</td>\n",
              "      <td>male</td>\n",
              "      <td>1991</td>\n",
              "      <td>20s</td>\n",
              "      <td>Korea</td>\n",
              "      <td>Seoul</td>\n",
              "      <td>Mapo-gu</td>\n",
              "      <td>NaN</td>\n",
              "      <td>overseas inflow</td>\n",
              "      <td>1.0</td>\n",
              "      <td>NaN</td>\n",
              "      <td>9</td>\n",
              "      <td>2020-01-26</td>\n",
              "      <td>2020-01-30</td>\n",
              "      <td>2020-02-15</td>\n",
              "      <td>NaN</td>\n",
              "      <td>released</td>\n",
              "    </tr>\n",
              "    <tr>\n",
              "      <th>4</th>\n",
              "      <td>1000000005</td>\n",
              "      <td>9.0</td>\n",
              "      <td>female</td>\n",
              "      <td>1992</td>\n",
              "      <td>20s</td>\n",
              "      <td>Korea</td>\n",
              "      <td>Seoul</td>\n",
              "      <td>Seongbuk-gu</td>\n",
              "      <td>NaN</td>\n",
              "      <td>contact with patient</td>\n",
              "      <td>2.0</td>\n",
              "      <td>1000000002</td>\n",
              "      <td>2</td>\n",
              "      <td>NaN</td>\n",
              "      <td>2020-01-31</td>\n",
              "      <td>2020-02-24</td>\n",
              "      <td>NaN</td>\n",
              "      <td>released</td>\n",
              "    </tr>\n",
              "  </tbody>\n",
              "</table>\n",
              "</div>"
            ],
            "text/plain": [
              "   patient_id  global_num     sex  ... released_date deceased_date     state\n",
              "0  1000000001         2.0    male  ...    2020-02-05           NaN  released\n",
              "1  1000000002         5.0    male  ...    2020-03-02           NaN  released\n",
              "2  1000000003         6.0    male  ...    2020-02-19           NaN  released\n",
              "3  1000000004         7.0    male  ...    2020-02-15           NaN  released\n",
              "4  1000000005         9.0  female  ...    2020-02-24           NaN  released\n",
              "\n",
              "[5 rows x 18 columns]"
            ]
          },
          "metadata": {},
          "execution_count": 6
        }
      ]
    },
    {
      "cell_type": "code",
      "metadata": {
        "colab": {
          "base_uri": "https://localhost:8080/"
        },
        "id": "g5dlMIn7vVte",
        "outputId": "7546ee18-67c1-4fe4-bdca-a62097f99617"
      },
      "source": [
        "df1.info()"
      ],
      "execution_count": 7,
      "outputs": [
        {
          "output_type": "stream",
          "text": [
            "<class 'pandas.core.frame.DataFrame'>\n",
            "RangeIndex: 4004 entries, 0 to 4003\n",
            "Data columns (total 18 columns):\n",
            " #   Column              Non-Null Count  Dtype  \n",
            "---  ------              --------------  -----  \n",
            " 0   patient_id          4004 non-null   int64  \n",
            " 1   global_num          2806 non-null   float64\n",
            " 2   sex                 3674 non-null   object \n",
            " 3   birth_year          3267 non-null   object \n",
            " 4   age                 3525 non-null   object \n",
            " 5   country             4004 non-null   object \n",
            " 6   province            4004 non-null   object \n",
            " 7   city                3926 non-null   object \n",
            " 8   disease             18 non-null     object \n",
            " 9   infection_case      3211 non-null   object \n",
            " 10  infection_order     31 non-null     float64\n",
            " 11  infected_by         899 non-null    object \n",
            " 12  contact_number      680 non-null    object \n",
            " 13  symptom_onset_date  535 non-null    object \n",
            " 14  confirmed_date      4001 non-null   object \n",
            " 15  released_date       1508 non-null   object \n",
            " 16  deceased_date       65 non-null     object \n",
            " 17  state               4004 non-null   object \n",
            "dtypes: float64(2), int64(1), object(15)\n",
            "memory usage: 563.2+ KB\n"
          ],
          "name": "stdout"
        }
      ]
    },
    {
      "cell_type": "markdown",
      "metadata": {
        "id": "6ck79OsrxTmd"
      },
      "source": [
        "# 2.기초적인 탐색"
      ]
    },
    {
      "cell_type": "code",
      "metadata": {
        "id": "1S1vL_Iqx6As"
      },
      "source": [
        ""
      ],
      "execution_count": 7,
      "outputs": []
    },
    {
      "cell_type": "code",
      "metadata": {
        "colab": {
          "base_uri": "https://localhost:8080/"
        },
        "id": "1DWjyptHyChR",
        "outputId": "3dd4a770-9130-46df-d68d-b9b8be2f22d6"
      },
      "source": [
        "# 중복된 환자 ID는 없어보인다. \n",
        "\n",
        "# 데이터의 개수\n",
        "print(\"데이터 행의 수 = {}\".format(len(df1))) # 또는 df1.shape[0]\n",
        "# 고유한 id의 개수\n",
        "print(\"고유한 환자 ID 수 = {}\".format(df1.patient_id.nunique()))"
      ],
      "execution_count": 8,
      "outputs": [
        {
          "output_type": "stream",
          "text": [
            "데이터 행의 수 = 4004\n",
            "고유한 환자 ID 수 = 4004\n"
          ],
          "name": "stdout"
        }
      ]
    },
    {
      "cell_type": "code",
      "metadata": {
        "colab": {
          "base_uri": "https://localhost:8080/"
        },
        "id": "3gvERX8JybqN",
        "outputId": "36d390ea-fbe3-4774-8728-380532fa31b5"
      },
      "source": [
        "# 결측치 집계\n",
        "print(df1.isnull().sum()) # 컬럼별로 결측치를 집계해준다.\n",
        "print(\"=\"*30)\n",
        "print(\"결측치 총 개수 = \", df1.isnull().sum().sum()) # 결측치 총합 집계"
      ],
      "execution_count": 9,
      "outputs": [
        {
          "output_type": "stream",
          "text": [
            "patient_id               0\n",
            "global_num            1198\n",
            "sex                    330\n",
            "birth_year             737\n",
            "age                    479\n",
            "country                  0\n",
            "province                 0\n",
            "city                    78\n",
            "disease               3986\n",
            "infection_case         793\n",
            "infection_order       3973\n",
            "infected_by           3105\n",
            "contact_number        3324\n",
            "symptom_onset_date    3469\n",
            "confirmed_date           3\n",
            "released_date         2496\n",
            "deceased_date         3939\n",
            "state                    0\n",
            "dtype: int64\n",
            "==============================\n",
            "결측치 총 개수 =  27910\n"
          ],
          "name": "stdout"
        }
      ]
    },
    {
      "cell_type": "code",
      "metadata": {
        "colab": {
          "base_uri": "https://localhost:8080/"
        },
        "id": "JHakoocKKSSE",
        "outputId": "cd86ee49-44bc-46fc-f7b3-860612d63cdc"
      },
      "source": [
        "df1.sex.nunique()"
      ],
      "execution_count": 10,
      "outputs": [
        {
          "output_type": "execute_result",
          "data": {
            "text/plain": [
              "2"
            ]
          },
          "metadata": {},
          "execution_count": 10
        }
      ]
    },
    {
      "cell_type": "code",
      "metadata": {
        "colab": {
          "base_uri": "https://localhost:8080/",
          "height": 437
        },
        "id": "bs4x-7X2MiY6",
        "outputId": "270988b1-0ec7-4aea-f2fb-724b596bc8b0"
      },
      "source": [
        "df1.isnull()"
      ],
      "execution_count": 11,
      "outputs": [
        {
          "output_type": "execute_result",
          "data": {
            "text/html": [
              "<div>\n",
              "<style scoped>\n",
              "    .dataframe tbody tr th:only-of-type {\n",
              "        vertical-align: middle;\n",
              "    }\n",
              "\n",
              "    .dataframe tbody tr th {\n",
              "        vertical-align: top;\n",
              "    }\n",
              "\n",
              "    .dataframe thead th {\n",
              "        text-align: right;\n",
              "    }\n",
              "</style>\n",
              "<table border=\"1\" class=\"dataframe\">\n",
              "  <thead>\n",
              "    <tr style=\"text-align: right;\">\n",
              "      <th></th>\n",
              "      <th>patient_id</th>\n",
              "      <th>global_num</th>\n",
              "      <th>sex</th>\n",
              "      <th>birth_year</th>\n",
              "      <th>age</th>\n",
              "      <th>country</th>\n",
              "      <th>province</th>\n",
              "      <th>city</th>\n",
              "      <th>disease</th>\n",
              "      <th>infection_case</th>\n",
              "      <th>infection_order</th>\n",
              "      <th>infected_by</th>\n",
              "      <th>contact_number</th>\n",
              "      <th>symptom_onset_date</th>\n",
              "      <th>confirmed_date</th>\n",
              "      <th>released_date</th>\n",
              "      <th>deceased_date</th>\n",
              "      <th>state</th>\n",
              "    </tr>\n",
              "  </thead>\n",
              "  <tbody>\n",
              "    <tr>\n",
              "      <th>0</th>\n",
              "      <td>False</td>\n",
              "      <td>False</td>\n",
              "      <td>False</td>\n",
              "      <td>False</td>\n",
              "      <td>False</td>\n",
              "      <td>False</td>\n",
              "      <td>False</td>\n",
              "      <td>False</td>\n",
              "      <td>True</td>\n",
              "      <td>False</td>\n",
              "      <td>False</td>\n",
              "      <td>True</td>\n",
              "      <td>False</td>\n",
              "      <td>False</td>\n",
              "      <td>False</td>\n",
              "      <td>False</td>\n",
              "      <td>True</td>\n",
              "      <td>False</td>\n",
              "    </tr>\n",
              "    <tr>\n",
              "      <th>1</th>\n",
              "      <td>False</td>\n",
              "      <td>False</td>\n",
              "      <td>False</td>\n",
              "      <td>False</td>\n",
              "      <td>False</td>\n",
              "      <td>False</td>\n",
              "      <td>False</td>\n",
              "      <td>False</td>\n",
              "      <td>True</td>\n",
              "      <td>False</td>\n",
              "      <td>False</td>\n",
              "      <td>True</td>\n",
              "      <td>False</td>\n",
              "      <td>True</td>\n",
              "      <td>False</td>\n",
              "      <td>False</td>\n",
              "      <td>True</td>\n",
              "      <td>False</td>\n",
              "    </tr>\n",
              "    <tr>\n",
              "      <th>2</th>\n",
              "      <td>False</td>\n",
              "      <td>False</td>\n",
              "      <td>False</td>\n",
              "      <td>False</td>\n",
              "      <td>False</td>\n",
              "      <td>False</td>\n",
              "      <td>False</td>\n",
              "      <td>False</td>\n",
              "      <td>True</td>\n",
              "      <td>False</td>\n",
              "      <td>False</td>\n",
              "      <td>False</td>\n",
              "      <td>False</td>\n",
              "      <td>True</td>\n",
              "      <td>False</td>\n",
              "      <td>False</td>\n",
              "      <td>True</td>\n",
              "      <td>False</td>\n",
              "    </tr>\n",
              "    <tr>\n",
              "      <th>3</th>\n",
              "      <td>False</td>\n",
              "      <td>False</td>\n",
              "      <td>False</td>\n",
              "      <td>False</td>\n",
              "      <td>False</td>\n",
              "      <td>False</td>\n",
              "      <td>False</td>\n",
              "      <td>False</td>\n",
              "      <td>True</td>\n",
              "      <td>False</td>\n",
              "      <td>False</td>\n",
              "      <td>True</td>\n",
              "      <td>False</td>\n",
              "      <td>False</td>\n",
              "      <td>False</td>\n",
              "      <td>False</td>\n",
              "      <td>True</td>\n",
              "      <td>False</td>\n",
              "    </tr>\n",
              "    <tr>\n",
              "      <th>4</th>\n",
              "      <td>False</td>\n",
              "      <td>False</td>\n",
              "      <td>False</td>\n",
              "      <td>False</td>\n",
              "      <td>False</td>\n",
              "      <td>False</td>\n",
              "      <td>False</td>\n",
              "      <td>False</td>\n",
              "      <td>True</td>\n",
              "      <td>False</td>\n",
              "      <td>False</td>\n",
              "      <td>False</td>\n",
              "      <td>False</td>\n",
              "      <td>True</td>\n",
              "      <td>False</td>\n",
              "      <td>False</td>\n",
              "      <td>True</td>\n",
              "      <td>False</td>\n",
              "    </tr>\n",
              "    <tr>\n",
              "      <th>...</th>\n",
              "      <td>...</td>\n",
              "      <td>...</td>\n",
              "      <td>...</td>\n",
              "      <td>...</td>\n",
              "      <td>...</td>\n",
              "      <td>...</td>\n",
              "      <td>...</td>\n",
              "      <td>...</td>\n",
              "      <td>...</td>\n",
              "      <td>...</td>\n",
              "      <td>...</td>\n",
              "      <td>...</td>\n",
              "      <td>...</td>\n",
              "      <td>...</td>\n",
              "      <td>...</td>\n",
              "      <td>...</td>\n",
              "      <td>...</td>\n",
              "      <td>...</td>\n",
              "    </tr>\n",
              "    <tr>\n",
              "      <th>3999</th>\n",
              "      <td>False</td>\n",
              "      <td>True</td>\n",
              "      <td>False</td>\n",
              "      <td>True</td>\n",
              "      <td>False</td>\n",
              "      <td>False</td>\n",
              "      <td>False</td>\n",
              "      <td>False</td>\n",
              "      <td>True</td>\n",
              "      <td>False</td>\n",
              "      <td>True</td>\n",
              "      <td>True</td>\n",
              "      <td>False</td>\n",
              "      <td>True</td>\n",
              "      <td>False</td>\n",
              "      <td>False</td>\n",
              "      <td>True</td>\n",
              "      <td>False</td>\n",
              "    </tr>\n",
              "    <tr>\n",
              "      <th>4000</th>\n",
              "      <td>False</td>\n",
              "      <td>True</td>\n",
              "      <td>False</td>\n",
              "      <td>True</td>\n",
              "      <td>False</td>\n",
              "      <td>False</td>\n",
              "      <td>False</td>\n",
              "      <td>False</td>\n",
              "      <td>True</td>\n",
              "      <td>False</td>\n",
              "      <td>True</td>\n",
              "      <td>False</td>\n",
              "      <td>False</td>\n",
              "      <td>True</td>\n",
              "      <td>False</td>\n",
              "      <td>True</td>\n",
              "      <td>True</td>\n",
              "      <td>False</td>\n",
              "    </tr>\n",
              "    <tr>\n",
              "      <th>4001</th>\n",
              "      <td>False</td>\n",
              "      <td>True</td>\n",
              "      <td>False</td>\n",
              "      <td>True</td>\n",
              "      <td>False</td>\n",
              "      <td>False</td>\n",
              "      <td>False</td>\n",
              "      <td>False</td>\n",
              "      <td>True</td>\n",
              "      <td>False</td>\n",
              "      <td>True</td>\n",
              "      <td>True</td>\n",
              "      <td>False</td>\n",
              "      <td>True</td>\n",
              "      <td>False</td>\n",
              "      <td>False</td>\n",
              "      <td>True</td>\n",
              "      <td>False</td>\n",
              "    </tr>\n",
              "    <tr>\n",
              "      <th>4002</th>\n",
              "      <td>False</td>\n",
              "      <td>True</td>\n",
              "      <td>False</td>\n",
              "      <td>True</td>\n",
              "      <td>False</td>\n",
              "      <td>False</td>\n",
              "      <td>False</td>\n",
              "      <td>False</td>\n",
              "      <td>True</td>\n",
              "      <td>False</td>\n",
              "      <td>True</td>\n",
              "      <td>True</td>\n",
              "      <td>False</td>\n",
              "      <td>True</td>\n",
              "      <td>False</td>\n",
              "      <td>False</td>\n",
              "      <td>True</td>\n",
              "      <td>False</td>\n",
              "    </tr>\n",
              "    <tr>\n",
              "      <th>4003</th>\n",
              "      <td>False</td>\n",
              "      <td>True</td>\n",
              "      <td>False</td>\n",
              "      <td>True</td>\n",
              "      <td>False</td>\n",
              "      <td>False</td>\n",
              "      <td>False</td>\n",
              "      <td>False</td>\n",
              "      <td>True</td>\n",
              "      <td>False</td>\n",
              "      <td>True</td>\n",
              "      <td>True</td>\n",
              "      <td>True</td>\n",
              "      <td>True</td>\n",
              "      <td>False</td>\n",
              "      <td>True</td>\n",
              "      <td>True</td>\n",
              "      <td>False</td>\n",
              "    </tr>\n",
              "  </tbody>\n",
              "</table>\n",
              "<p>4004 rows × 18 columns</p>\n",
              "</div>"
            ],
            "text/plain": [
              "      patient_id  global_num    sex  ...  released_date  deceased_date  state\n",
              "0          False       False  False  ...          False           True  False\n",
              "1          False       False  False  ...          False           True  False\n",
              "2          False       False  False  ...          False           True  False\n",
              "3          False       False  False  ...          False           True  False\n",
              "4          False       False  False  ...          False           True  False\n",
              "...          ...         ...    ...  ...            ...            ...    ...\n",
              "3999       False        True  False  ...          False           True  False\n",
              "4000       False        True  False  ...           True           True  False\n",
              "4001       False        True  False  ...          False           True  False\n",
              "4002       False        True  False  ...          False           True  False\n",
              "4003       False        True  False  ...           True           True  False\n",
              "\n",
              "[4004 rows x 18 columns]"
            ]
          },
          "metadata": {},
          "execution_count": 11
        }
      ]
    },
    {
      "cell_type": "code",
      "metadata": {
        "colab": {
          "base_uri": "https://localhost:8080/",
          "height": 437
        },
        "id": "xQfbpXljMoOT",
        "outputId": "d18ed37e-f2d6-4620-a310-7db473172ed3"
      },
      "source": [
        "df1.isnull()*1 # 1을 곱해줌으로써 행렬 형태로 변환되게 되었다!"
      ],
      "execution_count": 12,
      "outputs": [
        {
          "output_type": "execute_result",
          "data": {
            "text/html": [
              "<div>\n",
              "<style scoped>\n",
              "    .dataframe tbody tr th:only-of-type {\n",
              "        vertical-align: middle;\n",
              "    }\n",
              "\n",
              "    .dataframe tbody tr th {\n",
              "        vertical-align: top;\n",
              "    }\n",
              "\n",
              "    .dataframe thead th {\n",
              "        text-align: right;\n",
              "    }\n",
              "</style>\n",
              "<table border=\"1\" class=\"dataframe\">\n",
              "  <thead>\n",
              "    <tr style=\"text-align: right;\">\n",
              "      <th></th>\n",
              "      <th>patient_id</th>\n",
              "      <th>global_num</th>\n",
              "      <th>sex</th>\n",
              "      <th>birth_year</th>\n",
              "      <th>age</th>\n",
              "      <th>country</th>\n",
              "      <th>province</th>\n",
              "      <th>city</th>\n",
              "      <th>disease</th>\n",
              "      <th>infection_case</th>\n",
              "      <th>infection_order</th>\n",
              "      <th>infected_by</th>\n",
              "      <th>contact_number</th>\n",
              "      <th>symptom_onset_date</th>\n",
              "      <th>confirmed_date</th>\n",
              "      <th>released_date</th>\n",
              "      <th>deceased_date</th>\n",
              "      <th>state</th>\n",
              "    </tr>\n",
              "  </thead>\n",
              "  <tbody>\n",
              "    <tr>\n",
              "      <th>0</th>\n",
              "      <td>0</td>\n",
              "      <td>0</td>\n",
              "      <td>0</td>\n",
              "      <td>0</td>\n",
              "      <td>0</td>\n",
              "      <td>0</td>\n",
              "      <td>0</td>\n",
              "      <td>0</td>\n",
              "      <td>1</td>\n",
              "      <td>0</td>\n",
              "      <td>0</td>\n",
              "      <td>1</td>\n",
              "      <td>0</td>\n",
              "      <td>0</td>\n",
              "      <td>0</td>\n",
              "      <td>0</td>\n",
              "      <td>1</td>\n",
              "      <td>0</td>\n",
              "    </tr>\n",
              "    <tr>\n",
              "      <th>1</th>\n",
              "      <td>0</td>\n",
              "      <td>0</td>\n",
              "      <td>0</td>\n",
              "      <td>0</td>\n",
              "      <td>0</td>\n",
              "      <td>0</td>\n",
              "      <td>0</td>\n",
              "      <td>0</td>\n",
              "      <td>1</td>\n",
              "      <td>0</td>\n",
              "      <td>0</td>\n",
              "      <td>1</td>\n",
              "      <td>0</td>\n",
              "      <td>1</td>\n",
              "      <td>0</td>\n",
              "      <td>0</td>\n",
              "      <td>1</td>\n",
              "      <td>0</td>\n",
              "    </tr>\n",
              "    <tr>\n",
              "      <th>2</th>\n",
              "      <td>0</td>\n",
              "      <td>0</td>\n",
              "      <td>0</td>\n",
              "      <td>0</td>\n",
              "      <td>0</td>\n",
              "      <td>0</td>\n",
              "      <td>0</td>\n",
              "      <td>0</td>\n",
              "      <td>1</td>\n",
              "      <td>0</td>\n",
              "      <td>0</td>\n",
              "      <td>0</td>\n",
              "      <td>0</td>\n",
              "      <td>1</td>\n",
              "      <td>0</td>\n",
              "      <td>0</td>\n",
              "      <td>1</td>\n",
              "      <td>0</td>\n",
              "    </tr>\n",
              "    <tr>\n",
              "      <th>3</th>\n",
              "      <td>0</td>\n",
              "      <td>0</td>\n",
              "      <td>0</td>\n",
              "      <td>0</td>\n",
              "      <td>0</td>\n",
              "      <td>0</td>\n",
              "      <td>0</td>\n",
              "      <td>0</td>\n",
              "      <td>1</td>\n",
              "      <td>0</td>\n",
              "      <td>0</td>\n",
              "      <td>1</td>\n",
              "      <td>0</td>\n",
              "      <td>0</td>\n",
              "      <td>0</td>\n",
              "      <td>0</td>\n",
              "      <td>1</td>\n",
              "      <td>0</td>\n",
              "    </tr>\n",
              "    <tr>\n",
              "      <th>4</th>\n",
              "      <td>0</td>\n",
              "      <td>0</td>\n",
              "      <td>0</td>\n",
              "      <td>0</td>\n",
              "      <td>0</td>\n",
              "      <td>0</td>\n",
              "      <td>0</td>\n",
              "      <td>0</td>\n",
              "      <td>1</td>\n",
              "      <td>0</td>\n",
              "      <td>0</td>\n",
              "      <td>0</td>\n",
              "      <td>0</td>\n",
              "      <td>1</td>\n",
              "      <td>0</td>\n",
              "      <td>0</td>\n",
              "      <td>1</td>\n",
              "      <td>0</td>\n",
              "    </tr>\n",
              "    <tr>\n",
              "      <th>...</th>\n",
              "      <td>...</td>\n",
              "      <td>...</td>\n",
              "      <td>...</td>\n",
              "      <td>...</td>\n",
              "      <td>...</td>\n",
              "      <td>...</td>\n",
              "      <td>...</td>\n",
              "      <td>...</td>\n",
              "      <td>...</td>\n",
              "      <td>...</td>\n",
              "      <td>...</td>\n",
              "      <td>...</td>\n",
              "      <td>...</td>\n",
              "      <td>...</td>\n",
              "      <td>...</td>\n",
              "      <td>...</td>\n",
              "      <td>...</td>\n",
              "      <td>...</td>\n",
              "    </tr>\n",
              "    <tr>\n",
              "      <th>3999</th>\n",
              "      <td>0</td>\n",
              "      <td>1</td>\n",
              "      <td>0</td>\n",
              "      <td>1</td>\n",
              "      <td>0</td>\n",
              "      <td>0</td>\n",
              "      <td>0</td>\n",
              "      <td>0</td>\n",
              "      <td>1</td>\n",
              "      <td>0</td>\n",
              "      <td>1</td>\n",
              "      <td>1</td>\n",
              "      <td>0</td>\n",
              "      <td>1</td>\n",
              "      <td>0</td>\n",
              "      <td>0</td>\n",
              "      <td>1</td>\n",
              "      <td>0</td>\n",
              "    </tr>\n",
              "    <tr>\n",
              "      <th>4000</th>\n",
              "      <td>0</td>\n",
              "      <td>1</td>\n",
              "      <td>0</td>\n",
              "      <td>1</td>\n",
              "      <td>0</td>\n",
              "      <td>0</td>\n",
              "      <td>0</td>\n",
              "      <td>0</td>\n",
              "      <td>1</td>\n",
              "      <td>0</td>\n",
              "      <td>1</td>\n",
              "      <td>0</td>\n",
              "      <td>0</td>\n",
              "      <td>1</td>\n",
              "      <td>0</td>\n",
              "      <td>1</td>\n",
              "      <td>1</td>\n",
              "      <td>0</td>\n",
              "    </tr>\n",
              "    <tr>\n",
              "      <th>4001</th>\n",
              "      <td>0</td>\n",
              "      <td>1</td>\n",
              "      <td>0</td>\n",
              "      <td>1</td>\n",
              "      <td>0</td>\n",
              "      <td>0</td>\n",
              "      <td>0</td>\n",
              "      <td>0</td>\n",
              "      <td>1</td>\n",
              "      <td>0</td>\n",
              "      <td>1</td>\n",
              "      <td>1</td>\n",
              "      <td>0</td>\n",
              "      <td>1</td>\n",
              "      <td>0</td>\n",
              "      <td>0</td>\n",
              "      <td>1</td>\n",
              "      <td>0</td>\n",
              "    </tr>\n",
              "    <tr>\n",
              "      <th>4002</th>\n",
              "      <td>0</td>\n",
              "      <td>1</td>\n",
              "      <td>0</td>\n",
              "      <td>1</td>\n",
              "      <td>0</td>\n",
              "      <td>0</td>\n",
              "      <td>0</td>\n",
              "      <td>0</td>\n",
              "      <td>1</td>\n",
              "      <td>0</td>\n",
              "      <td>1</td>\n",
              "      <td>1</td>\n",
              "      <td>0</td>\n",
              "      <td>1</td>\n",
              "      <td>0</td>\n",
              "      <td>0</td>\n",
              "      <td>1</td>\n",
              "      <td>0</td>\n",
              "    </tr>\n",
              "    <tr>\n",
              "      <th>4003</th>\n",
              "      <td>0</td>\n",
              "      <td>1</td>\n",
              "      <td>0</td>\n",
              "      <td>1</td>\n",
              "      <td>0</td>\n",
              "      <td>0</td>\n",
              "      <td>0</td>\n",
              "      <td>0</td>\n",
              "      <td>1</td>\n",
              "      <td>0</td>\n",
              "      <td>1</td>\n",
              "      <td>1</td>\n",
              "      <td>1</td>\n",
              "      <td>1</td>\n",
              "      <td>0</td>\n",
              "      <td>1</td>\n",
              "      <td>1</td>\n",
              "      <td>0</td>\n",
              "    </tr>\n",
              "  </tbody>\n",
              "</table>\n",
              "<p>4004 rows × 18 columns</p>\n",
              "</div>"
            ],
            "text/plain": [
              "      patient_id  global_num  sex  ...  released_date  deceased_date  state\n",
              "0              0           0    0  ...              0              1      0\n",
              "1              0           0    0  ...              0              1      0\n",
              "2              0           0    0  ...              0              1      0\n",
              "3              0           0    0  ...              0              1      0\n",
              "4              0           0    0  ...              0              1      0\n",
              "...          ...         ...  ...  ...            ...            ...    ...\n",
              "3999           0           1    0  ...              0              1      0\n",
              "4000           0           1    0  ...              1              1      0\n",
              "4001           0           1    0  ...              0              1      0\n",
              "4002           0           1    0  ...              0              1      0\n",
              "4003           0           1    0  ...              1              1      0\n",
              "\n",
              "[4004 rows x 18 columns]"
            ]
          },
          "metadata": {},
          "execution_count": 12
        }
      ]
    },
    {
      "cell_type": "code",
      "metadata": {
        "colab": {
          "base_uri": "https://localhost:8080/",
          "height": 511
        },
        "id": "Vtq27gNcLxqe",
        "outputId": "8f718abe-19fd-4688-d16b-a5535eededbc"
      },
      "source": [
        "# 결측치를 시각화해본다\n",
        "plt.figure(figsize=(15, 10)) # 가로 15, 세로 10\n",
        "sns.heatmap(df1.isnull(), cmap='Blues', cbar=False) # cbar=True : 1은 가장 진한 색, 0은 하얀색\n",
        "plt.show()\n",
        "# 이 행렬에서는 0과 1밖에 없으므로, 결과가 극명하게 나옴\n",
        "\n",
        "# 기저질환이나, 사망일 컬럼의 경우 거의 모든 값이 결측치...\n",
        "# 그러나 인사이트를 도출하는 것이 목적이기 때문에, 결측치를 막 적극적으로 메꾸지는 않겠음."
      ],
      "execution_count": 13,
      "outputs": [
        {
          "output_type": "display_data",
          "data": {
            "image/png": "[encoded data removed]",
            "text/plain": [
              "<Figure size 1080x720 with 1 Axes>"
            ]
          },
          "metadata": {
            "needs_background": "light"
          }
        }
      ]
    },
    {
      "cell_type": "code",
      "metadata": {
        "colab": {
          "base_uri": "https://localhost:8080/",
          "height": 358
        },
        "id": "joVmEj9JMCtr",
        "outputId": "c94787e3-0508-4044-9a50-f3a9b58651e1"
      },
      "source": [
        "# 이 그래프가 더 직관적임\n",
        "msno.bar(df=df1.iloc[:, :])"
      ],
      "execution_count": 14,
      "outputs": [
        {
          "output_type": "execute_result",
          "data": {
            "text/plain": [
              "<matplotlib.axes._subplots.AxesSubplot at 0x7f06f19a1650>"
            ]
          },
          "metadata": {},
          "execution_count": 14
        },
        {
          "output_type": "display_data",
          "data": {
            "image/png": "[encoded data removed]",
            "text/plain": [
              "<Figure size 1800x720 with 3 Axes>"
            ]
          },
          "metadata": {
            "needs_background": "light"
          }
        }
      ]
    },
    {
      "cell_type": "code",
      "metadata": {
        "colab": {
          "base_uri": "https://localhost:8080/"
        },
        "id": "UJG25TR7QMek",
        "outputId": "1aefb69b-9fac-4394-fcb9-a3a1b71f3d7f"
      },
      "source": [
        "# 성별 집계를 해보도록 하겠습니다.\n",
        "df1.groupby('sex').size()"
      ],
      "execution_count": 15,
      "outputs": [
        {
          "output_type": "execute_result",
          "data": {
            "text/plain": [
              "sex\n",
              "female    2021\n",
              "male      1653\n",
              "dtype: int64"
            ]
          },
          "metadata": {},
          "execution_count": 15
        }
      ]
    },
    {
      "cell_type": "code",
      "metadata": {
        "colab": {
          "base_uri": "https://localhost:8080/",
          "height": 290
        },
        "id": "9vqJb1wbRT80",
        "outputId": "89fa8630-db4d-4d71-c8e9-9f319559b10f"
      },
      "source": [
        "# 성별 집계를 해보도록 하겠습니다.\n",
        "sex_counts = df1.sex.value_counts()\n",
        "sex_counts = sex_counts.sort_values(ascending=False) # 대 -> 소 순서로 정렬\n",
        "sex_counts.plot.bar(color='turquoise', alpha=0.7)\n",
        "plt.show()"
      ],
      "execution_count": 16,
      "outputs": [
        {
          "output_type": "display_data",
          "data": {
            "image/png": "[encoded data removed]",
            "text/plain": [
              "<Figure size 432x288 with 1 Axes>"
            ]
          },
          "metadata": {
            "needs_background": "light"
          }
        }
      ]
    },
    {
      "cell_type": "code",
      "metadata": {
        "colab": {
          "base_uri": "https://localhost:8080/"
        },
        "id": "37yO4oFqS0ke",
        "outputId": "1b4e77f7-0961-4431-e091-b97873df9ee4"
      },
      "source": [
        "# 연령대별로 집계해본다\n",
        "df1.age\n",
        "# object타입임... 나이'대'를 뜻하는 문자인 s가 붙어서 데이터가 이루어져있음"
      ],
      "execution_count": 17,
      "outputs": [
        {
          "output_type": "execute_result",
          "data": {
            "text/plain": [
              "0       50s\n",
              "1       30s\n",
              "2       50s\n",
              "3       20s\n",
              "4       20s\n",
              "       ... \n",
              "3999    20s\n",
              "4000    30s\n",
              "4001    20s\n",
              "4002    10s\n",
              "4003    30s\n",
              "Name: age, Length: 4004, dtype: object"
            ]
          },
          "metadata": {},
          "execution_count": 17
        }
      ]
    },
    {
      "cell_type": "code",
      "metadata": {
        "id": "qFOsn-STUKob"
      },
      "source": [
        "# s를 떼어보도록 하겠습니다\n",
        "# Series 함수인 str.replace 사용!\n",
        "df1.age.str.replace('s', '', regex=True)\n",
        "df1.age = df1.age.str.replace('s', '', regex=True) # 다시 대입하여 항구적으로 만들어준다"
      ],
      "execution_count": 18,
      "outputs": []
    },
    {
      "cell_type": "code",
      "metadata": {
        "colab": {
          "base_uri": "https://localhost:8080/"
        },
        "id": "Z_0JvcmAV4cl",
        "outputId": "e2510f34-9882-4300-cef2-1a4893afc6a6"
      },
      "source": [
        "age_count = df1.age.value_counts()\n",
        "age_count"
      ],
      "execution_count": 19,
      "outputs": [
        {
          "output_type": "execute_result",
          "data": {
            "text/plain": [
              "20     860\n",
              "50     625\n",
              "30     494\n",
              "40     483\n",
              "60     423\n",
              "70     210\n",
              "80     162\n",
              "10     160\n",
              "0       60\n",
              "90      47\n",
              "100      1\n",
              "Name: age, dtype: int64"
            ]
          },
          "metadata": {},
          "execution_count": 19
        }
      ]
    },
    {
      "cell_type": "code",
      "metadata": {
        "colab": {
          "base_uri": "https://localhost:8080/",
          "height": 292
        },
        "id": "q3Mbh6eYXCPh",
        "outputId": "f293a31d-8a09-4bda-f587-c404f625f043"
      },
      "source": [
        "# 연령대별 환자수. 20대가 가장 많음\n",
        "age_count.plot.bar(color='turquoise', alpha=0.7)"
      ],
      "execution_count": 20,
      "outputs": [
        {
          "output_type": "execute_result",
          "data": {
            "text/plain": [
              "<matplotlib.axes._subplots.AxesSubplot at 0x7f06efaa4250>"
            ]
          },
          "metadata": {},
          "execution_count": 20
        },
        {
          "output_type": "display_data",
          "data": {
            "image/png": "[encoded data removed]",
            "text/plain": [
              "<Figure size 432x288 with 1 Axes>"
            ]
          },
          "metadata": {
            "needs_background": "light"
          }
        }
      ]
    },
    {
      "cell_type": "code",
      "metadata": {
        "colab": {
          "base_uri": "https://localhost:8080/"
        },
        "id": "cLYkEoCfXNz_",
        "outputId": "8d3a9e43-4c46-4289-d742-7a65df227f8b"
      },
      "source": [
        "# 지역별 집계\n",
        "df1.province.value_counts()"
      ],
      "execution_count": 21,
      "outputs": [
        {
          "output_type": "execute_result",
          "data": {
            "text/plain": [
              "Gyeongsangbuk-do     1245\n",
              "Seoul                 863\n",
              "Gyeonggi-do           853\n",
              "Incheon               232\n",
              "Chungcheongnam-do     146\n",
              "Busan                 144\n",
              "Gyeongsangnam-do      122\n",
              "Daegu                  63\n",
              "Gangwon-do             55\n",
              "Chungcheongbuk-do      52\n",
              "Ulsan                  52\n",
              "Sejong                 47\n",
              "Daejeon                46\n",
              "Gwangju                30\n",
              "Jeollabuk-do           21\n",
              "Jeollanam-do           19\n",
              "Jeju-do                14\n",
              "Name: province, dtype: int64"
            ]
          },
          "metadata": {},
          "execution_count": 21
        }
      ]
    },
    {
      "cell_type": "code",
      "metadata": {
        "colab": {
          "base_uri": "https://localhost:8080/"
        },
        "id": "vkiRLNyAb1UQ",
        "outputId": "5a8a412f-d10b-4a9f-be57-9a9df6d77762"
      },
      "source": [
        "# 국적별 집계\n",
        "print(\"고유한 나라의 개수= \", df1.country.nunique())\n",
        "print(\"=\"*30)\n",
        "print(df1.country.value_counts())"
      ],
      "execution_count": 22,
      "outputs": [
        {
          "output_type": "stream",
          "text": [
            "고유한 나라의 개수=  15\n",
            "==============================\n",
            "Korea             3974\n",
            "China               11\n",
            "United States        6\n",
            "Thailand             2\n",
            "Vietnam              1\n",
            "Mongolia             1\n",
            "Foreign              1\n",
            "United Kingdom       1\n",
            "Indonesia            1\n",
            "Spain                1\n",
            "Canada               1\n",
            "Switzerland          1\n",
            "Germany              1\n",
            "France               1\n",
            "Bangladesh           1\n",
            "Name: country, dtype: int64\n"
          ],
          "name": "stdout"
        }
      ]
    },
    {
      "cell_type": "code",
      "metadata": {
        "id": "cbr8AHZ7cUTK",
        "colab": {
          "base_uri": "https://localhost:8080/",
          "height": 354
        },
        "outputId": "86783c82-4424-42f8-a6b4-64b83a457bb0"
      },
      "source": [
        "country_counts = df1.country.value_counts()\n",
        "country_counts.plot.bar(color='turquoise', alpha=0.7)"
      ],
      "execution_count": 23,
      "outputs": [
        {
          "output_type": "execute_result",
          "data": {
            "text/plain": [
              "<matplotlib.axes._subplots.AxesSubplot at 0x7f06efabbad0>"
            ]
          },
          "metadata": {},
          "execution_count": 23
        },
        {
          "output_type": "display_data",
          "data": {
            "image/png": "[encoded data removed]",
            "text/plain": [
              "<Figure size 432x288 with 1 Axes>"
            ]
          },
          "metadata": {
            "needs_background": "light"
          }
        }
      ]
    },
    {
      "cell_type": "code",
      "metadata": {
        "colab": {
          "base_uri": "https://localhost:8080/"
        },
        "id": "QsSP-NRsUDCH",
        "outputId": "28ac971c-4985-484a-d2f3-7867757f816a"
      },
      "source": [
        "# 코리아가 단연 많습니다.\n",
        "# 이렇게 생각해보죠. 국내인 대비 외국인\n",
        "# 그럼 어떻게 집계할까요\n",
        "\n",
        "df1.country == 'Korea'"
      ],
      "execution_count": 24,
      "outputs": [
        {
          "output_type": "execute_result",
          "data": {
            "text/plain": [
              "0        True\n",
              "1        True\n",
              "2        True\n",
              "3        True\n",
              "4        True\n",
              "        ...  \n",
              "3999     True\n",
              "4000     True\n",
              "4001     True\n",
              "4002    False\n",
              "4003     True\n",
              "Name: country, Length: 4004, dtype: bool"
            ]
          },
          "metadata": {},
          "execution_count": 24
        }
      ]
    },
    {
      "cell_type": "code",
      "metadata": {
        "colab": {
          "base_uri": "https://localhost:8080/",
          "height": 321
        },
        "id": "Ufa9jKitUier",
        "outputId": "43a77e27-d32d-446d-ff74-0809788c0d0a"
      },
      "source": [
        "country_counts = (df1.country=='Korea').value_counts()\n",
        "country_counts.index = ['Korean', \"Foreigner\"]\n",
        "country_counts.plot.bar(color='turquoise', alpha=0.7)"
      ],
      "execution_count": 25,
      "outputs": [
        {
          "output_type": "execute_result",
          "data": {
            "text/plain": [
              "<matplotlib.axes._subplots.AxesSubplot at 0x7f06fae01b10>"
            ]
          },
          "metadata": {},
          "execution_count": 25
        },
        {
          "output_type": "display_data",
          "data": {
            "image/png": "[encoded data removed]",
            "text/plain": [
              "<Figure size 432x288 with 1 Axes>"
            ]
          },
          "metadata": {
            "needs_background": "light"
          }
        }
      ]
    },
    {
      "cell_type": "code",
      "metadata": {
        "colab": {
          "base_uri": "https://localhost:8080/",
          "height": 321
        },
        "id": "TRkOrPozVUYl",
        "outputId": "054bf7f8-97a8-46a2-d89a-1ac6f0b21bee"
      },
      "source": [
        "# 현재 상태 별로 집계한다\n",
        "state_counts = df1.state.value_counts()\n",
        "state_counts.plot.bar(color='pink', alpha=0.7)\n",
        "# 퇴원이 가장 많고, 그 다음이 격리중, 그다음 사망"
      ],
      "execution_count": 26,
      "outputs": [
        {
          "output_type": "execute_result",
          "data": {
            "text/plain": [
              "<matplotlib.axes._subplots.AxesSubplot at 0x7f06f1a8b4d0>"
            ]
          },
          "metadata": {},
          "execution_count": 26
        },
        {
          "output_type": "display_data",
          "data": {
            "image/png": "[encoded data removed]",
            "text/plain": [
              "<Figure size 432x288 with 1 Axes>"
            ]
          },
          "metadata": {
            "needs_background": "light"
          }
        }
      ]
    },
    {
      "cell_type": "code",
      "metadata": {
        "colab": {
          "base_uri": "https://localhost:8080/"
        },
        "id": "afesidO0WdGf",
        "outputId": "a7950f80-babc-445a-d653-e17e9752e598"
      },
      "source": [
        "# 기저질환 여부별로 집계한다.\n",
        "df1.disease.count()\n",
        "\n",
        "# 기저질환은, 결측치가 아닌 것이 18개밖에 없음..\n",
        "# 기저질환 가지고서는 정상값의 수가 절대적으로 부족해서 분석이 불가능함\n",
        "# 기저질환 가지고서는 분석을 하지 않겠어요!"
      ],
      "execution_count": 27,
      "outputs": [
        {
          "output_type": "execute_result",
          "data": {
            "text/plain": [
              "18"
            ]
          },
          "metadata": {},
          "execution_count": 27
        }
      ]
    },
    {
      "cell_type": "markdown",
      "metadata": {
        "id": "o58FYnlQXX4v"
      },
      "source": [
        "변수를 두개씩 조합해서 분석해보자"
      ]
    },
    {
      "cell_type": "code",
      "metadata": {
        "colab": {
          "base_uri": "https://localhost:8080/",
          "height": 647
        },
        "id": "D1oKzfaOYRkJ",
        "outputId": "f23a25a1-2b54-4ccb-cb74-e66f001f1394"
      },
      "source": [
        "# 연령대와 성별을 조합해서 시각화해본다.\n",
        "\n",
        "# 연령대별 성\n",
        "df1.sex\n",
        "df1.age\n",
        "ct = pd.crosstab(df1.age,df1.sex)\n",
        "print(ct)\n",
        "ct[\"total\"] = ct.male + ct.female\n",
        "ct.sort_values(by='total', ascending=False)"
      ],
      "execution_count": 28,
      "outputs": [
        {
          "output_type": "stream",
          "text": [
            "sex  female  male\n",
            "age              \n",
            "0        26    34\n",
            "10       64    96\n",
            "100       1     0\n",
            "20      442   417\n",
            "30      235   259\n",
            "40      290   193\n",
            "50      376   249\n",
            "60      236   187\n",
            "70      129    81\n",
            "80      110    52\n",
            "90       31    16\n"
          ],
          "name": "stdout"
        },
        {
          "output_type": "execute_result",
          "data": {
            "text/html": [
              "<div>\n",
              "<style scoped>\n",
              "    .dataframe tbody tr th:only-of-type {\n",
              "        vertical-align: middle;\n",
              "    }\n",
              "\n",
              "    .dataframe tbody tr th {\n",
              "        vertical-align: top;\n",
              "    }\n",
              "\n",
              "    .dataframe thead th {\n",
              "        text-align: right;\n",
              "    }\n",
              "</style>\n",
              "<table border=\"1\" class=\"dataframe\">\n",
              "  <thead>\n",
              "    <tr style=\"text-align: right;\">\n",
              "      <th>sex</th>\n",
              "      <th>female</th>\n",
              "      <th>male</th>\n",
              "      <th>total</th>\n",
              "    </tr>\n",
              "    <tr>\n",
              "      <th>age</th>\n",
              "      <th></th>\n",
              "      <th></th>\n",
              "      <th></th>\n",
              "    </tr>\n",
              "  </thead>\n",
              "  <tbody>\n",
              "    <tr>\n",
              "      <th>20</th>\n",
              "      <td>442</td>\n",
              "      <td>417</td>\n",
              "      <td>859</td>\n",
              "    </tr>\n",
              "    <tr>\n",
              "      <th>50</th>\n",
              "      <td>376</td>\n",
              "      <td>249</td>\n",
              "      <td>625</td>\n",
              "    </tr>\n",
              "    <tr>\n",
              "      <th>30</th>\n",
              "      <td>235</td>\n",
              "      <td>259</td>\n",
              "      <td>494</td>\n",
              "    </tr>\n",
              "    <tr>\n",
              "      <th>40</th>\n",
              "      <td>290</td>\n",
              "      <td>193</td>\n",
              "      <td>483</td>\n",
              "    </tr>\n",
              "    <tr>\n",
              "      <th>60</th>\n",
              "      <td>236</td>\n",
              "      <td>187</td>\n",
              "      <td>423</td>\n",
              "    </tr>\n",
              "    <tr>\n",
              "      <th>70</th>\n",
              "      <td>129</td>\n",
              "      <td>81</td>\n",
              "      <td>210</td>\n",
              "    </tr>\n",
              "    <tr>\n",
              "      <th>80</th>\n",
              "      <td>110</td>\n",
              "      <td>52</td>\n",
              "      <td>162</td>\n",
              "    </tr>\n",
              "    <tr>\n",
              "      <th>10</th>\n",
              "      <td>64</td>\n",
              "      <td>96</td>\n",
              "      <td>160</td>\n",
              "    </tr>\n",
              "    <tr>\n",
              "      <th>0</th>\n",
              "      <td>26</td>\n",
              "      <td>34</td>\n",
              "      <td>60</td>\n",
              "    </tr>\n",
              "    <tr>\n",
              "      <th>90</th>\n",
              "      <td>31</td>\n",
              "      <td>16</td>\n",
              "      <td>47</td>\n",
              "    </tr>\n",
              "    <tr>\n",
              "      <th>100</th>\n",
              "      <td>1</td>\n",
              "      <td>0</td>\n",
              "      <td>1</td>\n",
              "    </tr>\n",
              "  </tbody>\n",
              "</table>\n",
              "</div>"
            ],
            "text/plain": [
              "sex  female  male  total\n",
              "age                     \n",
              "20      442   417    859\n",
              "50      376   249    625\n",
              "30      235   259    494\n",
              "40      290   193    483\n",
              "60      236   187    423\n",
              "70      129    81    210\n",
              "80      110    52    162\n",
              "10       64    96    160\n",
              "0        26    34     60\n",
              "90       31    16     47\n",
              "100       1     0      1"
            ]
          },
          "metadata": {},
          "execution_count": 28
        }
      ]
    },
    {
      "cell_type": "code",
      "metadata": {
        "colab": {
          "base_uri": "https://localhost:8080/",
          "height": 306
        },
        "id": "TxdhTRQnYtvs",
        "outputId": "82058ea1-947e-413d-d97d-c85a29ff9e14"
      },
      "source": [
        "# 정렬은 total로 하되, 실제 가져오는 것은 male과 female로 시각화해본다\n",
        "ct.sort_values(by='total', ascending=False)[[\"male\", \"female\"]].plot.bar()"
      ],
      "execution_count": 29,
      "outputs": [
        {
          "output_type": "execute_result",
          "data": {
            "text/plain": [
              "<matplotlib.axes._subplots.AxesSubplot at 0x7f06efa08bd0>"
            ]
          },
          "metadata": {},
          "execution_count": 29
        },
        {
          "output_type": "display_data",
          "data": {
            "image/png": "[encoded data removed]",
            "text/plain": [
              "<Figure size 432x288 with 1 Axes>"
            ]
          },
          "metadata": {
            "needs_background": "light"
          }
        }
      ]
    },
    {
      "cell_type": "code",
      "metadata": {
        "colab": {
          "base_uri": "https://localhost:8080/",
          "height": 306
        },
        "id": "wDNSLzzpbQqY",
        "outputId": "2dc1238f-0dac-43cb-81d2-2ddba1dd1034"
      },
      "source": [
        "ct.sort_values(by='total', ascending=False)[[\"male\", \"female\"]].plot.bar(stacked = True)\n",
        "# 연령대별 성별 시각화!\n",
        "# 두 개의 변수를 활용!!"
      ],
      "execution_count": 30,
      "outputs": [
        {
          "output_type": "execute_result",
          "data": {
            "text/plain": [
              "<matplotlib.axes._subplots.AxesSubplot at 0x7f06ef9e6e90>"
            ]
          },
          "metadata": {},
          "execution_count": 30
        },
        {
          "output_type": "display_data",
          "data": {
            "image/png": "[encoded data removed]",
            "text/plain": [
              "<Figure size 432x288 with 1 Axes>"
            ]
          },
          "metadata": {
            "needs_background": "light"
          }
        }
      ]
    },
    {
      "cell_type": "code",
      "metadata": {
        "colab": {
          "base_uri": "https://localhost:8080/",
          "height": 418
        },
        "id": "5yTogit_bdtH",
        "outputId": "c9969a48-0a9c-4495-f979-ab41fb1db083"
      },
      "source": [
        "# 연령대별 사망비율\n",
        "ct = pd.crosstab(df1.age, df1.state == 'deceased')\n",
        "\n",
        "# 컬럼 이름 바꾸기 True,False -> alive, deceased\n",
        "# ct.rename(columns={False:\"alive\", True:\"deceased\"}, inplace=True)\n",
        "ct.columns = [\"alive\", \"deceased\"]\n",
        "ct"
      ],
      "execution_count": 31,
      "outputs": [
        {
          "output_type": "execute_result",
          "data": {
            "text/html": [
              "<div>\n",
              "<style scoped>\n",
              "    .dataframe tbody tr th:only-of-type {\n",
              "        vertical-align: middle;\n",
              "    }\n",
              "\n",
              "    .dataframe tbody tr th {\n",
              "        vertical-align: top;\n",
              "    }\n",
              "\n",
              "    .dataframe thead th {\n",
              "        text-align: right;\n",
              "    }\n",
              "</style>\n",
              "<table border=\"1\" class=\"dataframe\">\n",
              "  <thead>\n",
              "    <tr style=\"text-align: right;\">\n",
              "      <th></th>\n",
              "      <th>alive</th>\n",
              "      <th>deceased</th>\n",
              "    </tr>\n",
              "    <tr>\n",
              "      <th>age</th>\n",
              "      <th></th>\n",
              "      <th></th>\n",
              "    </tr>\n",
              "  </thead>\n",
              "  <tbody>\n",
              "    <tr>\n",
              "      <th>0</th>\n",
              "      <td>60</td>\n",
              "      <td>0</td>\n",
              "    </tr>\n",
              "    <tr>\n",
              "      <th>10</th>\n",
              "      <td>160</td>\n",
              "      <td>0</td>\n",
              "    </tr>\n",
              "    <tr>\n",
              "      <th>100</th>\n",
              "      <td>1</td>\n",
              "      <td>0</td>\n",
              "    </tr>\n",
              "    <tr>\n",
              "      <th>20</th>\n",
              "      <td>860</td>\n",
              "      <td>0</td>\n",
              "    </tr>\n",
              "    <tr>\n",
              "      <th>30</th>\n",
              "      <td>493</td>\n",
              "      <td>1</td>\n",
              "    </tr>\n",
              "    <tr>\n",
              "      <th>40</th>\n",
              "      <td>481</td>\n",
              "      <td>2</td>\n",
              "    </tr>\n",
              "    <tr>\n",
              "      <th>50</th>\n",
              "      <td>618</td>\n",
              "      <td>7</td>\n",
              "    </tr>\n",
              "    <tr>\n",
              "      <th>60</th>\n",
              "      <td>411</td>\n",
              "      <td>12</td>\n",
              "    </tr>\n",
              "    <tr>\n",
              "      <th>70</th>\n",
              "      <td>190</td>\n",
              "      <td>20</td>\n",
              "    </tr>\n",
              "    <tr>\n",
              "      <th>80</th>\n",
              "      <td>137</td>\n",
              "      <td>25</td>\n",
              "    </tr>\n",
              "    <tr>\n",
              "      <th>90</th>\n",
              "      <td>40</td>\n",
              "      <td>7</td>\n",
              "    </tr>\n",
              "  </tbody>\n",
              "</table>\n",
              "</div>"
            ],
            "text/plain": [
              "     alive  deceased\n",
              "age                 \n",
              "0       60         0\n",
              "10     160         0\n",
              "100      1         0\n",
              "20     860         0\n",
              "30     493         1\n",
              "40     481         2\n",
              "50     618         7\n",
              "60     411        12\n",
              "70     190        20\n",
              "80     137        25\n",
              "90      40         7"
            ]
          },
          "metadata": {},
          "execution_count": 31
        }
      ]
    },
    {
      "cell_type": "code",
      "metadata": {
        "colab": {
          "base_uri": "https://localhost:8080/",
          "height": 418
        },
        "id": "v83pZefecVd5",
        "outputId": "4fe1cf4f-5d8a-4c37-99f9-cd8186818cad"
      },
      "source": [
        "# 사망률을 구해보자.\n",
        "ct[\"mortality\"] = ct.deceased / (ct.deceased + ct.alive)\n",
        "ct"
      ],
      "execution_count": 32,
      "outputs": [
        {
          "output_type": "execute_result",
          "data": {
            "text/html": [
              "<div>\n",
              "<style scoped>\n",
              "    .dataframe tbody tr th:only-of-type {\n",
              "        vertical-align: middle;\n",
              "    }\n",
              "\n",
              "    .dataframe tbody tr th {\n",
              "        vertical-align: top;\n",
              "    }\n",
              "\n",
              "    .dataframe thead th {\n",
              "        text-align: right;\n",
              "    }\n",
              "</style>\n",
              "<table border=\"1\" class=\"dataframe\">\n",
              "  <thead>\n",
              "    <tr style=\"text-align: right;\">\n",
              "      <th></th>\n",
              "      <th>alive</th>\n",
              "      <th>deceased</th>\n",
              "      <th>mortality</th>\n",
              "    </tr>\n",
              "    <tr>\n",
              "      <th>age</th>\n",
              "      <th></th>\n",
              "      <th></th>\n",
              "      <th></th>\n",
              "    </tr>\n",
              "  </thead>\n",
              "  <tbody>\n",
              "    <tr>\n",
              "      <th>0</th>\n",
              "      <td>60</td>\n",
              "      <td>0</td>\n",
              "      <td>0.0000</td>\n",
              "    </tr>\n",
              "    <tr>\n",
              "      <th>10</th>\n",
              "      <td>160</td>\n",
              "      <td>0</td>\n",
              "      <td>0.0000</td>\n",
              "    </tr>\n",
              "    <tr>\n",
              "      <th>100</th>\n",
              "      <td>1</td>\n",
              "      <td>0</td>\n",
              "      <td>0.0000</td>\n",
              "    </tr>\n",
              "    <tr>\n",
              "      <th>20</th>\n",
              "      <td>860</td>\n",
              "      <td>0</td>\n",
              "      <td>0.0000</td>\n",
              "    </tr>\n",
              "    <tr>\n",
              "      <th>30</th>\n",
              "      <td>493</td>\n",
              "      <td>1</td>\n",
              "      <td>0.0020</td>\n",
              "    </tr>\n",
              "    <tr>\n",
              "      <th>40</th>\n",
              "      <td>481</td>\n",
              "      <td>2</td>\n",
              "      <td>0.0041</td>\n",
              "    </tr>\n",
              "    <tr>\n",
              "      <th>50</th>\n",
              "      <td>618</td>\n",
              "      <td>7</td>\n",
              "      <td>0.0112</td>\n",
              "    </tr>\n",
              "    <tr>\n",
              "      <th>60</th>\n",
              "      <td>411</td>\n",
              "      <td>12</td>\n",
              "      <td>0.0284</td>\n",
              "    </tr>\n",
              "    <tr>\n",
              "      <th>70</th>\n",
              "      <td>190</td>\n",
              "      <td>20</td>\n",
              "      <td>0.0952</td>\n",
              "    </tr>\n",
              "    <tr>\n",
              "      <th>80</th>\n",
              "      <td>137</td>\n",
              "      <td>25</td>\n",
              "      <td>0.1543</td>\n",
              "    </tr>\n",
              "    <tr>\n",
              "      <th>90</th>\n",
              "      <td>40</td>\n",
              "      <td>7</td>\n",
              "      <td>0.1489</td>\n",
              "    </tr>\n",
              "  </tbody>\n",
              "</table>\n",
              "</div>"
            ],
            "text/plain": [
              "     alive  deceased  mortality\n",
              "age                            \n",
              "0       60         0     0.0000\n",
              "10     160         0     0.0000\n",
              "100      1         0     0.0000\n",
              "20     860         0     0.0000\n",
              "30     493         1     0.0020\n",
              "40     481         2     0.0041\n",
              "50     618         7     0.0112\n",
              "60     411        12     0.0284\n",
              "70     190        20     0.0952\n",
              "80     137        25     0.1543\n",
              "90      40         7     0.1489"
            ]
          },
          "metadata": {},
          "execution_count": 32
        }
      ]
    },
    {
      "cell_type": "code",
      "metadata": {
        "colab": {
          "base_uri": "https://localhost:8080/"
        },
        "id": "ASXQAqdCdxRJ",
        "outputId": "153fcfc4-afe6-43e1-9084-69d59ddf2228"
      },
      "source": [
        "# 사망률 컬럼만 가져오기\n",
        "ct.sort_values(by=\"mortality\", ascending=False)[\"mortality\"]"
      ],
      "execution_count": 33,
      "outputs": [
        {
          "output_type": "execute_result",
          "data": {
            "text/plain": [
              "age\n",
              "80     0.1543\n",
              "90     0.1489\n",
              "70     0.0952\n",
              "60     0.0284\n",
              "50     0.0112\n",
              "40     0.0041\n",
              "30     0.0020\n",
              "0      0.0000\n",
              "10     0.0000\n",
              "100    0.0000\n",
              "20     0.0000\n",
              "Name: mortality, dtype: float64"
            ]
          },
          "metadata": {},
          "execution_count": 33
        }
      ]
    },
    {
      "cell_type": "code",
      "metadata": {
        "colab": {
          "base_uri": "https://localhost:8080/",
          "height": 289
        },
        "id": "9culSqfZeHQE",
        "outputId": "1987bade-b4e5-408d-c74d-b7f201fd3ed1"
      },
      "source": [
        "ct.sort_values(by=\"mortality\", ascending=False)[\"mortality\"].plot.bar(color='orange')\n",
        "plt.show()"
      ],
      "execution_count": 34,
      "outputs": [
        {
          "output_type": "display_data",
          "data": {
            "image/png": "[encoded data removed]",
            "text/plain": [
              "<Figure size 432x288 with 1 Axes>"
            ]
          },
          "metadata": {
            "needs_background": "light"
          }
        }
      ]
    },
    {
      "cell_type": "code",
      "metadata": {
        "colab": {
          "base_uri": "https://localhost:8080/",
          "height": 304
        },
        "id": "pV64EJoKeZjW",
        "outputId": "27bcdedb-8c03-4364-dce3-aea21bd800f7"
      },
      "source": [
        "# 성별 사망비율 (연령대별 사망비율에서 변수를 age -> sex 로 살짝 바꾸기만 하면 똑같음!)\n",
        "ct = pd.crosstab(df1.sex, df1.state == 'deceased')\n",
        "\n",
        "# 컬럼 이름 바꾸기 True,False -> alive, deceased\n",
        "# ct.rename(columns={False:\"alive\", True:\"deceased\"}, inplace=True)\n",
        "ct.columns = [\"alive\", \"deceased\"]\n",
        "ct\n",
        "\n",
        "# 사망률을 구해보자.\n",
        "ct[\"mortality\"] = ct.deceased / (ct.deceased + ct.alive)\n",
        "ct\n",
        "# 사망률 컬럼만 가져오기\n",
        "ct.sort_values(by=\"mortality\", ascending=False)[\"mortality\"]\n",
        "\n",
        "ct.sort_values(by=\"mortality\", ascending=False)[\"mortality\"].plot.bar(color='orange')\n",
        "plt.show()\n",
        "\n",
        "# 남성은 3% 정도 사망, 여성은 1.3% 정도 사망"
      ],
      "execution_count": 35,
      "outputs": [
        {
          "output_type": "display_data",
          "data": {
            "image/png": "[encoded data removed]",
            "text/plain": [
              "<Figure size 432x288 with 1 Axes>"
            ]
          },
          "metadata": {
            "needs_background": "light"
          }
        }
      ]
    },
    {
      "cell_type": "markdown",
      "metadata": {
        "id": "FfsRrFZNfEcT"
      },
      "source": [
        "# 3. 감염경로유형 (infection case)\n",
        "감염경로 유형, 아주 중요하다.\n",
        "왜냐, 감염경로와 환자의 동선을 가지고 \"인사이트\"를 도출하려고 하기 때문\n",
        "\n",
        "**최종 목표 : 감염경로와 환자의 동선을 바탕으로 \"인사이트\" 도출하기**"
      ]
    },
    {
      "cell_type": "code",
      "metadata": {
        "colab": {
          "base_uri": "https://localhost:8080/"
        },
        "id": "JHw7jQSSsuGW",
        "outputId": "ecb8f678-c3fc-4cd7-9936-d19198a347fa"
      },
      "source": [
        "# 감염경로의 유형출력\n",
        "df1.infection_case.value_counts()"
      ],
      "execution_count": 38,
      "outputs": [
        {
          "output_type": "execute_result",
          "data": {
            "text/plain": [
              "contact with patient                     1182\n",
              "overseas inflow                           703\n",
              "etc                                       601\n",
              "Itaewon Clubs                             156\n",
              "Guro-gu Call Center                       112\n",
              "Shincheonji Church                        107\n",
              "Coupang Logistics Center                   70\n",
              "Onchun Church                              33\n",
              "Bonghwa Pureun Nursing Home                31\n",
              "gym facility in Cheonan                    30\n",
              "Ministry of Oceans and Fisheries           28\n",
              "Cheongdo Daenam Hospital                   21\n",
              "Dongan Church                              17\n",
              "Eunpyeong St. Mary's Hospital              16\n",
              "Gyeongsan Seorin Nursing Home              15\n",
              "Seongdong-gu APT                           13\n",
              "Gyeongsan Jeil Silver Town                 12\n",
              "Milal Shelter                              11\n",
              "Gyeongsan Cham Joeun Community Center      10\n",
              "KB Life Insurance                           8\n",
              "Samsung Medical Center                      7\n",
              "Geochang Church                             6\n",
              "Guri Collective Infection                   6\n",
              "Changnyeong Coin Karaoke                    4\n",
              "gym facility in Sejong                      4\n",
              "Suyeong-gu Kindergarten                     3\n",
              "Yeongdeungpo Learning Institute             2\n",
              "Pilgrimage to Israel                        2\n",
              "River of Grace Community Church             1\n",
              "Name: infection_case, dtype: int64"
            ]
          },
          "metadata": {},
          "execution_count": 38
        }
      ]
    },
    {
      "cell_type": "code",
      "metadata": {
        "colab": {
          "base_uri": "https://localhost:8080/"
        },
        "id": "K3K4x0urs-HI",
        "outputId": "a77115e8-80ff-4879-9e45-ede627d8d02f"
      },
      "source": [
        "# 감염경로 유형의 고유한 개수 29개\n",
        "print(df1.infection_case.nunique())"
      ],
      "execution_count": 39,
      "outputs": [
        {
          "output_type": "stream",
          "text": [
            "29\n"
          ],
          "name": "stdout"
        }
      ]
    },
    {
      "cell_type": "code",
      "metadata": {
        "id": "5WMcKpB9ughG"
      },
      "source": [
        "res = df1.groupby('infection_case')['patient_id'].count() # value_counts()와 동일한 기능\n",
        "# patient_id 대신에도, 결측치가 없는 컬럼을 넣어줘도 동일한 결과가 나옴!"
      ],
      "execution_count": 62,
      "outputs": []
    },
    {
      "cell_type": "code",
      "metadata": {
        "colab": {
          "base_uri": "https://localhost:8080/"
        },
        "id": "mmpthr_BuzSA",
        "outputId": "351cb834-23ab-47c9-9ba4-b5f96b3d0e22"
      },
      "source": [
        "print(res)\n",
        "print(\"타입: \", type(res)) # Series 타입임"
      ],
      "execution_count": 63,
      "outputs": [
        {
          "output_type": "stream",
          "text": [
            "infection_case\n",
            "Bonghwa Pureun Nursing Home                31\n",
            "Changnyeong Coin Karaoke                    4\n",
            "Cheongdo Daenam Hospital                   21\n",
            "Coupang Logistics Center                   70\n",
            "Dongan Church                              17\n",
            "Eunpyeong St. Mary's Hospital              16\n",
            "Geochang Church                             6\n",
            "Guri Collective Infection                   6\n",
            "Guro-gu Call Center                       112\n",
            "Gyeongsan Cham Joeun Community Center      10\n",
            "Gyeongsan Jeil Silver Town                 12\n",
            "Gyeongsan Seorin Nursing Home              15\n",
            "Itaewon Clubs                             156\n",
            "KB Life Insurance                           8\n",
            "Milal Shelter                              11\n",
            "Ministry of Oceans and Fisheries           28\n",
            "Onchun Church                              33\n",
            "Pilgrimage to Israel                        2\n",
            "River of Grace Community Church             1\n",
            "Samsung Medical Center                      7\n",
            "Seongdong-gu APT                           13\n",
            "Shincheonji Church                        107\n",
            "Suyeong-gu Kindergarten                     3\n",
            "Yeongdeungpo Learning Institute             2\n",
            "contact with patient                     1182\n",
            "etc                                       601\n",
            "gym facility in Cheonan                    30\n",
            "gym facility in Sejong                      4\n",
            "overseas inflow                           703\n",
            "Name: patient_id, dtype: int64\n",
            "타입:  <class 'pandas.core.series.Series'>\n"
          ],
          "name": "stdout"
        }
      ]
    },
    {
      "cell_type": "code",
      "metadata": {
        "colab": {
          "base_uri": "https://localhost:8080/",
          "height": 960
        },
        "id": "XqIxqCbrvzcG",
        "outputId": "b56c1fb9-c670-465b-b77f-8541665748a5"
      },
      "source": [
        "# 인덱스를 컬럼으로 만드는 법\n",
        "res = res.reset_index()\n",
        "res\n",
        "print(type(res)) # 타입이 DataFrame으로 바뀜!\n",
        "res"
      ],
      "execution_count": 64,
      "outputs": [
        {
          "output_type": "stream",
          "text": [
            "<class 'pandas.core.frame.DataFrame'>\n"
          ],
          "name": "stdout"
        },
        {
          "output_type": "execute_result",
          "data": {
            "text/html": [
              "<div>\n",
              "<style scoped>\n",
              "    .dataframe tbody tr th:only-of-type {\n",
              "        vertical-align: middle;\n",
              "    }\n",
              "\n",
              "    .dataframe tbody tr th {\n",
              "        vertical-align: top;\n",
              "    }\n",
              "\n",
              "    .dataframe thead th {\n",
              "        text-align: right;\n",
              "    }\n",
              "</style>\n",
              "<table border=\"1\" class=\"dataframe\">\n",
              "  <thead>\n",
              "    <tr style=\"text-align: right;\">\n",
              "      <th></th>\n",
              "      <th>infection_case</th>\n",
              "      <th>patient_id</th>\n",
              "    </tr>\n",
              "  </thead>\n",
              "  <tbody>\n",
              "    <tr>\n",
              "      <th>0</th>\n",
              "      <td>Bonghwa Pureun Nursing Home</td>\n",
              "      <td>31</td>\n",
              "    </tr>\n",
              "    <tr>\n",
              "      <th>1</th>\n",
              "      <td>Changnyeong Coin Karaoke</td>\n",
              "      <td>4</td>\n",
              "    </tr>\n",
              "    <tr>\n",
              "      <th>2</th>\n",
              "      <td>Cheongdo Daenam Hospital</td>\n",
              "      <td>21</td>\n",
              "    </tr>\n",
              "    <tr>\n",
              "      <th>3</th>\n",
              "      <td>Coupang Logistics Center</td>\n",
              "      <td>70</td>\n",
              "    </tr>\n",
              "    <tr>\n",
              "      <th>4</th>\n",
              "      <td>Dongan Church</td>\n",
              "      <td>17</td>\n",
              "    </tr>\n",
              "    <tr>\n",
              "      <th>5</th>\n",
              "      <td>Eunpyeong St. Mary's Hospital</td>\n",
              "      <td>16</td>\n",
              "    </tr>\n",
              "    <tr>\n",
              "      <th>6</th>\n",
              "      <td>Geochang Church</td>\n",
              "      <td>6</td>\n",
              "    </tr>\n",
              "    <tr>\n",
              "      <th>7</th>\n",
              "      <td>Guri Collective Infection</td>\n",
              "      <td>6</td>\n",
              "    </tr>\n",
              "    <tr>\n",
              "      <th>8</th>\n",
              "      <td>Guro-gu Call Center</td>\n",
              "      <td>112</td>\n",
              "    </tr>\n",
              "    <tr>\n",
              "      <th>9</th>\n",
              "      <td>Gyeongsan Cham Joeun Community Center</td>\n",
              "      <td>10</td>\n",
              "    </tr>\n",
              "    <tr>\n",
              "      <th>10</th>\n",
              "      <td>Gyeongsan Jeil Silver Town</td>\n",
              "      <td>12</td>\n",
              "    </tr>\n",
              "    <tr>\n",
              "      <th>11</th>\n",
              "      <td>Gyeongsan Seorin Nursing Home</td>\n",
              "      <td>15</td>\n",
              "    </tr>\n",
              "    <tr>\n",
              "      <th>12</th>\n",
              "      <td>Itaewon Clubs</td>\n",
              "      <td>156</td>\n",
              "    </tr>\n",
              "    <tr>\n",
              "      <th>13</th>\n",
              "      <td>KB Life Insurance</td>\n",
              "      <td>8</td>\n",
              "    </tr>\n",
              "    <tr>\n",
              "      <th>14</th>\n",
              "      <td>Milal Shelter</td>\n",
              "      <td>11</td>\n",
              "    </tr>\n",
              "    <tr>\n",
              "      <th>15</th>\n",
              "      <td>Ministry of Oceans and Fisheries</td>\n",
              "      <td>28</td>\n",
              "    </tr>\n",
              "    <tr>\n",
              "      <th>16</th>\n",
              "      <td>Onchun Church</td>\n",
              "      <td>33</td>\n",
              "    </tr>\n",
              "    <tr>\n",
              "      <th>17</th>\n",
              "      <td>Pilgrimage to Israel</td>\n",
              "      <td>2</td>\n",
              "    </tr>\n",
              "    <tr>\n",
              "      <th>18</th>\n",
              "      <td>River of Grace Community Church</td>\n",
              "      <td>1</td>\n",
              "    </tr>\n",
              "    <tr>\n",
              "      <th>19</th>\n",
              "      <td>Samsung Medical Center</td>\n",
              "      <td>7</td>\n",
              "    </tr>\n",
              "    <tr>\n",
              "      <th>20</th>\n",
              "      <td>Seongdong-gu APT</td>\n",
              "      <td>13</td>\n",
              "    </tr>\n",
              "    <tr>\n",
              "      <th>21</th>\n",
              "      <td>Shincheonji Church</td>\n",
              "      <td>107</td>\n",
              "    </tr>\n",
              "    <tr>\n",
              "      <th>22</th>\n",
              "      <td>Suyeong-gu Kindergarten</td>\n",
              "      <td>3</td>\n",
              "    </tr>\n",
              "    <tr>\n",
              "      <th>23</th>\n",
              "      <td>Yeongdeungpo Learning Institute</td>\n",
              "      <td>2</td>\n",
              "    </tr>\n",
              "    <tr>\n",
              "      <th>24</th>\n",
              "      <td>contact with patient</td>\n",
              "      <td>1182</td>\n",
              "    </tr>\n",
              "    <tr>\n",
              "      <th>25</th>\n",
              "      <td>etc</td>\n",
              "      <td>601</td>\n",
              "    </tr>\n",
              "    <tr>\n",
              "      <th>26</th>\n",
              "      <td>gym facility in Cheonan</td>\n",
              "      <td>30</td>\n",
              "    </tr>\n",
              "    <tr>\n",
              "      <th>27</th>\n",
              "      <td>gym facility in Sejong</td>\n",
              "      <td>4</td>\n",
              "    </tr>\n",
              "    <tr>\n",
              "      <th>28</th>\n",
              "      <td>overseas inflow</td>\n",
              "      <td>703</td>\n",
              "    </tr>\n",
              "  </tbody>\n",
              "</table>\n",
              "</div>"
            ],
            "text/plain": [
              "                           infection_case  patient_id\n",
              "0             Bonghwa Pureun Nursing Home          31\n",
              "1                Changnyeong Coin Karaoke           4\n",
              "2                Cheongdo Daenam Hospital          21\n",
              "3                Coupang Logistics Center          70\n",
              "4                           Dongan Church          17\n",
              "5           Eunpyeong St. Mary's Hospital          16\n",
              "6                         Geochang Church           6\n",
              "7               Guri Collective Infection           6\n",
              "8                     Guro-gu Call Center         112\n",
              "9   Gyeongsan Cham Joeun Community Center          10\n",
              "10             Gyeongsan Jeil Silver Town          12\n",
              "11          Gyeongsan Seorin Nursing Home          15\n",
              "12                          Itaewon Clubs         156\n",
              "13                      KB Life Insurance           8\n",
              "14                          Milal Shelter          11\n",
              "15       Ministry of Oceans and Fisheries          28\n",
              "16                          Onchun Church          33\n",
              "17                   Pilgrimage to Israel           2\n",
              "18        River of Grace Community Church           1\n",
              "19                 Samsung Medical Center           7\n",
              "20                       Seongdong-gu APT          13\n",
              "21                     Shincheonji Church         107\n",
              "22                Suyeong-gu Kindergarten           3\n",
              "23        Yeongdeungpo Learning Institute           2\n",
              "24                   contact with patient        1182\n",
              "25                                    etc         601\n",
              "26                gym facility in Cheonan          30\n",
              "27                 gym facility in Sejong           4\n",
              "28                        overseas inflow         703"
            ]
          },
          "metadata": {},
          "execution_count": 64
        }
      ]
    },
    {
      "cell_type": "code",
      "metadata": {
        "colab": {
          "base_uri": "https://localhost:8080/",
          "height": 942
        },
        "id": "_uXkEZUzwdX1",
        "outputId": "eaae2ab1-7786-49b3-a1b1-f704e1f26345"
      },
      "source": [
        "# 컬럼 이름 바꾸기\n",
        "# res.columns = ['infection case', 'count']\n",
        "res.rename(columns={'infection_case':'infection case', 'patient_id':'count'}, inplace=True) # rename을 사용하면 특정 컬럼만을 타겟팅할 수 있음\n",
        "# inplace=True로 설정하여 항구적으로 만들어주기\n",
        "res"
      ],
      "execution_count": 72,
      "outputs": [
        {
          "output_type": "execute_result",
          "data": {
            "text/html": [
              "<div>\n",
              "<style scoped>\n",
              "    .dataframe tbody tr th:only-of-type {\n",
              "        vertical-align: middle;\n",
              "    }\n",
              "\n",
              "    .dataframe tbody tr th {\n",
              "        vertical-align: top;\n",
              "    }\n",
              "\n",
              "    .dataframe thead th {\n",
              "        text-align: right;\n",
              "    }\n",
              "</style>\n",
              "<table border=\"1\" class=\"dataframe\">\n",
              "  <thead>\n",
              "    <tr style=\"text-align: right;\">\n",
              "      <th></th>\n",
              "      <th>infection case</th>\n",
              "      <th>count</th>\n",
              "    </tr>\n",
              "  </thead>\n",
              "  <tbody>\n",
              "    <tr>\n",
              "      <th>0</th>\n",
              "      <td>Bonghwa Pureun Nursing Home</td>\n",
              "      <td>31</td>\n",
              "    </tr>\n",
              "    <tr>\n",
              "      <th>1</th>\n",
              "      <td>Changnyeong Coin Karaoke</td>\n",
              "      <td>4</td>\n",
              "    </tr>\n",
              "    <tr>\n",
              "      <th>2</th>\n",
              "      <td>Cheongdo Daenam Hospital</td>\n",
              "      <td>21</td>\n",
              "    </tr>\n",
              "    <tr>\n",
              "      <th>3</th>\n",
              "      <td>Coupang Logistics Center</td>\n",
              "      <td>70</td>\n",
              "    </tr>\n",
              "    <tr>\n",
              "      <th>4</th>\n",
              "      <td>Dongan Church</td>\n",
              "      <td>17</td>\n",
              "    </tr>\n",
              "    <tr>\n",
              "      <th>5</th>\n",
              "      <td>Eunpyeong St. Mary's Hospital</td>\n",
              "      <td>16</td>\n",
              "    </tr>\n",
              "    <tr>\n",
              "      <th>6</th>\n",
              "      <td>Geochang Church</td>\n",
              "      <td>6</td>\n",
              "    </tr>\n",
              "    <tr>\n",
              "      <th>7</th>\n",
              "      <td>Guri Collective Infection</td>\n",
              "      <td>6</td>\n",
              "    </tr>\n",
              "    <tr>\n",
              "      <th>8</th>\n",
              "      <td>Guro-gu Call Center</td>\n",
              "      <td>112</td>\n",
              "    </tr>\n",
              "    <tr>\n",
              "      <th>9</th>\n",
              "      <td>Gyeongsan Cham Joeun Community Center</td>\n",
              "      <td>10</td>\n",
              "    </tr>\n",
              "    <tr>\n",
              "      <th>10</th>\n",
              "      <td>Gyeongsan Jeil Silver Town</td>\n",
              "      <td>12</td>\n",
              "    </tr>\n",
              "    <tr>\n",
              "      <th>11</th>\n",
              "      <td>Gyeongsan Seorin Nursing Home</td>\n",
              "      <td>15</td>\n",
              "    </tr>\n",
              "    <tr>\n",
              "      <th>12</th>\n",
              "      <td>Itaewon Clubs</td>\n",
              "      <td>156</td>\n",
              "    </tr>\n",
              "    <tr>\n",
              "      <th>13</th>\n",
              "      <td>KB Life Insurance</td>\n",
              "      <td>8</td>\n",
              "    </tr>\n",
              "    <tr>\n",
              "      <th>14</th>\n",
              "      <td>Milal Shelter</td>\n",
              "      <td>11</td>\n",
              "    </tr>\n",
              "    <tr>\n",
              "      <th>15</th>\n",
              "      <td>Ministry of Oceans and Fisheries</td>\n",
              "      <td>28</td>\n",
              "    </tr>\n",
              "    <tr>\n",
              "      <th>16</th>\n",
              "      <td>Onchun Church</td>\n",
              "      <td>33</td>\n",
              "    </tr>\n",
              "    <tr>\n",
              "      <th>17</th>\n",
              "      <td>Pilgrimage to Israel</td>\n",
              "      <td>2</td>\n",
              "    </tr>\n",
              "    <tr>\n",
              "      <th>18</th>\n",
              "      <td>River of Grace Community Church</td>\n",
              "      <td>1</td>\n",
              "    </tr>\n",
              "    <tr>\n",
              "      <th>19</th>\n",
              "      <td>Samsung Medical Center</td>\n",
              "      <td>7</td>\n",
              "    </tr>\n",
              "    <tr>\n",
              "      <th>20</th>\n",
              "      <td>Seongdong-gu APT</td>\n",
              "      <td>13</td>\n",
              "    </tr>\n",
              "    <tr>\n",
              "      <th>21</th>\n",
              "      <td>Shincheonji Church</td>\n",
              "      <td>107</td>\n",
              "    </tr>\n",
              "    <tr>\n",
              "      <th>22</th>\n",
              "      <td>Suyeong-gu Kindergarten</td>\n",
              "      <td>3</td>\n",
              "    </tr>\n",
              "    <tr>\n",
              "      <th>23</th>\n",
              "      <td>Yeongdeungpo Learning Institute</td>\n",
              "      <td>2</td>\n",
              "    </tr>\n",
              "    <tr>\n",
              "      <th>24</th>\n",
              "      <td>contact with patient</td>\n",
              "      <td>1182</td>\n",
              "    </tr>\n",
              "    <tr>\n",
              "      <th>25</th>\n",
              "      <td>etc</td>\n",
              "      <td>601</td>\n",
              "    </tr>\n",
              "    <tr>\n",
              "      <th>26</th>\n",
              "      <td>gym facility in Cheonan</td>\n",
              "      <td>30</td>\n",
              "    </tr>\n",
              "    <tr>\n",
              "      <th>27</th>\n",
              "      <td>gym facility in Sejong</td>\n",
              "      <td>4</td>\n",
              "    </tr>\n",
              "    <tr>\n",
              "      <th>28</th>\n",
              "      <td>overseas inflow</td>\n",
              "      <td>703</td>\n",
              "    </tr>\n",
              "  </tbody>\n",
              "</table>\n",
              "</div>"
            ],
            "text/plain": [
              "                           infection case  count\n",
              "0             Bonghwa Pureun Nursing Home     31\n",
              "1                Changnyeong Coin Karaoke      4\n",
              "2                Cheongdo Daenam Hospital     21\n",
              "3                Coupang Logistics Center     70\n",
              "4                           Dongan Church     17\n",
              "5           Eunpyeong St. Mary's Hospital     16\n",
              "6                         Geochang Church      6\n",
              "7               Guri Collective Infection      6\n",
              "8                     Guro-gu Call Center    112\n",
              "9   Gyeongsan Cham Joeun Community Center     10\n",
              "10             Gyeongsan Jeil Silver Town     12\n",
              "11          Gyeongsan Seorin Nursing Home     15\n",
              "12                          Itaewon Clubs    156\n",
              "13                      KB Life Insurance      8\n",
              "14                          Milal Shelter     11\n",
              "15       Ministry of Oceans and Fisheries     28\n",
              "16                          Onchun Church     33\n",
              "17                   Pilgrimage to Israel      2\n",
              "18        River of Grace Community Church      1\n",
              "19                 Samsung Medical Center      7\n",
              "20                       Seongdong-gu APT     13\n",
              "21                     Shincheonji Church    107\n",
              "22                Suyeong-gu Kindergarten      3\n",
              "23        Yeongdeungpo Learning Institute      2\n",
              "24                   contact with patient   1182\n",
              "25                                    etc    601\n",
              "26                gym facility in Cheonan     30\n",
              "27                 gym facility in Sejong      4\n",
              "28                        overseas inflow    703"
            ]
          },
          "metadata": {},
          "execution_count": 72
        }
      ]
    },
    {
      "cell_type": "code",
      "metadata": {
        "colab": {
          "base_uri": "https://localhost:8080/",
          "height": 472
        },
        "id": "ztD_ldKFx1f1",
        "outputId": "853b2a3c-75d5-4c14-f469-00614092f3ae"
      },
      "source": [
        "df1.infection_case.value_counts().plot.bar()\n",
        "plt.show()\n",
        "# 그런데, 이 시각화는 그렇게 썩 만족스러운 시각화는 아님"
      ],
      "execution_count": 73,
      "outputs": [
        {
          "output_type": "display_data",
          "data": {
            "image/png": "[encoded data removed]",
            "text/plain": [
              "<Figure size 432x288 with 1 Axes>"
            ]
          },
          "metadata": {
            "needs_background": "light"
          }
        }
      ]
    },
    {
      "cell_type": "code",
      "metadata": {
        "colab": {
          "base_uri": "https://localhost:8080/",
          "height": 278
        },
        "id": "rgwWSuG0zWfR",
        "outputId": "028b849b-cc7d-4649-e780-76ceb5a0f5c8"
      },
      "source": [
        " # seaborn을 사용하여 좀더 예쁘게 감염경로별 환자수를 시각화한다\n",
        " plt.figure(figsize=(12,6))\n",
        " res.sort_values(by='count', ascending=False, inplace=True)\n",
        " sns.barplot(data=res, x='count', y='infection case')\n",
        " plt.show()"
      ],
      "execution_count": 76,
      "outputs": [
        {
          "output_type": "display_data",
          "data": {
            "image/png": "[encoded data removed]",
            "text/plain": [
              "<Figure size 864x432 with 1 Axes>"
            ]
          },
          "metadata": {
            "needs_background": "light"
          }
        }
      ]
    },
    {
      "cell_type": "markdown",
      "metadata": {
        "id": "2_Q5qMzr07WW"
      },
      "source": [
        "**그런데, 29가지나 되는 감염경로... 너무 복잡하다...!**\n",
        "\n",
        "인사이트를 얻기 쉬워보이지 않는다...\n",
        "\n",
        "유형이 29가지나 되면 정보 오버임. 뭐가 뭔지 알아보기 어려움. 그래서, 유형의 레이블을 간추려보도록 하겠습니다!"
      ]
    },
    {
      "cell_type": "markdown",
      "metadata": {
        "id": "llYof_Ss2Lfs"
      },
      "source": [
        "### 3.1 감염경로 유형의 label을 간추려서 다시 집계 및 시각화\n"
      ]
    },
    {
      "cell_type": "code",
      "metadata": {
        "id": "iZ-73dQv3nMD"
      },
      "source": [
        "# 다음과 같이 유형의 label을 바꾸어서 다시 집계 및 시각화 해본다.\n",
        "# 'contact with patient' => 'Individual'     개인접촉\n",
        "# 'etc'  or NaN         => 'Unknown'         모름\n",
        "# 'overseas inflow'     => 'Overseas'        해외\n",
        "#  나머지               => 'Group'            집단\n",
        "\n",
        "# 나머지, 즉 이태원 클럽이나, 교회, 구로구 콜센터 등은 다 집단감염으로 퉁치겠다!\n",
        "# 말이 된다!"
      ],
      "execution_count": null,
      "outputs": []
    },
    {
      "cell_type": "code",
      "metadata": {
        "id": "4kgulrbR4ELj"
      },
      "source": [
        "my_dict = {'contact with patient':'individual', 'etc':'Unknown', 'overseas inflow': 'Overseas'}"
      ],
      "execution_count": 77,
      "outputs": []
    },
    {
      "cell_type": "code",
      "metadata": {
        "id": "Z3KTCwR-46wM"
      },
      "source": [
        "# 어떻게 변환하면 좋을까? apply 함수를 쓰자!\n",
        "# apply 함수 안에 변환함수를 넣어주면 된다!"
      ],
      "execution_count": null,
      "outputs": []
    }
  ]
}
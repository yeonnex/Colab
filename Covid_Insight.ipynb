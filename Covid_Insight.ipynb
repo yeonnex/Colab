{
  "nbformat": 4,
  "nbformat_minor": 0,
  "metadata": {
    "kernelspec": {
      "display_name": "Python 3",
      "language": "python",
      "name": "python3"
    },
    "language_info": {
      "codemirror_mode": {
        "name": "ipython",
        "version": 3
      },
      "file_extension": ".py",
      "mimetype": "text/x-python",
      "name": "python",
      "nbconvert_exporter": "python",
      "pygments_lexer": "ipython3",
      "version": "3.8.8"
    },
    "colab": {
      "name": "Covid_Insight.ipynb",
      "provenance": [],
      "include_colab_link": true
    }
  },
  "cells": [
    {
      "cell_type": "markdown",
      "metadata": {
        "id": "view-in-github",
        "colab_type": "text"
      },
      "source": [
        "<a href=\"https://colab.research.google.com/github/yeonnex/Colab/blob/main/Covid_Insight.ipynb\" target=\"_parent\"><img src=\"https://colab.research.google.com/assets/colab-badge.svg\" alt=\"Open In Colab\"/></a>"
      ]
    },
    {
      "cell_type": "markdown",
      "metadata": {
        "id": "fcuVMndo5K2I"
      },
      "source": [
        "## 코로나 : 시각화를 통한 인사이트 도출"
      ]
    },
    {
      "cell_type": "code",
      "metadata": {
        "colab": {
          "base_uri": "https://localhost:8080/"
        },
        "id": "aZo8CTpY5M7Q",
        "outputId": "d529c34a-734d-4cc6-a8f9-0b477d345306"
      },
      "source": [
        "from google.colab import drive\n",
        "drive.mount('/content/drive')"
      ],
      "execution_count": 2,
      "outputs": [
        {
          "output_type": "stream",
          "text": [
            "Drive already mounted at /content/drive; to attempt to forcibly remount, call drive.mount(\"/content/drive\", force_remount=True).\n"
          ],
          "name": "stdout"
        }
      ]
    },
    {
      "cell_type": "markdown",
      "metadata": {
        "id": "gcvvXDL85K2M"
      },
      "source": [
        "**참고 팀**: https://visualisingkorea.com/"
      ]
    },
    {
      "cell_type": "markdown",
      "metadata": {
        "id": "8Gg2_VED5K2N"
      },
      "source": [
        "### 1. 준비."
      ]
    },
    {
      "cell_type": "code",
      "metadata": {
        "id": "SayK9FvU5K2N"
      },
      "source": [
        "# 필요한 라이브러리를 가져온다.\n",
        "import pandas as pd\n",
        "import numpy as np\n",
        "import seaborn as sns\n",
        "import matplotlib.pyplot as plt\n",
        "\n",
        "from sklearn.preprocessing import StandardScaler    # 표준화.\n",
        "from sklearn.cluster import KMeans                  # 군집화.\n",
        "from sklearn.decomposition import PCA               # 주성분."
      ],
      "execution_count": 3,
      "outputs": []
    },
    {
      "cell_type": "code",
      "metadata": {
        "id": "Y_jkx6mz5K2P"
      },
      "source": [
        "# Pandas 데이터 프레임에서 float을 소수점 4자리 까지 출력해 준다.\n",
        "pd.set_option(\"precision\",4)"
      ],
      "execution_count": 4,
      "outputs": []
    },
    {
      "cell_type": "code",
      "metadata": {
        "id": "JCRvo_SZ5K2P"
      },
      "source": [
        "# 성가신 경고를 꺼준다.\n",
        "import warnings  \n",
        "warnings.filterwarnings('ignore')"
      ],
      "execution_count": 5,
      "outputs": []
    },
    {
      "cell_type": "code",
      "metadata": {
        "id": "e0-IzQSf5K2Q"
      },
      "source": [
        "# 환자정보 데이터를 불러온다.\n",
        "df1 = pd.read_csv('/content/drive/MyDrive/Colab Notebooks/빅데이터/별첨 2_DACON_코로나 데이터 분석_최종/data/PatientInfo.csv')"
      ],
      "execution_count": 6,
      "outputs": []
    },
    {
      "cell_type": "code",
      "metadata": {
        "colab": {
          "base_uri": "https://localhost:8080/",
          "height": 290
        },
        "id": "yc2U3Yd-5K2Q",
        "outputId": "a0260815-10b5-41a0-db6d-1df9477ca85a"
      },
      "source": [
        "df1.head()"
      ],
      "execution_count": 7,
      "outputs": [
        {
          "output_type": "execute_result",
          "data": {
            "text/html": [
              "<div>\n",
              "<style scoped>\n",
              "    .dataframe tbody tr th:only-of-type {\n",
              "        vertical-align: middle;\n",
              "    }\n",
              "\n",
              "    .dataframe tbody tr th {\n",
              "        vertical-align: top;\n",
              "    }\n",
              "\n",
              "    .dataframe thead th {\n",
              "        text-align: right;\n",
              "    }\n",
              "</style>\n",
              "<table border=\"1\" class=\"dataframe\">\n",
              "  <thead>\n",
              "    <tr style=\"text-align: right;\">\n",
              "      <th></th>\n",
              "      <th>patient_id</th>\n",
              "      <th>global_num</th>\n",
              "      <th>sex</th>\n",
              "      <th>birth_year</th>\n",
              "      <th>age</th>\n",
              "      <th>country</th>\n",
              "      <th>province</th>\n",
              "      <th>city</th>\n",
              "      <th>disease</th>\n",
              "      <th>infection_case</th>\n",
              "      <th>infection_order</th>\n",
              "      <th>infected_by</th>\n",
              "      <th>contact_number</th>\n",
              "      <th>symptom_onset_date</th>\n",
              "      <th>confirmed_date</th>\n",
              "      <th>released_date</th>\n",
              "      <th>deceased_date</th>\n",
              "      <th>state</th>\n",
              "    </tr>\n",
              "  </thead>\n",
              "  <tbody>\n",
              "    <tr>\n",
              "      <th>0</th>\n",
              "      <td>1000000001</td>\n",
              "      <td>2.0</td>\n",
              "      <td>male</td>\n",
              "      <td>1964</td>\n",
              "      <td>50s</td>\n",
              "      <td>Korea</td>\n",
              "      <td>Seoul</td>\n",
              "      <td>Gangseo-gu</td>\n",
              "      <td>NaN</td>\n",
              "      <td>overseas inflow</td>\n",
              "      <td>1.0</td>\n",
              "      <td>NaN</td>\n",
              "      <td>75</td>\n",
              "      <td>2020-01-22</td>\n",
              "      <td>2020-01-23</td>\n",
              "      <td>2020-02-05</td>\n",
              "      <td>NaN</td>\n",
              "      <td>released</td>\n",
              "    </tr>\n",
              "    <tr>\n",
              "      <th>1</th>\n",
              "      <td>1000000002</td>\n",
              "      <td>5.0</td>\n",
              "      <td>male</td>\n",
              "      <td>1987</td>\n",
              "      <td>30s</td>\n",
              "      <td>Korea</td>\n",
              "      <td>Seoul</td>\n",
              "      <td>Jungnang-gu</td>\n",
              "      <td>NaN</td>\n",
              "      <td>overseas inflow</td>\n",
              "      <td>1.0</td>\n",
              "      <td>NaN</td>\n",
              "      <td>31</td>\n",
              "      <td>NaN</td>\n",
              "      <td>2020-01-30</td>\n",
              "      <td>2020-03-02</td>\n",
              "      <td>NaN</td>\n",
              "      <td>released</td>\n",
              "    </tr>\n",
              "    <tr>\n",
              "      <th>2</th>\n",
              "      <td>1000000003</td>\n",
              "      <td>6.0</td>\n",
              "      <td>male</td>\n",
              "      <td>1964</td>\n",
              "      <td>50s</td>\n",
              "      <td>Korea</td>\n",
              "      <td>Seoul</td>\n",
              "      <td>Jongno-gu</td>\n",
              "      <td>NaN</td>\n",
              "      <td>contact with patient</td>\n",
              "      <td>2.0</td>\n",
              "      <td>2002000001</td>\n",
              "      <td>17</td>\n",
              "      <td>NaN</td>\n",
              "      <td>2020-01-30</td>\n",
              "      <td>2020-02-19</td>\n",
              "      <td>NaN</td>\n",
              "      <td>released</td>\n",
              "    </tr>\n",
              "    <tr>\n",
              "      <th>3</th>\n",
              "      <td>1000000004</td>\n",
              "      <td>7.0</td>\n",
              "      <td>male</td>\n",
              "      <td>1991</td>\n",
              "      <td>20s</td>\n",
              "      <td>Korea</td>\n",
              "      <td>Seoul</td>\n",
              "      <td>Mapo-gu</td>\n",
              "      <td>NaN</td>\n",
              "      <td>overseas inflow</td>\n",
              "      <td>1.0</td>\n",
              "      <td>NaN</td>\n",
              "      <td>9</td>\n",
              "      <td>2020-01-26</td>\n",
              "      <td>2020-01-30</td>\n",
              "      <td>2020-02-15</td>\n",
              "      <td>NaN</td>\n",
              "      <td>released</td>\n",
              "    </tr>\n",
              "    <tr>\n",
              "      <th>4</th>\n",
              "      <td>1000000005</td>\n",
              "      <td>9.0</td>\n",
              "      <td>female</td>\n",
              "      <td>1992</td>\n",
              "      <td>20s</td>\n",
              "      <td>Korea</td>\n",
              "      <td>Seoul</td>\n",
              "      <td>Seongbuk-gu</td>\n",
              "      <td>NaN</td>\n",
              "      <td>contact with patient</td>\n",
              "      <td>2.0</td>\n",
              "      <td>1000000002</td>\n",
              "      <td>2</td>\n",
              "      <td>NaN</td>\n",
              "      <td>2020-01-31</td>\n",
              "      <td>2020-02-24</td>\n",
              "      <td>NaN</td>\n",
              "      <td>released</td>\n",
              "    </tr>\n",
              "  </tbody>\n",
              "</table>\n",
              "</div>"
            ],
            "text/plain": [
              "   patient_id  global_num     sex  ... released_date deceased_date     state\n",
              "0  1000000001         2.0    male  ...    2020-02-05           NaN  released\n",
              "1  1000000002         5.0    male  ...    2020-03-02           NaN  released\n",
              "2  1000000003         6.0    male  ...    2020-02-19           NaN  released\n",
              "3  1000000004         7.0    male  ...    2020-02-15           NaN  released\n",
              "4  1000000005         9.0  female  ...    2020-02-24           NaN  released\n",
              "\n",
              "[5 rows x 18 columns]"
            ]
          },
          "metadata": {},
          "execution_count": 7
        }
      ]
    },
    {
      "cell_type": "code",
      "metadata": {
        "colab": {
          "base_uri": "https://localhost:8080/"
        },
        "id": "WZ1Az0B95K2R",
        "outputId": "01815022-a888-493c-be72-4ba1f7bad31c"
      },
      "source": [
        "# 컬럼의 자료형을 살펴본다.\n",
        "df1.info()"
      ],
      "execution_count": 8,
      "outputs": [
        {
          "output_type": "stream",
          "text": [
            "<class 'pandas.core.frame.DataFrame'>\n",
            "RangeIndex: 4004 entries, 0 to 4003\n",
            "Data columns (total 18 columns):\n",
            " #   Column              Non-Null Count  Dtype  \n",
            "---  ------              --------------  -----  \n",
            " 0   patient_id          4004 non-null   int64  \n",
            " 1   global_num          2806 non-null   float64\n",
            " 2   sex                 3674 non-null   object \n",
            " 3   birth_year          3267 non-null   object \n",
            " 4   age                 3525 non-null   object \n",
            " 5   country             4004 non-null   object \n",
            " 6   province            4004 non-null   object \n",
            " 7   city                3926 non-null   object \n",
            " 8   disease             18 non-null     object \n",
            " 9   infection_case      3211 non-null   object \n",
            " 10  infection_order     31 non-null     float64\n",
            " 11  infected_by         899 non-null    object \n",
            " 12  contact_number      680 non-null    object \n",
            " 13  symptom_onset_date  535 non-null    object \n",
            " 14  confirmed_date      4001 non-null   object \n",
            " 15  released_date       1508 non-null   object \n",
            " 16  deceased_date       65 non-null     object \n",
            " 17  state               4004 non-null   object \n",
            "dtypes: float64(2), int64(1), object(15)\n",
            "memory usage: 563.2+ KB\n"
          ],
          "name": "stdout"
        }
      ]
    },
    {
      "cell_type": "markdown",
      "metadata": {
        "id": "ACFTTn7A5K2S"
      },
      "source": [
        "### 2. 기초적인 탐색."
      ]
    },
    {
      "cell_type": "code",
      "metadata": {
        "colab": {
          "base_uri": "https://localhost:8080/"
        },
        "id": "OUAgpyus5K2S",
        "outputId": "ada2beec-ccc4-422d-be27-1ca584dda10c"
      },
      "source": [
        "# 결측치의 총 카운트.\n",
        "df1.isnull().sum().sum()"
      ],
      "execution_count": 9,
      "outputs": [
        {
          "output_type": "execute_result",
          "data": {
            "text/plain": [
              "27910"
            ]
          },
          "metadata": {},
          "execution_count": 9
        }
      ]
    },
    {
      "cell_type": "code",
      "metadata": {
        "colab": {
          "base_uri": "https://localhost:8080/",
          "height": 511
        },
        "id": "8Kj5o-uP5K2T",
        "outputId": "b0370b0e-b807-4c3d-addf-33f0da849d97"
      },
      "source": [
        "# 결측치를 시각화 해본다.\n",
        "plt.figure(figsize = (15,10))                                       # figsize=(가로, 세로) 크기.\n",
        "sns.heatmap(df1.isnull(), cmap='Blues', cbar=False)\n",
        "plt.show()"
      ],
      "execution_count": 10,
      "outputs": [
        {
          "output_type": "display_data",
          "data": {
            "image/png": "[encoded data removed]",
            "text/plain": [
              "<Figure size 1080x720 with 1 Axes>"
            ]
          },
          "metadata": {
            "needs_background": "light"
          }
        }
      ]
    },
    {
      "cell_type": "code",
      "metadata": {
        "colab": {
          "base_uri": "https://localhost:8080/"
        },
        "id": "91CseIFC5K2T",
        "outputId": "d728d99f-545f-4f48-aec4-2340897bb9a4"
      },
      "source": [
        "# 중복된 환자 ID는 없어 보인다.\n",
        "print(\"데이터 행의 수 = {}\".format(df1.shape[0]))                  # 데이터 행의 수 = 4004\n",
        "print(\"고유한 환자 ID 수 = {}\".format(df1.patient_id.nunique()))   # 고유한 환자 ID 수 = 4004"
      ],
      "execution_count": 11,
      "outputs": [
        {
          "output_type": "stream",
          "text": [
            "데이터 행의 수 = 4004\n",
            "고유한 환자 ID 수 = 4004\n"
          ],
          "name": "stdout"
        }
      ]
    },
    {
      "cell_type": "code",
      "metadata": {
        "colab": {
          "base_uri": "https://localhost:8080/",
          "height": 290
        },
        "id": "7uT5V4-b5K2T",
        "outputId": "cd80da9c-5455-4ff2-a8d2-8a72967a5b29"
      },
      "source": [
        "# 명목형 변수인 Sex를 시각화 해본다.\n",
        "sex_counts = df1.sex.value_counts()              \n",
        "sex_counts = sex_counts.sort_values(ascending=False)\n",
        "sex_counts.plot.bar(color='turquoise', alpha=0.7)\n",
        "plt.show()"
      ],
      "execution_count": 12,
      "outputs": [
        {
          "output_type": "display_data",
          "data": {
            "image/png": "[encoded data removed]",
            "text/plain": [
              "<Figure size 432x288 with 1 Axes>"
            ]
          },
          "metadata": {
            "needs_background": "light"
          }
        }
      ]
    },
    {
      "cell_type": "code",
      "metadata": {
        "colab": {
          "base_uri": "https://localhost:8080/"
        },
        "id": "WS4ibXyq5K2U",
        "outputId": "15759b61-47ce-425d-8eec-0a7b8d4383f6"
      },
      "source": [
        "# Age 변수의 유형 출력.\n",
        "df1.age.unique()"
      ],
      "execution_count": 13,
      "outputs": [
        {
          "output_type": "execute_result",
          "data": {
            "text/plain": [
              "array(['50s', '30s', '20s', '60s', '80s', '70s', '40s', '10s', '90s',\n",
              "       '0s', nan, '30', '100s'], dtype=object)"
            ]
          },
          "metadata": {},
          "execution_count": 13
        }
      ]
    },
    {
      "cell_type": "code",
      "metadata": {
        "colab": {
          "base_uri": "https://localhost:8080/",
          "height": 274
        },
        "id": "qTXd23Vi5K2U",
        "outputId": "afc10fc6-fe86-4c5c-d66b-1941fe4c8c48"
      },
      "source": [
        "# 명목형 변수인 Age를 시각화 해본다.\n",
        "df1.age = df1.age.str.replace('s','',regex=True)                      # 's' 제거.\n",
        "age_counts = df1.age.value_counts()                                   # 도수표.\n",
        "age_counts = age_counts.sort_values(ascending=False)\n",
        "age_counts.plot.bar(color='green', alpha=0.5)\n",
        "plt.show()"
      ],
      "execution_count": 14,
      "outputs": [
        {
          "output_type": "display_data",
          "data": {
            "image/png": "[encoded data removed]",
            "text/plain": [
              "<Figure size 432x288 with 1 Axes>"
            ]
          },
          "metadata": {
            "needs_background": "light"
          }
        }
      ]
    },
    {
      "cell_type": "code",
      "metadata": {
        "colab": {
          "base_uri": "https://localhost:8080/",
          "height": 336
        },
        "id": "duhR-3jx5K2U",
        "outputId": "ec9f4420-e0df-4de4-9094-4e6421bad197"
      },
      "source": [
        "# 명목형 변수인 Country를 가지고 국적별로 시각화 해본다.\n",
        "country_counts = df1.country.value_counts()                 \n",
        "country_counts = country_counts.sort_values(ascending=False)\n",
        "country_counts.plot.bar(color='pink', alpha = 0.7)\n",
        "plt.show()"
      ],
      "execution_count": 15,
      "outputs": [
        {
          "output_type": "display_data",
          "data": {
            "image/png": "[encoded data removed]",
            "text/plain": [
              "<Figure size 432x288 with 1 Axes>"
            ]
          },
          "metadata": {
            "needs_background": "light"
          }
        }
      ]
    },
    {
      "cell_type": "code",
      "metadata": {
        "colab": {
          "base_uri": "https://localhost:8080/",
          "height": 303
        },
        "id": "pFahok3J5K2U",
        "outputId": "200ad524-4278-48fb-a44b-056472221e4a"
      },
      "source": [
        "# 명목형 변수인 Country를 가지고 내국인 여부를 시각화 해본다.\n",
        "country_counts = (df1.country == \"Korea\").value_counts()\n",
        "country_counts = country_counts.sort_values(ascending=False)\n",
        "country_counts.index = [\"Korean\", \"Foreigner\"]\n",
        "country_counts.plot.bar(color= \"pink\",alpha=0.7)\n",
        "plt.show()"
      ],
      "execution_count": 16,
      "outputs": [
        {
          "output_type": "display_data",
          "data": {
            "image/png": "[encoded data removed]",
            "text/plain": [
              "<Figure size 432x288 with 1 Axes>"
            ]
          },
          "metadata": {
            "needs_background": "light"
          }
        }
      ]
    },
    {
      "cell_type": "code",
      "metadata": {
        "colab": {
          "base_uri": "https://localhost:8080/"
        },
        "id": "kofzZDiT5K2V",
        "outputId": "dd8461f6-51d6-44ef-9c74-27347e357627"
      },
      "source": [
        "# 기저질환 (disease)는 결측치 아닌 정상값의 수가 절대적으로 부족해서 분석하기 어려움.\n",
        "df1.disease.count()"
      ],
      "execution_count": 17,
      "outputs": [
        {
          "output_type": "execute_result",
          "data": {
            "text/plain": [
              "18"
            ]
          },
          "metadata": {},
          "execution_count": 17
        }
      ]
    },
    {
      "cell_type": "code",
      "metadata": {
        "colab": {
          "base_uri": "https://localhost:8080/",
          "height": 303
        },
        "id": "r1v9D4RR5K2V",
        "outputId": "937c5abb-b929-4c8a-daec-00f60636dc03"
      },
      "source": [
        "# 명목형 변수인 State를 시각화 해본다.\n",
        "state_counts = df1.state.value_counts()              \n",
        "state_counts = state_counts.sort_values(ascending=False)\n",
        "state_counts.plot.bar(color='blue', alpha=0.5)\n",
        "plt.show()"
      ],
      "execution_count": 18,
      "outputs": [
        {
          "output_type": "display_data",
          "data": {
            "image/png": "[encoded data removed]",
            "text/plain": [
              "<Figure size 432x288 with 1 Axes>"
            ]
          },
          "metadata": {
            "needs_background": "light"
          }
        }
      ]
    },
    {
      "cell_type": "code",
      "metadata": {
        "colab": {
          "base_uri": "https://localhost:8080/",
          "height": 288
        },
        "id": "Vh_c9uvM5K2V",
        "outputId": "c0445036-0d62-4f10-fae7-95387e8fd381"
      },
      "source": [
        "# 명목형 변수인 Age와 Sex를 조합하여 시각화 해본다.\n",
        "ct = pd.crosstab(df1.age, df1.sex)\n",
        "ct['total'] = ct.male + ct.female                      # total 컬럼.\n",
        "ct.sort_values(by=['total'], ascending=False)[['male','female']].plot.bar(color=[\"blue\",\"red\"],stacked=True)   # total로 소팅. total은 시각화에서는 제외!\n",
        "plt.show()"
      ],
      "execution_count": 19,
      "outputs": [
        {
          "output_type": "display_data",
          "data": {
            "image/png": "[encoded data removed]",
            "text/plain": [
              "<Figure size 432x288 with 1 Axes>"
            ]
          },
          "metadata": {
            "needs_background": "light"
          }
        }
      ]
    },
    {
      "cell_type": "code",
      "metadata": {
        "colab": {
          "base_uri": "https://localhost:8080/",
          "height": 289
        },
        "id": "LhWQy8mV5K2W",
        "outputId": "a69f57f8-0f4f-4c3e-dd02-ab179d31733c"
      },
      "source": [
        "# Age별 사망비율.\n",
        "ct = pd.crosstab(df1.age, df1.state=='deceased')\n",
        "ct.columns = ['alive','deceased']\n",
        "ct['mortality'] = ct.deceased/(ct.alive + ct.deceased)\n",
        "ct.sort_values(by=['mortality'], ascending=False)[['mortality']].plot.bar(color='red', alpha=0.5)   # mortality로 소팅 및 시각화.\n",
        "plt.show()"
      ],
      "execution_count": 20,
      "outputs": [
        {
          "output_type": "display_data",
          "data": {
            "image/png": "[encoded data removed]",
            "text/plain": [
              "<Figure size 432x288 with 1 Axes>"
            ]
          },
          "metadata": {
            "needs_background": "light"
          }
        }
      ]
    },
    {
      "cell_type": "code",
      "metadata": {
        "colab": {
          "base_uri": "https://localhost:8080/",
          "height": 304
        },
        "id": "pmzUSHS55K2W",
        "outputId": "c46876a5-1715-484a-f60b-ebc7183f10de"
      },
      "source": [
        "# Sex별 사망비율.\n",
        "ct = pd.crosstab(df1.sex, df1.state=='deceased')\n",
        "ct.columns = ['alive','deceased']\n",
        "ct['mortality'] = ct.deceased/(ct.alive + ct.deceased)\n",
        "ct.sort_values(by=['mortality'], ascending=False)[['mortality']].plot.bar(color='green', alpha=0.5)   # mortality로 소팅 및 시각화.\n",
        "plt.show()"
      ],
      "execution_count": 21,
      "outputs": [
        {
          "output_type": "display_data",
          "data": {
            "image/png": "[encoded data removed]",
            "text/plain": [
              "<Figure size 432x288 with 1 Axes>"
            ]
          },
          "metadata": {
            "needs_background": "light"
          }
        }
      ]
    },
    {
      "cell_type": "markdown",
      "metadata": {
        "id": "Sd1XoeW45K2W"
      },
      "source": [
        "### 3. 감염 경로 유형 (Infection Case)"
      ]
    },
    {
      "cell_type": "code",
      "metadata": {
        "colab": {
          "base_uri": "https://localhost:8080/"
        },
        "id": "RL-lqiM15K2W",
        "outputId": "cfb6fc82-5e48-4ce9-e9a8-66bc5a25ec08"
      },
      "source": [
        "# 감염 경로의 유형 출력.\n",
        "print(df1.infection_case.unique())"
      ],
      "execution_count": 22,
      "outputs": [
        {
          "output_type": "stream",
          "text": [
            "['overseas inflow' 'contact with patient' 'Seongdong-gu APT' 'etc'\n",
            " \"Eunpyeong St. Mary's Hospital\" 'Shincheonji Church' 'Dongan Church'\n",
            " 'Guro-gu Call Center' nan 'Itaewon Clubs' 'Samsung Medical Center'\n",
            " 'Coupang Logistics Center' 'Guri Collective Infection'\n",
            " 'KB Life Insurance' 'Yeongdeungpo Learning Institute' 'Onchun Church'\n",
            " 'Cheongdo Daenam Hospital' 'Suyeong-gu Kindergarten'\n",
            " 'Ministry of Oceans and Fisheries' 'gym facility in Cheonan'\n",
            " 'gym facility in Sejong' 'River of Grace Community Church'\n",
            " 'Gyeongsan Seorin Nursing Home' 'Gyeongsan Cham Joeun Community Center'\n",
            " 'Gyeongsan Jeil Silver Town' 'Bonghwa Pureun Nursing Home'\n",
            " 'Pilgrimage to Israel' 'Milal Shelter' 'Geochang Church'\n",
            " 'Changnyeong Coin Karaoke']\n"
          ],
          "name": "stdout"
        }
      ]
    },
    {
      "cell_type": "code",
      "metadata": {
        "colab": {
          "base_uri": "https://localhost:8080/"
        },
        "id": "tO0n5khE5K2W",
        "outputId": "fe5db4c2-fc9a-49e7-ddc3-6efc3af068c0"
      },
      "source": [
        "# 감염 경로의 가지수 출력.\n",
        "print(df1.infection_case.nunique())"
      ],
      "execution_count": 23,
      "outputs": [
        {
          "output_type": "stream",
          "text": [
            "29\n"
          ],
          "name": "stdout"
        }
      ]
    },
    {
      "cell_type": "code",
      "metadata": {
        "colab": {
          "base_uri": "https://localhost:8080/",
          "height": 289
        },
        "id": "QXJRjbMi5K2W",
        "outputId": "d7ca785d-de3e-40d9-ff2d-2c8dad50fb6b"
      },
      "source": [
        "# 감염 경로별 환자수 집계하여 시각화 한다.\n",
        "res = df1.groupby(['infection_case'])['patient_id'].count()        # 결측치가 아닌 patient_id의 수 = 환자의 수.\n",
        "res = res.reset_index()                                           # Series => DataFrame. 이전의 Index가 이제는 새로운 컬럼!\n",
        "res.rename(columns = {'infection_case':'infection case', 'patient_id': 'count'}, inplace = True)     # 'patient_id' 컬럼명을 'count'로 변경.\n",
        "res = res.sort_values(by = 'count', ascending = False)            # 데이터 프레임 내림 차순으로 소팅.\n",
        "\n",
        "plt.figure(figsize = (12,6))                                       # figsize=(가로, 세로) 크기.\n",
        "sns.barplot(y = 'infection case', x= 'count', data = res)\n",
        "plt.title('Number of Patients per Infection Case')\n",
        "plt.show()"
      ],
      "execution_count": 24,
      "outputs": [
        {
          "output_type": "display_data",
          "data": {
            "image/png": "[encoded data removed]",
            "text/plain": [
              "<Figure size 864x432 with 1 Axes>"
            ]
          },
          "metadata": {
            "needs_background": "light"
          }
        }
      ]
    },
    {
      "cell_type": "code",
      "metadata": {
        "id": "8DWKMQvJ5K2X"
      },
      "source": [
        "# 헬퍼 함수 정의.\n",
        "def my_conversion_func(x):\n",
        "    if not pd.isnull(x):\n",
        "        if x in my_dict.keys():\n",
        "            return my_dict[x]\n",
        "        else:\n",
        "            return \"Group\"\n",
        "    else:\n",
        "        return \"Unknown\""
      ],
      "execution_count": 25,
      "outputs": []
    },
    {
      "cell_type": "code",
      "metadata": {
        "colab": {
          "base_uri": "https://localhost:8080/",
          "height": 349
        },
        "id": "Qbcul2iZ5K2X",
        "outputId": "37151938-cc32-445c-bcdd-8520a7464ebb"
      },
      "source": [
        "# 다음과 같이 유형의 label을 바꾸어서 다시 집계 및 시각화 해본다.\n",
        "# 'contact with patient' => 'Individual'     개인접촉\n",
        "# 'etc'  or NaN         => 'Unknown'         모름\n",
        "# 'overseas inflow'     => 'Overseas'        해외\n",
        "#  나머지               => 'Group'            집단\n",
        "\n",
        "my_dict = {'contact with patient':'Individual', 'etc':'Unknown', 'overseas inflow': 'Overseas'}\n",
        "res = df1.infection_case.apply(lambda x: my_dict[x] if x in my_dict.keys() else 'Group' if not pd.isnull(x) else 'Unknown')  # 변환! Pythonic!\n",
        "#res = df1.infection_case.apply(my_conversion_func)    # 또다른 방법.\n",
        "df1['infection_cause'] = res  # 변환을 df1에도 적용.\n",
        "\n",
        "# 다시 집계하여 시각화 해본다.\n",
        "res = res.value_counts().sort_values(ascending=False)\n",
        "res = res.reset_index()                                                               # Series => DataFrame. 이전의 Index가 이제는 새로운 컬럼!\n",
        "res.rename(columns={'index':'infection_cause','infection_case':'count'},inplace=True)\n",
        "\n",
        "plt.figure(figsize = (12,6))                                       # figsize=(가로, 세로) 크기.\n",
        "sns.barplot(y = 'infection_cause', x= 'count', data = res, alpha=0.8)\n",
        "plt.title('Number of Patients per Infection Cause')\n",
        "plt.show()"
      ],
      "execution_count": 26,
      "outputs": [
        {
          "output_type": "display_data",
          "data": {
            "image/png": "[encoded data removed]",
            "text/plain": [
              "<Figure size 864x432 with 1 Axes>"
            ]
          },
          "metadata": {
            "needs_background": "light"
          }
        }
      ]
    },
    {
      "cell_type": "markdown",
      "metadata": {
        "id": "g5p1i8Ic5K2X"
      },
      "source": [
        "**결론**: 유입 경로를 4가지로 요약해 봄."
      ]
    },
    {
      "cell_type": "markdown",
      "metadata": {
        "id": "db19U1Ex5K2X"
      },
      "source": [
        "### 4. 유동성 (Mobility Level)"
      ]
    },
    {
      "cell_type": "code",
      "metadata": {
        "id": "0xausjyI5K2X"
      },
      "source": [
        "# 새롭게 동선 데이터를 불러온다.\n",
        "df2 = pd.read_csv('/content/drive/MyDrive/Colab Notebooks/빅데이터/별첨 2_DACON_코로나 데이터 분석_최종/data/PatientRoute.csv')"
      ],
      "execution_count": 27,
      "outputs": []
    },
    {
      "cell_type": "code",
      "metadata": {
        "colab": {
          "base_uri": "https://localhost:8080/",
          "height": 307
        },
        "id": "EbuRv6tf5K2Y",
        "outputId": "3e139cd5-09cc-4c7f-8364-7c3f47e44d97"
      },
      "source": [
        "df2.head()"
      ],
      "execution_count": 28,
      "outputs": [
        {
          "output_type": "execute_result",
          "data": {
            "text/html": [
              "<div>\n",
              "<style scoped>\n",
              "    .dataframe tbody tr th:only-of-type {\n",
              "        vertical-align: middle;\n",
              "    }\n",
              "\n",
              "    .dataframe tbody tr th {\n",
              "        vertical-align: top;\n",
              "    }\n",
              "\n",
              "    .dataframe thead th {\n",
              "        text-align: right;\n",
              "    }\n",
              "</style>\n",
              "<table border=\"1\" class=\"dataframe\">\n",
              "  <thead>\n",
              "    <tr style=\"text-align: right;\">\n",
              "      <th></th>\n",
              "      <th>patient_id</th>\n",
              "      <th>global_num</th>\n",
              "      <th>date</th>\n",
              "      <th>province</th>\n",
              "      <th>city</th>\n",
              "      <th>type</th>\n",
              "      <th>latitude</th>\n",
              "      <th>longitude</th>\n",
              "    </tr>\n",
              "  </thead>\n",
              "  <tbody>\n",
              "    <tr>\n",
              "      <th>0</th>\n",
              "      <td>1000000001</td>\n",
              "      <td>2.0</td>\n",
              "      <td>2020-01-22</td>\n",
              "      <td>Gyeonggi-do</td>\n",
              "      <td>Gimpo-si</td>\n",
              "      <td>airport</td>\n",
              "      <td>37.6152</td>\n",
              "      <td>126.7156</td>\n",
              "    </tr>\n",
              "    <tr>\n",
              "      <th>1</th>\n",
              "      <td>1000000001</td>\n",
              "      <td>2.0</td>\n",
              "      <td>2020-01-24</td>\n",
              "      <td>Seoul</td>\n",
              "      <td>Jung-gu</td>\n",
              "      <td>hospital</td>\n",
              "      <td>37.5672</td>\n",
              "      <td>127.0057</td>\n",
              "    </tr>\n",
              "    <tr>\n",
              "      <th>2</th>\n",
              "      <td>1000000002</td>\n",
              "      <td>5.0</td>\n",
              "      <td>2020-01-25</td>\n",
              "      <td>Seoul</td>\n",
              "      <td>Seongbuk-gu</td>\n",
              "      <td>etc</td>\n",
              "      <td>37.5926</td>\n",
              "      <td>127.0170</td>\n",
              "    </tr>\n",
              "    <tr>\n",
              "      <th>3</th>\n",
              "      <td>1000000002</td>\n",
              "      <td>5.0</td>\n",
              "      <td>2020-01-26</td>\n",
              "      <td>Seoul</td>\n",
              "      <td>Seongbuk-gu</td>\n",
              "      <td>store</td>\n",
              "      <td>37.5918</td>\n",
              "      <td>127.0168</td>\n",
              "    </tr>\n",
              "    <tr>\n",
              "      <th>4</th>\n",
              "      <td>1000000002</td>\n",
              "      <td>5.0</td>\n",
              "      <td>2020-01-26</td>\n",
              "      <td>Seoul</td>\n",
              "      <td>Seongdong-gu</td>\n",
              "      <td>public_transportation</td>\n",
              "      <td>37.5640</td>\n",
              "      <td>127.0295</td>\n",
              "    </tr>\n",
              "  </tbody>\n",
              "</table>\n",
              "</div>"
            ],
            "text/plain": [
              "   patient_id  global_num  ... latitude longitude\n",
              "0  1000000001         2.0  ...  37.6152  126.7156\n",
              "1  1000000001         2.0  ...  37.5672  127.0057\n",
              "2  1000000002         5.0  ...  37.5926  127.0170\n",
              "3  1000000002         5.0  ...  37.5918  127.0168\n",
              "4  1000000002         5.0  ...  37.5640  127.0295\n",
              "\n",
              "[5 rows x 8 columns]"
            ]
          },
          "metadata": {},
          "execution_count": 28
        }
      ]
    },
    {
      "cell_type": "code",
      "metadata": {
        "colab": {
          "base_uri": "https://localhost:8080/"
        },
        "id": "4nSXkw3e5K2Y",
        "outputId": "00e8ae2c-e91c-4ca7-a13f-87543c974ca4"
      },
      "source": [
        "# 결측치의 총 카운트.\n",
        "df2.isnull().sum().sum()"
      ],
      "execution_count": 29,
      "outputs": [
        {
          "output_type": "execute_result",
          "data": {
            "text/plain": [
              "3264"
            ]
          },
          "metadata": {},
          "execution_count": 29
        }
      ]
    },
    {
      "cell_type": "code",
      "metadata": {
        "colab": {
          "base_uri": "https://localhost:8080/",
          "height": 596
        },
        "id": "qCrj1Fcb5K2Y",
        "outputId": "76452da9-3f96-4942-81fd-edf2c12e1ce3"
      },
      "source": [
        "# 결측치를 시각화 해본다.\n",
        "plt.figure(figsize = (10,10))                                       # figsize=(가로, 세로) 크기.\n",
        "sns.heatmap(df2.isnull(), cmap='Blues', cbar=False)\n",
        "plt.show()"
      ],
      "execution_count": 30,
      "outputs": [
        {
          "output_type": "display_data",
          "data": {
            "image/png": "[encoded data removed]",
            "text/plain": [
              "<Figure size 720x720 with 1 Axes>"
            ]
          },
          "metadata": {
            "needs_background": "light"
          }
        }
      ]
    },
    {
      "cell_type": "code",
      "metadata": {
        "colab": {
          "base_uri": "https://localhost:8080/"
        },
        "id": "6_nT5IkN5K2Y",
        "outputId": "9ad2c3d5-e33d-4c8e-f4d6-b93932f7316a"
      },
      "source": [
        "# 중복된 환자 ID가 많아 보인다.\n",
        "print(\"데이터 행의 수 = {}\".format(df2.shape[0]))\n",
        "print(\"고유한 환자 ID 수 = {}\".format(df2.patient_id.nunique()))"
      ],
      "execution_count": 31,
      "outputs": [
        {
          "output_type": "stream",
          "text": [
            "데이터 행의 수 = 8092\n",
            "고유한 환자 ID 수 = 1472\n"
          ],
          "name": "stdout"
        }
      ]
    },
    {
      "cell_type": "code",
      "metadata": {
        "colab": {
          "base_uri": "https://localhost:8080/"
        },
        "id": "bK6ps-Gv5K2Y",
        "outputId": "79e8cf2a-631c-42ae-9207-3fb059f713a7"
      },
      "source": [
        "# 이동 경로의 유형 출력.\n",
        "print(df2.type.unique())"
      ],
      "execution_count": 32,
      "outputs": [
        {
          "output_type": "stream",
          "text": [
            "['airport' 'hospital' 'etc' 'store' 'public_transportation' 'restaurant'\n",
            " 'church' 'beauty_salon' 'pharmacy' 'pc_cafe' 'bank' 'academy' 'cafe'\n",
            " 'bakery' 'bar' 'gym' 'school' 'real_estate_agency' 'karaoke'\n",
            " 'post_office' 'gas_station' 'park' 'lodging' 'university'\n",
            " 'administrative_area_level_1']\n"
          ],
          "name": "stdout"
        }
      ]
    },
    {
      "cell_type": "code",
      "metadata": {
        "colab": {
          "base_uri": "https://localhost:8080/"
        },
        "id": "F-LGZMkQ5K2Y",
        "outputId": "942fe012-9f6c-45e0-b352-36c9c15309de"
      },
      "source": [
        "# 이동 경로의 가지수 출력.\n",
        "print(df2.type.nunique())"
      ],
      "execution_count": 33,
      "outputs": [
        {
          "output_type": "stream",
          "text": [
            "25\n"
          ],
          "name": "stdout"
        }
      ]
    },
    {
      "cell_type": "code",
      "metadata": {
        "id": "OOOd-ypq5K2Y"
      },
      "source": [
        "# 이동 경로의 유형을 카테고리로 표현해 본다.\n",
        "leisure = ['library', 'theater', 'cafe', 'bakery', 'beauty_salon',\n",
        "          'pc_cafe', 'billiards','restaurant', 'bar', 'karaoke']\n",
        "travel = ['airport', 'lodging']\n",
        "essential_edu = ['primary_school', 'school', 'university']\n",
        "non_essential_edu = ['academy']\n",
        "exercise = ['gym', 'mountain', 'park']\n",
        "essential_admin = ['administrative_area_level_1', 'governmnet_office', 'post_office']\n",
        "non_essential_admin = ['police_office', 'bank', 'real_estate_agency']\n",
        "necessity = ['store', 'public_transportation', 'gas_station']\n",
        "medical = ['hospital', 'pharmacy']\n",
        "church = ['church']\n",
        "etc = ['etc']"
      ],
      "execution_count": 34,
      "outputs": []
    },
    {
      "cell_type": "code",
      "metadata": {
        "colab": {
          "base_uri": "https://localhost:8080/"
        },
        "id": "93CVbYMd5K2Z",
        "outputId": "5b5737a8-0ae3-40b3-cfaf-58117e0ef48e"
      },
      "source": [
        "# \"필수적\" 카테고리는 다음과 같이 정의한다.\n",
        "essential = essential_edu + essential_admin + necessity + medical \n",
        "len(essential)"
      ],
      "execution_count": 35,
      "outputs": [
        {
          "output_type": "execute_result",
          "data": {
            "text/plain": [
              "11"
            ]
          },
          "metadata": {},
          "execution_count": 35
        }
      ]
    },
    {
      "cell_type": "code",
      "metadata": {
        "colab": {
          "base_uri": "https://localhost:8080/",
          "height": 203
        },
        "id": "MY5SA3005K2Z",
        "outputId": "ab25d3f1-8da6-48e3-e52a-63038e73313c"
      },
      "source": [
        "# 필수/부수적 여부 변수 'is_essential' 파생변수로 추가.\n",
        "def isessential(x):     \n",
        "    if x in essential: \n",
        "        res = True\n",
        "    else:\n",
        "        res = False \n",
        "    return res\n",
        "\n",
        "df2['is_essential'] = df2['type'].apply( isessential ) \n",
        "\n",
        "# 데이터 프레임 간추리기.\n",
        "df2 = df2[['patient_id', 'is_essential']]\n",
        "df2.head()"
      ],
      "execution_count": 36,
      "outputs": [
        {
          "output_type": "execute_result",
          "data": {
            "text/html": [
              "<div>\n",
              "<style scoped>\n",
              "    .dataframe tbody tr th:only-of-type {\n",
              "        vertical-align: middle;\n",
              "    }\n",
              "\n",
              "    .dataframe tbody tr th {\n",
              "        vertical-align: top;\n",
              "    }\n",
              "\n",
              "    .dataframe thead th {\n",
              "        text-align: right;\n",
              "    }\n",
              "</style>\n",
              "<table border=\"1\" class=\"dataframe\">\n",
              "  <thead>\n",
              "    <tr style=\"text-align: right;\">\n",
              "      <th></th>\n",
              "      <th>patient_id</th>\n",
              "      <th>is_essential</th>\n",
              "    </tr>\n",
              "  </thead>\n",
              "  <tbody>\n",
              "    <tr>\n",
              "      <th>0</th>\n",
              "      <td>1000000001</td>\n",
              "      <td>False</td>\n",
              "    </tr>\n",
              "    <tr>\n",
              "      <th>1</th>\n",
              "      <td>1000000001</td>\n",
              "      <td>True</td>\n",
              "    </tr>\n",
              "    <tr>\n",
              "      <th>2</th>\n",
              "      <td>1000000002</td>\n",
              "      <td>False</td>\n",
              "    </tr>\n",
              "    <tr>\n",
              "      <th>3</th>\n",
              "      <td>1000000002</td>\n",
              "      <td>True</td>\n",
              "    </tr>\n",
              "    <tr>\n",
              "      <th>4</th>\n",
              "      <td>1000000002</td>\n",
              "      <td>True</td>\n",
              "    </tr>\n",
              "  </tbody>\n",
              "</table>\n",
              "</div>"
            ],
            "text/plain": [
              "   patient_id  is_essential\n",
              "0  1000000001         False\n",
              "1  1000000001          True\n",
              "2  1000000002         False\n",
              "3  1000000002          True\n",
              "4  1000000002          True"
            ]
          },
          "metadata": {},
          "execution_count": 36
        }
      ]
    },
    {
      "cell_type": "code",
      "metadata": {
        "colab": {
          "base_uri": "https://localhost:8080/",
          "height": 234
        },
        "id": "HE_-zR495K2Z",
        "outputId": "9c3bdddd-cb35-4c0c-85a0-f1e107b1728e"
      },
      "source": [
        "# 동일 환자의 경로 유형을 집계한다 (sum).\n",
        "# 결측치는 0으로 채운다.\n",
        "df2['route_value'] = 1       # 1 로 채워진 컬럼을 추가해서 집계의 목적으로 사용한다.\n",
        "df3 = pd.pivot_table(data=df2, index = 'patient_id', columns = 'is_essential', values= 'route_value', aggfunc='sum', fill_value=0)\n",
        "df3.head()"
      ],
      "execution_count": 37,
      "outputs": [
        {
          "output_type": "execute_result",
          "data": {
            "text/html": [
              "<div>\n",
              "<style scoped>\n",
              "    .dataframe tbody tr th:only-of-type {\n",
              "        vertical-align: middle;\n",
              "    }\n",
              "\n",
              "    .dataframe tbody tr th {\n",
              "        vertical-align: top;\n",
              "    }\n",
              "\n",
              "    .dataframe thead th {\n",
              "        text-align: right;\n",
              "    }\n",
              "</style>\n",
              "<table border=\"1\" class=\"dataframe\">\n",
              "  <thead>\n",
              "    <tr style=\"text-align: right;\">\n",
              "      <th>is_essential</th>\n",
              "      <th>False</th>\n",
              "      <th>True</th>\n",
              "    </tr>\n",
              "    <tr>\n",
              "      <th>patient_id</th>\n",
              "      <th></th>\n",
              "      <th></th>\n",
              "    </tr>\n",
              "  </thead>\n",
              "  <tbody>\n",
              "    <tr>\n",
              "      <th>1000000001</th>\n",
              "      <td>1</td>\n",
              "      <td>1</td>\n",
              "    </tr>\n",
              "    <tr>\n",
              "      <th>1000000002</th>\n",
              "      <td>4</td>\n",
              "      <td>9</td>\n",
              "    </tr>\n",
              "    <tr>\n",
              "      <th>1000000003</th>\n",
              "      <td>2</td>\n",
              "      <td>0</td>\n",
              "    </tr>\n",
              "    <tr>\n",
              "      <th>1000000004</th>\n",
              "      <td>0</td>\n",
              "      <td>1</td>\n",
              "    </tr>\n",
              "    <tr>\n",
              "      <th>1000000005</th>\n",
              "      <td>0</td>\n",
              "      <td>1</td>\n",
              "    </tr>\n",
              "  </tbody>\n",
              "</table>\n",
              "</div>"
            ],
            "text/plain": [
              "is_essential  False  True \n",
              "patient_id                \n",
              "1000000001        1      1\n",
              "1000000002        4      9\n",
              "1000000003        2      0\n",
              "1000000004        0      1\n",
              "1000000005        0      1"
            ]
          },
          "metadata": {},
          "execution_count": 37
        }
      ]
    },
    {
      "cell_type": "code",
      "metadata": {
        "colab": {
          "base_uri": "https://localhost:8080/",
          "height": 203
        },
        "id": "hIBpIK_L5K2Z",
        "outputId": "c72aa1af-2a98-4ac8-cc5d-4816991bd56a"
      },
      "source": [
        "# Index로 있는 patient_id를 컬럼으로 빼내고 정리한다.\n",
        "df3.columns.name=None\n",
        "df3 = df3.reset_index()\n",
        "df3 = df3.rename(columns={False:'non_essential',True:'essential'})\n",
        "df3.head()"
      ],
      "execution_count": 38,
      "outputs": [
        {
          "output_type": "execute_result",
          "data": {
            "text/html": [
              "<div>\n",
              "<style scoped>\n",
              "    .dataframe tbody tr th:only-of-type {\n",
              "        vertical-align: middle;\n",
              "    }\n",
              "\n",
              "    .dataframe tbody tr th {\n",
              "        vertical-align: top;\n",
              "    }\n",
              "\n",
              "    .dataframe thead th {\n",
              "        text-align: right;\n",
              "    }\n",
              "</style>\n",
              "<table border=\"1\" class=\"dataframe\">\n",
              "  <thead>\n",
              "    <tr style=\"text-align: right;\">\n",
              "      <th></th>\n",
              "      <th>patient_id</th>\n",
              "      <th>non_essential</th>\n",
              "      <th>essential</th>\n",
              "    </tr>\n",
              "  </thead>\n",
              "  <tbody>\n",
              "    <tr>\n",
              "      <th>0</th>\n",
              "      <td>1000000001</td>\n",
              "      <td>1</td>\n",
              "      <td>1</td>\n",
              "    </tr>\n",
              "    <tr>\n",
              "      <th>1</th>\n",
              "      <td>1000000002</td>\n",
              "      <td>4</td>\n",
              "      <td>9</td>\n",
              "    </tr>\n",
              "    <tr>\n",
              "      <th>2</th>\n",
              "      <td>1000000003</td>\n",
              "      <td>2</td>\n",
              "      <td>0</td>\n",
              "    </tr>\n",
              "    <tr>\n",
              "      <th>3</th>\n",
              "      <td>1000000004</td>\n",
              "      <td>0</td>\n",
              "      <td>1</td>\n",
              "    </tr>\n",
              "    <tr>\n",
              "      <th>4</th>\n",
              "      <td>1000000005</td>\n",
              "      <td>0</td>\n",
              "      <td>1</td>\n",
              "    </tr>\n",
              "  </tbody>\n",
              "</table>\n",
              "</div>"
            ],
            "text/plain": [
              "   patient_id  non_essential  essential\n",
              "0  1000000001              1          1\n",
              "1  1000000002              4          9\n",
              "2  1000000003              2          0\n",
              "3  1000000004              0          1\n",
              "4  1000000005              0          1"
            ]
          },
          "metadata": {},
          "execution_count": 38
        }
      ]
    },
    {
      "cell_type": "code",
      "metadata": {
        "id": "K0PUbbTj5K2Z"
      },
      "source": [
        "# df1 (PatientInfo)와 df3 (PatientRoute 요약)을 Inner Join 해서 가로 방향으로 붙여서 df_joined를 만든다.\n",
        "#df_joined = df1.merge(df3, left_on = 'patient_id', right_on = 'patient_id' , how='inner')\n",
        "df_joined = pd.merge(df1, df3, on = \"patient_id\", how=\"inner\")"
      ],
      "execution_count": 39,
      "outputs": []
    },
    {
      "cell_type": "code",
      "metadata": {
        "colab": {
          "base_uri": "https://localhost:8080/",
          "height": 290
        },
        "id": "L9y_w_wa5K2Z",
        "outputId": "894a2f3d-0e91-40cf-a36b-7abcea94a348"
      },
      "source": [
        "# 살펴본다.\n",
        "df_joined.head()"
      ],
      "execution_count": 40,
      "outputs": [
        {
          "output_type": "execute_result",
          "data": {
            "text/html": [
              "<div>\n",
              "<style scoped>\n",
              "    .dataframe tbody tr th:only-of-type {\n",
              "        vertical-align: middle;\n",
              "    }\n",
              "\n",
              "    .dataframe tbody tr th {\n",
              "        vertical-align: top;\n",
              "    }\n",
              "\n",
              "    .dataframe thead th {\n",
              "        text-align: right;\n",
              "    }\n",
              "</style>\n",
              "<table border=\"1\" class=\"dataframe\">\n",
              "  <thead>\n",
              "    <tr style=\"text-align: right;\">\n",
              "      <th></th>\n",
              "      <th>patient_id</th>\n",
              "      <th>global_num</th>\n",
              "      <th>sex</th>\n",
              "      <th>birth_year</th>\n",
              "      <th>age</th>\n",
              "      <th>country</th>\n",
              "      <th>province</th>\n",
              "      <th>city</th>\n",
              "      <th>disease</th>\n",
              "      <th>infection_case</th>\n",
              "      <th>infection_order</th>\n",
              "      <th>infected_by</th>\n",
              "      <th>contact_number</th>\n",
              "      <th>symptom_onset_date</th>\n",
              "      <th>confirmed_date</th>\n",
              "      <th>released_date</th>\n",
              "      <th>deceased_date</th>\n",
              "      <th>state</th>\n",
              "      <th>infection_cause</th>\n",
              "      <th>non_essential</th>\n",
              "      <th>essential</th>\n",
              "    </tr>\n",
              "  </thead>\n",
              "  <tbody>\n",
              "    <tr>\n",
              "      <th>0</th>\n",
              "      <td>1000000001</td>\n",
              "      <td>2.0</td>\n",
              "      <td>male</td>\n",
              "      <td>1964</td>\n",
              "      <td>50</td>\n",
              "      <td>Korea</td>\n",
              "      <td>Seoul</td>\n",
              "      <td>Gangseo-gu</td>\n",
              "      <td>NaN</td>\n",
              "      <td>overseas inflow</td>\n",
              "      <td>1.0</td>\n",
              "      <td>NaN</td>\n",
              "      <td>75</td>\n",
              "      <td>2020-01-22</td>\n",
              "      <td>2020-01-23</td>\n",
              "      <td>2020-02-05</td>\n",
              "      <td>NaN</td>\n",
              "      <td>released</td>\n",
              "      <td>Overseas</td>\n",
              "      <td>1</td>\n",
              "      <td>1</td>\n",
              "    </tr>\n",
              "    <tr>\n",
              "      <th>1</th>\n",
              "      <td>1000000002</td>\n",
              "      <td>5.0</td>\n",
              "      <td>male</td>\n",
              "      <td>1987</td>\n",
              "      <td>30</td>\n",
              "      <td>Korea</td>\n",
              "      <td>Seoul</td>\n",
              "      <td>Jungnang-gu</td>\n",
              "      <td>NaN</td>\n",
              "      <td>overseas inflow</td>\n",
              "      <td>1.0</td>\n",
              "      <td>NaN</td>\n",
              "      <td>31</td>\n",
              "      <td>NaN</td>\n",
              "      <td>2020-01-30</td>\n",
              "      <td>2020-03-02</td>\n",
              "      <td>NaN</td>\n",
              "      <td>released</td>\n",
              "      <td>Overseas</td>\n",
              "      <td>4</td>\n",
              "      <td>9</td>\n",
              "    </tr>\n",
              "    <tr>\n",
              "      <th>2</th>\n",
              "      <td>1000000003</td>\n",
              "      <td>6.0</td>\n",
              "      <td>male</td>\n",
              "      <td>1964</td>\n",
              "      <td>50</td>\n",
              "      <td>Korea</td>\n",
              "      <td>Seoul</td>\n",
              "      <td>Jongno-gu</td>\n",
              "      <td>NaN</td>\n",
              "      <td>contact with patient</td>\n",
              "      <td>2.0</td>\n",
              "      <td>2002000001</td>\n",
              "      <td>17</td>\n",
              "      <td>NaN</td>\n",
              "      <td>2020-01-30</td>\n",
              "      <td>2020-02-19</td>\n",
              "      <td>NaN</td>\n",
              "      <td>released</td>\n",
              "      <td>Individual</td>\n",
              "      <td>2</td>\n",
              "      <td>0</td>\n",
              "    </tr>\n",
              "    <tr>\n",
              "      <th>3</th>\n",
              "      <td>1000000004</td>\n",
              "      <td>7.0</td>\n",
              "      <td>male</td>\n",
              "      <td>1991</td>\n",
              "      <td>20</td>\n",
              "      <td>Korea</td>\n",
              "      <td>Seoul</td>\n",
              "      <td>Mapo-gu</td>\n",
              "      <td>NaN</td>\n",
              "      <td>overseas inflow</td>\n",
              "      <td>1.0</td>\n",
              "      <td>NaN</td>\n",
              "      <td>9</td>\n",
              "      <td>2020-01-26</td>\n",
              "      <td>2020-01-30</td>\n",
              "      <td>2020-02-15</td>\n",
              "      <td>NaN</td>\n",
              "      <td>released</td>\n",
              "      <td>Overseas</td>\n",
              "      <td>0</td>\n",
              "      <td>1</td>\n",
              "    </tr>\n",
              "    <tr>\n",
              "      <th>4</th>\n",
              "      <td>1000000005</td>\n",
              "      <td>9.0</td>\n",
              "      <td>female</td>\n",
              "      <td>1992</td>\n",
              "      <td>20</td>\n",
              "      <td>Korea</td>\n",
              "      <td>Seoul</td>\n",
              "      <td>Seongbuk-gu</td>\n",
              "      <td>NaN</td>\n",
              "      <td>contact with patient</td>\n",
              "      <td>2.0</td>\n",
              "      <td>1000000002</td>\n",
              "      <td>2</td>\n",
              "      <td>NaN</td>\n",
              "      <td>2020-01-31</td>\n",
              "      <td>2020-02-24</td>\n",
              "      <td>NaN</td>\n",
              "      <td>released</td>\n",
              "      <td>Individual</td>\n",
              "      <td>0</td>\n",
              "      <td>1</td>\n",
              "    </tr>\n",
              "  </tbody>\n",
              "</table>\n",
              "</div>"
            ],
            "text/plain": [
              "   patient_id  global_num     sex  ... infection_cause non_essential essential\n",
              "0  1000000001         2.0    male  ...        Overseas             1         1\n",
              "1  1000000002         5.0    male  ...        Overseas             4         9\n",
              "2  1000000003         6.0    male  ...      Individual             2         0\n",
              "3  1000000004         7.0    male  ...        Overseas             0         1\n",
              "4  1000000005         9.0  female  ...      Individual             0         1\n",
              "\n",
              "[5 rows x 21 columns]"
            ]
          },
          "metadata": {},
          "execution_count": 40
        }
      ]
    },
    {
      "cell_type": "code",
      "metadata": {
        "colab": {
          "base_uri": "https://localhost:8080/"
        },
        "id": "S-l5gYsy5K2Z",
        "outputId": "ada0b4c4-bf26-4b11-ddbe-88c6bda677c7"
      },
      "source": [
        "# 모든 환자에 대해서 동선이 명확한 것이 아니기 때문에 Join 후 대폭 행의 수가 줄어 들었다.\n",
        "print(\"Number of Rows Before = {}\".format(len(df1)))\n",
        "print(\"Number of Rows After = {}\".format(len(df_joined)))"
      ],
      "execution_count": 41,
      "outputs": [
        {
          "output_type": "stream",
          "text": [
            "Number of Rows Before = 4004\n",
            "Number of Rows After = 1472\n"
          ],
          "name": "stdout"
        }
      ]
    },
    {
      "cell_type": "markdown",
      "metadata": {
        "id": "a_jYQEg95K2Z"
      },
      "source": [
        "### 5. 접촉 빈도 (Number of Contacts)"
      ]
    },
    {
      "cell_type": "code",
      "metadata": {
        "id": "3OLPgKmj5K2Z"
      },
      "source": [
        "# contact_number가 결측치가 아니고 '-'가 아닌 행들만 가져온다. '-'는 오류로 유입된 값인듯.\n",
        "res = df_joined.contact_number\n",
        "df_joined = df_joined[~res.isnull() & (res != '-')]"
      ],
      "execution_count": 42,
      "outputs": []
    },
    {
      "cell_type": "code",
      "metadata": {
        "id": "u56K5Mpz5K2a"
      },
      "source": [
        "# contact_number의 자료형을 integer로 변경하고 이상값은 제거한다.\n",
        "df_joined['contact_number'] = df_joined.contact_number.astype(int)\n",
        "df_joined = df_joined[df_joined.contact_number < 10000]"
      ],
      "execution_count": 43,
      "outputs": []
    },
    {
      "cell_type": "code",
      "metadata": {
        "colab": {
          "base_uri": "https://localhost:8080/"
        },
        "id": "1_PE8EGX5K2a",
        "outputId": "bf388f69-2a4a-455f-ad2c-5004181fc0de"
      },
      "source": [
        "# 최대 첩촉빈도.\n",
        "df_joined.contact_number.max()"
      ],
      "execution_count": 44,
      "outputs": [
        {
          "output_type": "execute_result",
          "data": {
            "text/plain": [
              "1160"
            ]
          },
          "metadata": {},
          "execution_count": 44
        }
      ]
    },
    {
      "cell_type": "code",
      "metadata": {
        "colab": {
          "base_uri": "https://localhost:8080/",
          "height": 0
        },
        "id": "G_MFkPaX5K2a",
        "outputId": "bc0b2d07-3f6d-44a7-9d1e-45109624550b"
      },
      "source": [
        "# 최대 첩촉빈도에 해당하는 환자.\n",
        "df_joined[df_joined.contact_number == df_joined.contact_number.max()]"
      ],
      "execution_count": 45,
      "outputs": [
        {
          "output_type": "execute_result",
          "data": {
            "text/html": [
              "<div>\n",
              "<style scoped>\n",
              "    .dataframe tbody tr th:only-of-type {\n",
              "        vertical-align: middle;\n",
              "    }\n",
              "\n",
              "    .dataframe tbody tr th {\n",
              "        vertical-align: top;\n",
              "    }\n",
              "\n",
              "    .dataframe thead th {\n",
              "        text-align: right;\n",
              "    }\n",
              "</style>\n",
              "<table border=\"1\" class=\"dataframe\">\n",
              "  <thead>\n",
              "    <tr style=\"text-align: right;\">\n",
              "      <th></th>\n",
              "      <th>patient_id</th>\n",
              "      <th>global_num</th>\n",
              "      <th>sex</th>\n",
              "      <th>birth_year</th>\n",
              "      <th>age</th>\n",
              "      <th>country</th>\n",
              "      <th>province</th>\n",
              "      <th>city</th>\n",
              "      <th>disease</th>\n",
              "      <th>infection_case</th>\n",
              "      <th>infection_order</th>\n",
              "      <th>infected_by</th>\n",
              "      <th>contact_number</th>\n",
              "      <th>symptom_onset_date</th>\n",
              "      <th>confirmed_date</th>\n",
              "      <th>released_date</th>\n",
              "      <th>deceased_date</th>\n",
              "      <th>state</th>\n",
              "      <th>infection_cause</th>\n",
              "      <th>non_essential</th>\n",
              "      <th>essential</th>\n",
              "    </tr>\n",
              "  </thead>\n",
              "  <tbody>\n",
              "    <tr>\n",
              "      <th>901</th>\n",
              "      <td>1200000031</td>\n",
              "      <td>31.0</td>\n",
              "      <td>female</td>\n",
              "      <td>1959</td>\n",
              "      <td>60</td>\n",
              "      <td>Korea</td>\n",
              "      <td>Daegu</td>\n",
              "      <td>NaN</td>\n",
              "      <td>NaN</td>\n",
              "      <td>Shincheonji Church</td>\n",
              "      <td>NaN</td>\n",
              "      <td>NaN</td>\n",
              "      <td>1160</td>\n",
              "      <td>NaN</td>\n",
              "      <td>2020-02-18</td>\n",
              "      <td>NaN</td>\n",
              "      <td>NaN</td>\n",
              "      <td>isolated</td>\n",
              "      <td>Group</td>\n",
              "      <td>5</td>\n",
              "      <td>11</td>\n",
              "    </tr>\n",
              "  </tbody>\n",
              "</table>\n",
              "</div>"
            ],
            "text/plain": [
              "     patient_id  global_num     sex  ... infection_cause non_essential essential\n",
              "901  1200000031        31.0  female  ...           Group             5        11\n",
              "\n",
              "[1 rows x 21 columns]"
            ]
          },
          "metadata": {},
          "execution_count": 45
        }
      ]
    },
    {
      "cell_type": "code",
      "metadata": {
        "colab": {
          "base_uri": "https://localhost:8080/",
          "height": 0
        },
        "id": "eXzFGkzi5K2a",
        "outputId": "849966b5-7905-49ff-85af-c5e80f1b92f7"
      },
      "source": [
        "# 접촉 빈도를 히스토그램으로 시각화 한다.\n",
        "sns.histplot(df_joined.contact_number,bins=50)\n",
        "plt.show()"
      ],
      "execution_count": 46,
      "outputs": [
        {
          "output_type": "display_data",
          "data": {
            "image/png": "[encoded data removed]",
            "text/plain": [
              "<Figure size 432x288 with 1 Axes>"
            ]
          },
          "metadata": {
            "needs_background": "light"
          }
        }
      ]
    },
    {
      "cell_type": "code",
      "metadata": {
        "colab": {
          "base_uri": "https://localhost:8080/",
          "height": 0
        },
        "id": "2ph0u82H5K2a",
        "outputId": "5cfbe520-afa2-486d-d54c-45a397155aa6"
      },
      "source": [
        "# 필요한 컬럼만 가져와서 정리한다.\n",
        "df4 = df_joined[['patient_id', 'contact_number', 'essential','non_essential','infection_cause']]\n",
        "df4.head()"
      ],
      "execution_count": 47,
      "outputs": [
        {
          "output_type": "execute_result",
          "data": {
            "text/html": [
              "<div>\n",
              "<style scoped>\n",
              "    .dataframe tbody tr th:only-of-type {\n",
              "        vertical-align: middle;\n",
              "    }\n",
              "\n",
              "    .dataframe tbody tr th {\n",
              "        vertical-align: top;\n",
              "    }\n",
              "\n",
              "    .dataframe thead th {\n",
              "        text-align: right;\n",
              "    }\n",
              "</style>\n",
              "<table border=\"1\" class=\"dataframe\">\n",
              "  <thead>\n",
              "    <tr style=\"text-align: right;\">\n",
              "      <th></th>\n",
              "      <th>patient_id</th>\n",
              "      <th>contact_number</th>\n",
              "      <th>essential</th>\n",
              "      <th>non_essential</th>\n",
              "      <th>infection_cause</th>\n",
              "    </tr>\n",
              "  </thead>\n",
              "  <tbody>\n",
              "    <tr>\n",
              "      <th>0</th>\n",
              "      <td>1000000001</td>\n",
              "      <td>75</td>\n",
              "      <td>1</td>\n",
              "      <td>1</td>\n",
              "      <td>Overseas</td>\n",
              "    </tr>\n",
              "    <tr>\n",
              "      <th>1</th>\n",
              "      <td>1000000002</td>\n",
              "      <td>31</td>\n",
              "      <td>9</td>\n",
              "      <td>4</td>\n",
              "      <td>Overseas</td>\n",
              "    </tr>\n",
              "    <tr>\n",
              "      <th>2</th>\n",
              "      <td>1000000003</td>\n",
              "      <td>17</td>\n",
              "      <td>0</td>\n",
              "      <td>2</td>\n",
              "      <td>Individual</td>\n",
              "    </tr>\n",
              "    <tr>\n",
              "      <th>3</th>\n",
              "      <td>1000000004</td>\n",
              "      <td>9</td>\n",
              "      <td>1</td>\n",
              "      <td>0</td>\n",
              "      <td>Overseas</td>\n",
              "    </tr>\n",
              "    <tr>\n",
              "      <th>4</th>\n",
              "      <td>1000000005</td>\n",
              "      <td>2</td>\n",
              "      <td>1</td>\n",
              "      <td>0</td>\n",
              "      <td>Individual</td>\n",
              "    </tr>\n",
              "  </tbody>\n",
              "</table>\n",
              "</div>"
            ],
            "text/plain": [
              "   patient_id  contact_number  essential  non_essential infection_cause\n",
              "0  1000000001              75          1              1        Overseas\n",
              "1  1000000002              31          9              4        Overseas\n",
              "2  1000000003              17          0              2      Individual\n",
              "3  1000000004               9          1              0        Overseas\n",
              "4  1000000005               2          1              0      Individual"
            ]
          },
          "metadata": {},
          "execution_count": 47
        }
      ]
    },
    {
      "cell_type": "markdown",
      "metadata": {
        "id": "-v3Nvaln5K2a"
      },
      "source": [
        "### 6. 군집화 (Clustering)"
      ]
    },
    {
      "cell_type": "code",
      "metadata": {
        "id": "smkYvOAU5K2b"
      },
      "source": [
        "# Infection_cause를 가변수 처리한다.\n",
        "df4 = df4.join(pd.get_dummies(df4.infection_cause, prefix='infection',drop_first=False))"
      ],
      "execution_count": 48,
      "outputs": []
    },
    {
      "cell_type": "code",
      "metadata": {
        "scrolled": true,
        "colab": {
          "base_uri": "https://localhost:8080/",
          "height": 223
        },
        "id": "1x22LDMV5K2b",
        "outputId": "6b58441e-2644-4831-e27a-f9cae2123b7d"
      },
      "source": [
        "df4.head()"
      ],
      "execution_count": 49,
      "outputs": [
        {
          "output_type": "execute_result",
          "data": {
            "text/html": [
              "<div>\n",
              "<style scoped>\n",
              "    .dataframe tbody tr th:only-of-type {\n",
              "        vertical-align: middle;\n",
              "    }\n",
              "\n",
              "    .dataframe tbody tr th {\n",
              "        vertical-align: top;\n",
              "    }\n",
              "\n",
              "    .dataframe thead th {\n",
              "        text-align: right;\n",
              "    }\n",
              "</style>\n",
              "<table border=\"1\" class=\"dataframe\">\n",
              "  <thead>\n",
              "    <tr style=\"text-align: right;\">\n",
              "      <th></th>\n",
              "      <th>patient_id</th>\n",
              "      <th>contact_number</th>\n",
              "      <th>essential</th>\n",
              "      <th>non_essential</th>\n",
              "      <th>infection_cause</th>\n",
              "      <th>infection_Group</th>\n",
              "      <th>infection_Individual</th>\n",
              "      <th>infection_Overseas</th>\n",
              "      <th>infection_Unknown</th>\n",
              "    </tr>\n",
              "  </thead>\n",
              "  <tbody>\n",
              "    <tr>\n",
              "      <th>0</th>\n",
              "      <td>1000000001</td>\n",
              "      <td>75</td>\n",
              "      <td>1</td>\n",
              "      <td>1</td>\n",
              "      <td>Overseas</td>\n",
              "      <td>0</td>\n",
              "      <td>0</td>\n",
              "      <td>1</td>\n",
              "      <td>0</td>\n",
              "    </tr>\n",
              "    <tr>\n",
              "      <th>1</th>\n",
              "      <td>1000000002</td>\n",
              "      <td>31</td>\n",
              "      <td>9</td>\n",
              "      <td>4</td>\n",
              "      <td>Overseas</td>\n",
              "      <td>0</td>\n",
              "      <td>0</td>\n",
              "      <td>1</td>\n",
              "      <td>0</td>\n",
              "    </tr>\n",
              "    <tr>\n",
              "      <th>2</th>\n",
              "      <td>1000000003</td>\n",
              "      <td>17</td>\n",
              "      <td>0</td>\n",
              "      <td>2</td>\n",
              "      <td>Individual</td>\n",
              "      <td>0</td>\n",
              "      <td>1</td>\n",
              "      <td>0</td>\n",
              "      <td>0</td>\n",
              "    </tr>\n",
              "    <tr>\n",
              "      <th>3</th>\n",
              "      <td>1000000004</td>\n",
              "      <td>9</td>\n",
              "      <td>1</td>\n",
              "      <td>0</td>\n",
              "      <td>Overseas</td>\n",
              "      <td>0</td>\n",
              "      <td>0</td>\n",
              "      <td>1</td>\n",
              "      <td>0</td>\n",
              "    </tr>\n",
              "    <tr>\n",
              "      <th>4</th>\n",
              "      <td>1000000005</td>\n",
              "      <td>2</td>\n",
              "      <td>1</td>\n",
              "      <td>0</td>\n",
              "      <td>Individual</td>\n",
              "      <td>0</td>\n",
              "      <td>1</td>\n",
              "      <td>0</td>\n",
              "      <td>0</td>\n",
              "    </tr>\n",
              "  </tbody>\n",
              "</table>\n",
              "</div>"
            ],
            "text/plain": [
              "   patient_id  contact_number  ...  infection_Overseas  infection_Unknown\n",
              "0  1000000001              75  ...                   1                  0\n",
              "1  1000000002              31  ...                   1                  0\n",
              "2  1000000003              17  ...                   0                  0\n",
              "3  1000000004               9  ...                   1                  0\n",
              "4  1000000005               2  ...                   0                  0\n",
              "\n",
              "[5 rows x 9 columns]"
            ]
          },
          "metadata": {},
          "execution_count": 49
        }
      ]
    },
    {
      "cell_type": "code",
      "metadata": {
        "id": "jd0Ctolp5K2b"
      },
      "source": [
        "df_final = df4[ ['essential', 'non_essential', 'contact_number',\n",
        "          'infection_Group', 'infection_Individual', 'infection_Overseas', 'infection_Unknown']]"
      ],
      "execution_count": 50,
      "outputs": []
    },
    {
      "cell_type": "code",
      "metadata": {
        "colab": {
          "base_uri": "https://localhost:8080/",
          "height": 223
        },
        "id": "MWl1Vz-G5K2b",
        "outputId": "c78979a4-6a08-4c41-89ed-3507b612a216"
      },
      "source": [
        "df_final.head()"
      ],
      "execution_count": 51,
      "outputs": [
        {
          "output_type": "execute_result",
          "data": {
            "text/html": [
              "<div>\n",
              "<style scoped>\n",
              "    .dataframe tbody tr th:only-of-type {\n",
              "        vertical-align: middle;\n",
              "    }\n",
              "\n",
              "    .dataframe tbody tr th {\n",
              "        vertical-align: top;\n",
              "    }\n",
              "\n",
              "    .dataframe thead th {\n",
              "        text-align: right;\n",
              "    }\n",
              "</style>\n",
              "<table border=\"1\" class=\"dataframe\">\n",
              "  <thead>\n",
              "    <tr style=\"text-align: right;\">\n",
              "      <th></th>\n",
              "      <th>essential</th>\n",
              "      <th>non_essential</th>\n",
              "      <th>contact_number</th>\n",
              "      <th>infection_Group</th>\n",
              "      <th>infection_Individual</th>\n",
              "      <th>infection_Overseas</th>\n",
              "      <th>infection_Unknown</th>\n",
              "    </tr>\n",
              "  </thead>\n",
              "  <tbody>\n",
              "    <tr>\n",
              "      <th>0</th>\n",
              "      <td>1</td>\n",
              "      <td>1</td>\n",
              "      <td>75</td>\n",
              "      <td>0</td>\n",
              "      <td>0</td>\n",
              "      <td>1</td>\n",
              "      <td>0</td>\n",
              "    </tr>\n",
              "    <tr>\n",
              "      <th>1</th>\n",
              "      <td>9</td>\n",
              "      <td>4</td>\n",
              "      <td>31</td>\n",
              "      <td>0</td>\n",
              "      <td>0</td>\n",
              "      <td>1</td>\n",
              "      <td>0</td>\n",
              "    </tr>\n",
              "    <tr>\n",
              "      <th>2</th>\n",
              "      <td>0</td>\n",
              "      <td>2</td>\n",
              "      <td>17</td>\n",
              "      <td>0</td>\n",
              "      <td>1</td>\n",
              "      <td>0</td>\n",
              "      <td>0</td>\n",
              "    </tr>\n",
              "    <tr>\n",
              "      <th>3</th>\n",
              "      <td>1</td>\n",
              "      <td>0</td>\n",
              "      <td>9</td>\n",
              "      <td>0</td>\n",
              "      <td>0</td>\n",
              "      <td>1</td>\n",
              "      <td>0</td>\n",
              "    </tr>\n",
              "    <tr>\n",
              "      <th>4</th>\n",
              "      <td>1</td>\n",
              "      <td>0</td>\n",
              "      <td>2</td>\n",
              "      <td>0</td>\n",
              "      <td>1</td>\n",
              "      <td>0</td>\n",
              "      <td>0</td>\n",
              "    </tr>\n",
              "  </tbody>\n",
              "</table>\n",
              "</div>"
            ],
            "text/plain": [
              "   essential  non_essential  ...  infection_Overseas  infection_Unknown\n",
              "0          1              1  ...                   1                  0\n",
              "1          9              4  ...                   1                  0\n",
              "2          0              2  ...                   0                  0\n",
              "3          1              0  ...                   1                  0\n",
              "4          1              0  ...                   0                  0\n",
              "\n",
              "[5 rows x 7 columns]"
            ]
          },
          "metadata": {},
          "execution_count": 51
        }
      ]
    },
    {
      "cell_type": "code",
      "metadata": {
        "id": "xZQ30K0W5K2b"
      },
      "source": [
        "# 컬럼의 표준화를 실행한다.\n",
        "X = df_final.values                        \n",
        "my_scaler = StandardScaler()\n",
        "X = my_scaler.fit_transform(X)\n",
        "#pd.DataFrame(data=X, columns=df_final.columns).head()   # 표준화 확인."
      ],
      "execution_count": 52,
      "outputs": []
    },
    {
      "cell_type": "code",
      "metadata": {
        "id": "QOVY8qYJ5K2b"
      },
      "source": [
        "# 군집의 수 = 4로 정하고 군집화를 실행한다.  <= 군집의 수 최적화가 선행되어야 한다! (부록 참고)\n",
        "my_km = KMeans(n_clusters = 4, random_state = 123)\n",
        "my_km.fit(X)\n",
        "\n",
        "my_centroids = my_km.cluster_centers_               # 개개 군집의 중심점.\n",
        "my_cluster_labels = my_km.labels_                   # 군집 label."
      ],
      "execution_count": 53,
      "outputs": []
    },
    {
      "cell_type": "code",
      "metadata": {
        "colab": {
          "base_uri": "https://localhost:8080/",
          "height": 192
        },
        "id": "u9VC4ETW5K2b",
        "outputId": "df3f867b-0c32-4058-eb3e-70f95cf6576d"
      },
      "source": [
        "# 클러스터 중심을 출력하고 해석한다.\n",
        "pd.DataFrame(data=my_centroids, columns = df_final.columns)"
      ],
      "execution_count": 54,
      "outputs": [
        {
          "output_type": "execute_result",
          "data": {
            "text/html": [
              "<div>\n",
              "<style scoped>\n",
              "    .dataframe tbody tr th:only-of-type {\n",
              "        vertical-align: middle;\n",
              "    }\n",
              "\n",
              "    .dataframe tbody tr th {\n",
              "        vertical-align: top;\n",
              "    }\n",
              "\n",
              "    .dataframe thead th {\n",
              "        text-align: right;\n",
              "    }\n",
              "</style>\n",
              "<table border=\"1\" class=\"dataframe\">\n",
              "  <thead>\n",
              "    <tr style=\"text-align: right;\">\n",
              "      <th></th>\n",
              "      <th>essential</th>\n",
              "      <th>non_essential</th>\n",
              "      <th>contact_number</th>\n",
              "      <th>infection_Group</th>\n",
              "      <th>infection_Individual</th>\n",
              "      <th>infection_Overseas</th>\n",
              "      <th>infection_Unknown</th>\n",
              "    </tr>\n",
              "  </thead>\n",
              "  <tbody>\n",
              "    <tr>\n",
              "      <th>0</th>\n",
              "      <td>-0.0115</td>\n",
              "      <td>-0.0777</td>\n",
              "      <td>-0.1040</td>\n",
              "      <td>-0.5458</td>\n",
              "      <td>1.2632</td>\n",
              "      <td>-0.4820</td>\n",
              "      <td>-0.4949</td>\n",
              "    </tr>\n",
              "    <tr>\n",
              "      <th>1</th>\n",
              "      <td>0.2104</td>\n",
              "      <td>0.3043</td>\n",
              "      <td>0.2243</td>\n",
              "      <td>1.8323</td>\n",
              "      <td>-0.7916</td>\n",
              "      <td>-0.4820</td>\n",
              "      <td>-0.4949</td>\n",
              "    </tr>\n",
              "    <tr>\n",
              "      <th>2</th>\n",
              "      <td>-0.1589</td>\n",
              "      <td>-0.2342</td>\n",
              "      <td>-0.0300</td>\n",
              "      <td>-0.5458</td>\n",
              "      <td>-0.7916</td>\n",
              "      <td>2.0747</td>\n",
              "      <td>-0.4949</td>\n",
              "    </tr>\n",
              "    <tr>\n",
              "      <th>3</th>\n",
              "      <td>-0.0707</td>\n",
              "      <td>0.0216</td>\n",
              "      <td>-0.0293</td>\n",
              "      <td>-0.5458</td>\n",
              "      <td>-0.7916</td>\n",
              "      <td>-0.4820</td>\n",
              "      <td>2.0207</td>\n",
              "    </tr>\n",
              "  </tbody>\n",
              "</table>\n",
              "</div>"
            ],
            "text/plain": [
              "   essential  non_essential  ...  infection_Overseas  infection_Unknown\n",
              "0    -0.0115        -0.0777  ...             -0.4820            -0.4949\n",
              "1     0.2104         0.3043  ...             -0.4820            -0.4949\n",
              "2    -0.1589        -0.2342  ...              2.0747            -0.4949\n",
              "3    -0.0707         0.0216  ...             -0.4820             2.0207\n",
              "\n",
              "[4 rows x 7 columns]"
            ]
          },
          "metadata": {},
          "execution_count": 54
        }
      ]
    },
    {
      "cell_type": "markdown",
      "metadata": {
        "id": "fY2Y9OkM5K2c"
      },
      "source": [
        "**해석:** <br>\n",
        "- Label 0 (red)    : Moderate unknowns.\n",
        "- Label 1 (blue)   : Social minimalist.\n",
        "- Label 2 (green)  : Overseas. \n",
        "- Label 3 (yellow) : Hyper-mobile and hyper-social."
      ]
    },
    {
      "cell_type": "code",
      "metadata": {
        "colab": {
          "base_uri": "https://localhost:8080/",
          "height": 357
        },
        "id": "NJyWYT7t5K2c",
        "outputId": "e71987d1-78ee-4f34-ea25-5e682a47ff99"
      },
      "source": [
        "# 주성분 분석 (PCA)를 활용한 차원축소 (2차원).\n",
        "my_pca = PCA(n_components = 2)   \n",
        "transformed_comps = my_pca.fit_transform(X)         # Transformed 된 좌표.\n",
        "df_transformed_comps = pd.DataFrame(data = transformed_comps, columns = ['PC1', 'PC2'])  # PC = Principal Component = 주성분.\n",
        "#df_transformed_comps.head(10)\n",
        "df_transformed_comps=df_transformed_comps.join(pd.Series(my_cluster_labels, name='cluster_label'))\n",
        "df_transformed_comps.head(10)"
      ],
      "execution_count": 55,
      "outputs": [
        {
          "output_type": "execute_result",
          "data": {
            "text/html": [
              "<div>\n",
              "<style scoped>\n",
              "    .dataframe tbody tr th:only-of-type {\n",
              "        vertical-align: middle;\n",
              "    }\n",
              "\n",
              "    .dataframe tbody tr th {\n",
              "        vertical-align: top;\n",
              "    }\n",
              "\n",
              "    .dataframe thead th {\n",
              "        text-align: right;\n",
              "    }\n",
              "</style>\n",
              "<table border=\"1\" class=\"dataframe\">\n",
              "  <thead>\n",
              "    <tr style=\"text-align: right;\">\n",
              "      <th></th>\n",
              "      <th>PC1</th>\n",
              "      <th>PC2</th>\n",
              "      <th>cluster_label</th>\n",
              "    </tr>\n",
              "  </thead>\n",
              "  <tbody>\n",
              "    <tr>\n",
              "      <th>0</th>\n",
              "      <td>-0.6870</td>\n",
              "      <td>-1.5806</td>\n",
              "      <td>2</td>\n",
              "    </tr>\n",
              "    <tr>\n",
              "      <th>1</th>\n",
              "      <td>0.8155</td>\n",
              "      <td>-0.7954</td>\n",
              "      <td>2</td>\n",
              "    </tr>\n",
              "    <tr>\n",
              "      <th>2</th>\n",
              "      <td>-1.3612</td>\n",
              "      <td>1.0461</td>\n",
              "      <td>0</td>\n",
              "    </tr>\n",
              "    <tr>\n",
              "      <th>3</th>\n",
              "      <td>-1.0707</td>\n",
              "      <td>-1.6690</td>\n",
              "      <td>2</td>\n",
              "    </tr>\n",
              "    <tr>\n",
              "      <th>4</th>\n",
              "      <td>-1.4295</td>\n",
              "      <td>1.0558</td>\n",
              "      <td>0</td>\n",
              "    </tr>\n",
              "    <tr>\n",
              "      <th>5</th>\n",
              "      <td>-1.3356</td>\n",
              "      <td>1.0336</td>\n",
              "      <td>0</td>\n",
              "    </tr>\n",
              "    <tr>\n",
              "      <th>6</th>\n",
              "      <td>-1.5269</td>\n",
              "      <td>0.9981</td>\n",
              "      <td>0</td>\n",
              "    </tr>\n",
              "    <tr>\n",
              "      <th>7</th>\n",
              "      <td>-1.1108</td>\n",
              "      <td>-1.6765</td>\n",
              "      <td>2</td>\n",
              "    </tr>\n",
              "    <tr>\n",
              "      <th>8</th>\n",
              "      <td>0.1792</td>\n",
              "      <td>-1.2029</td>\n",
              "      <td>2</td>\n",
              "    </tr>\n",
              "    <tr>\n",
              "      <th>9</th>\n",
              "      <td>-1.0531</td>\n",
              "      <td>1.2169</td>\n",
              "      <td>0</td>\n",
              "    </tr>\n",
              "  </tbody>\n",
              "</table>\n",
              "</div>"
            ],
            "text/plain": [
              "      PC1     PC2  cluster_label\n",
              "0 -0.6870 -1.5806              2\n",
              "1  0.8155 -0.7954              2\n",
              "2 -1.3612  1.0461              0\n",
              "3 -1.0707 -1.6690              2\n",
              "4 -1.4295  1.0558              0\n",
              "5 -1.3356  1.0336              0\n",
              "6 -1.5269  0.9981              0\n",
              "7 -1.1108 -1.6765              2\n",
              "8  0.1792 -1.2029              2\n",
              "9 -1.0531  1.2169              0"
            ]
          },
          "metadata": {},
          "execution_count": 55
        }
      ]
    },
    {
      "cell_type": "code",
      "metadata": {
        "colab": {
          "base_uri": "https://localhost:8080/",
          "height": 404
        },
        "id": "P6ZbOZuq5K2f",
        "outputId": "ac4a0924-8797-4afa-c4a6-82e6600c468d"
      },
      "source": [
        "# 산점도 시각화.\n",
        "my_colors = {0:'red',1:'blue',2:'green',3:'yellow'}    # 군집 label => Color.\n",
        "my_names = {0: 'Moderate unknwons.', 1: 'Social minimalists.', 2: 'Overseas.', 3: 'Hyper-mobile and hyper-social.'} # 군집 label => 명칭.\n",
        "\n",
        "plt.figure(figsize = (6,6))\n",
        "for a_cluster_n, df_small in df_transformed_comps.groupby('cluster_label'):\n",
        "#    plt.scatter('PC1', 'PC2', data = df_small, c = my_colors[a_cluster_n], label = my_names[a_cluster_n], s = 10, alpha=0.6 )\n",
        "    plt.scatter(df_small['PC1'], df_small['PC2'], c = my_colors[a_cluster_n], label = my_names[a_cluster_n], s=10, alpha=0.6, marker=\"s\" )\n",
        "\n",
        "plt.xlabel('PC1')\n",
        "plt.ylabel('PC2')\n",
        "plt.title('Clusters')\n",
        "plt.legend(loc=\"lower right\")\n",
        "plt.show()"
      ],
      "execution_count": 56,
      "outputs": [
        {
          "output_type": "display_data",
          "data": {
            "image/png": "[encoded data removed]",
            "text/plain": [
              "<Figure size 432x432 with 1 Axes>"
            ]
          },
          "metadata": {
            "needs_background": "light"
          }
        }
      ]
    },
    {
      "cell_type": "markdown",
      "metadata": {
        "id": "1_sKwzh15K2g"
      },
      "source": [
        "### 부록: 군집의 수 최적화"
      ]
    },
    {
      "cell_type": "code",
      "metadata": {
        "colab": {
          "base_uri": "https://localhost:8080/",
          "height": 404
        },
        "id": "JRQwBOxz5K2g",
        "outputId": "a1959333-7e3c-48db-d3ad-b28b6c428f6f"
      },
      "source": [
        "# 군집의 수를 키워가며 Sum of Squares Within (~ Internal Sum of Squares)을 계산한다.\n",
        "ssw = []\n",
        "cluster_ns = range(2,16)\n",
        "for n in cluster_ns:\n",
        "    my_cluster = KMeans(n)\n",
        "    my_cluster.fit(X)\n",
        "    ssw.append(my_cluster.inertia_)         # SSW를 모아둔다.\n",
        "\n",
        "plt.figure(figsize = (6,6))\n",
        "plt.plot(cluster_ns, ssw)\n",
        "plt.title('Elbow Method')\n",
        "plt.xlabel('Number of Clusters')\n",
        "plt.ylabel('Sum of Squares Within')\n",
        "plt.show()"
      ],
      "execution_count": 57,
      "outputs": [
        {
          "output_type": "display_data",
          "data": {
            "image/png": "[encoded data removed]",
            "text/plain": [
              "<Figure size 432x432 with 1 Axes>"
            ]
          },
          "metadata": {
            "needs_background": "light"
          }
        }
      ]
    },
    {
      "cell_type": "markdown",
      "metadata": {
        "id": "_BB5PDYS5K2g"
      },
      "source": [
        "**결론**: 군집의 수가 5 이상일 때 SSW의 감소 속도가 둔화된다. => 군집의 적정 수 = 4."
      ]
    },
    {
      "cell_type": "code",
      "metadata": {
        "id": "6dYX_d295K2g"
      },
      "source": [
        ""
      ],
      "execution_count": 57,
      "outputs": []
    }
  ]
}
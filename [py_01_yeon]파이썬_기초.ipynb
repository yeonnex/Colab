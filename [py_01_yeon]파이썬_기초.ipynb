{
  "nbformat": 4,
  "nbformat_minor": 0,
  "metadata": {
    "colab": {
      "name": "[py_01_yeon]파이썬_기초.ipynb",
      "provenance": [],
      "authorship_tag": "ABX9TyN49B57npX5sPKd7azlFszi",
      "include_colab_link": true
    },
    "kernelspec": {
      "name": "python3",
      "display_name": "Python 3"
    },
    "language_info": {
      "name": "python"
    }
  },
  "cells": [
    {
      "cell_type": "markdown",
      "metadata": {
        "id": "view-in-github",
        "colab_type": "text"
      },
      "source": [
        "<a href=\"https://colab.research.google.com/github/yeonnex/Colab/blob/main/%5Bpy_01_yeon%5D%ED%8C%8C%EC%9D%B4%EC%8D%AC_%EA%B8%B0%EC%B4%88.ipynb\" target=\"_parent\"><img src=\"https://colab.research.google.com/assets/colab-badge.svg\" alt=\"Open In Colab\"/></a>"
      ]
    },
    {
      "cell_type": "code",
      "metadata": {
        "id": "kQW9-yguVxys",
        "colab": {
          "base_uri": "https://localhost:8080/"
        },
        "outputId": "def34181-0712-4d40-e75f-9e4b6635ea20"
      },
      "source": [
        "## 강사님 방법\n",
        "# '의도부터 짠다'\n",
        "# 인풋 아웃풋 -> 함수부터 만든다.\n",
        "\n",
        "def isLeapYear(year):\n",
        "  # pass\n",
        "  if year % 400 == 0:\n",
        "    return False\n",
        "  if year % 100 == 0:\n",
        "    return False\n",
        "  if year % 4 == 0:\n",
        "    return True\n",
        "  \n",
        "  return False\n",
        "# 시프트 알트 방향키아래 = 커서 한줄 복사\n",
        "def printLeapYear(year):\n",
        "  print(isLeapYear(year)) \n",
        "\n",
        "printLeapYear(2004) # 이걸 먼저 생각한다. 나는 이런 기능이 되었으면 좋겠어! 이렇게 하면 편하게, 스트레스 안받고 짤 수 있음\n",
        "printLeapYear(2008)\n",
        "\n",
        "print(isLeapYear(2008)) \n",
        "print(isLeapYear(2100)) \n",
        "print(isLeapYear(2000))\n",
        "\n",
        "# 프린트나, 로그 기록도 함수로 나눠주는 것이 좋다. 함수에 출력문이 같이 들어있다면\n",
        "# 따로 출력하는 함수를 만들어주는 게 좋다.\n",
        "\n",
        "# 강사님은 함수부터 생각해서 역으로 짠다.\n",
        "# 설계를 바꾸는 것 = 리팩토링"
      ],
      "execution_count": null,
      "outputs": [
        {
          "output_type": "stream",
          "text": [
            "True\n",
            "True\n",
            "True\n",
            "False\n",
            "False\n"
          ],
          "name": "stdout"
        }
      ]
    },
    {
      "cell_type": "code",
      "metadata": {
        "colab": {
          "base_uri": "https://localhost:8080/"
        },
        "id": "YlBP0PIXHv2J",
        "outputId": "1c2e1ec7-86d9-42df-f2b6-1314b86e2d25"
      },
      "source": [
        "from google.colab import drive\n",
        "drive.mount('/content/gdrive/')"
      ],
      "execution_count": null,
      "outputs": [
        {
          "output_type": "stream",
          "text": [
            "Mounted at /content/gdrive/\n"
          ],
          "name": "stdout"
        }
      ]
    },
    {
      "cell_type": "markdown",
      "metadata": {
        "id": "4H8apIDOGGOw"
      },
      "source": [
        ""
      ]
    },
    {
      "cell_type": "markdown",
      "metadata": {
        "id": "Ebe0SzNyTq3v"
      },
      "source": [
        "## 윤년구하기\n",
        "\n",
        "- 4로 나누어 떨어지는 해는 윤년\n",
        "- 100으로 나누어 떨어지는 해는 평년\n",
        "- 400로 나누어 떨어지는 해는 윤년"
      ]
    },
    {
      "cell_type": "code",
      "metadata": {
        "colab": {
          "base_uri": "https://localhost:8080/"
        },
        "id": "OfqkACe-y-jZ",
        "outputId": "1ca5491e-3d4a-4c66-f004-d03007debb78"
      },
      "source": [
        "year = int(input())\n",
        "if ((year%4 == 0) and (year%4 == 0 and year%100 != 0)) or (year%4==0 and year%100==0 and year%400==0):\n",
        "  print('윤년입니다.')"
      ],
      "execution_count": null,
      "outputs": [
        {
          "output_type": "stream",
          "text": [
            "2020\n",
            "윤년입니다.\n"
          ],
          "name": "stdout"
        }
      ]
    },
    {
      "cell_type": "markdown",
      "metadata": {
        "id": "GM-e8XOyTpq2"
      },
      "source": [
        "## **윤년구하기**"
      ]
    },
    {
      "cell_type": "markdown",
      "metadata": {
        "id": "uIxwoBZScY2y"
      },
      "source": [
        "## 딕셔너리"
      ]
    },
    {
      "cell_type": "code",
      "metadata": {
        "id": "SyC2POy0fntX"
      },
      "source": [
        ""
      ],
      "execution_count": null,
      "outputs": []
    },
    {
      "cell_type": "markdown",
      "metadata": {
        "id": "n09muU0GjBuE"
      },
      "source": [
        "## 클래스"
      ]
    },
    {
      "cell_type": "code",
      "metadata": {
        "id": "6SzNiz6KjESV"
      },
      "source": [
        "x = 1 \n",
        "print(type(x))"
      ],
      "execution_count": null,
      "outputs": []
    },
    {
      "cell_type": "code",
      "metadata": {
        "id": "UD0Z_V3JjbeM"
      },
      "source": [
        "def hello():\n",
        "  print('hello')\n",
        "  \n",
        "print(type(hello)) # 함수도 클래스가 있음. 파이썬은 모든게 클래스. 객체지향언어"
      ],
      "execution_count": null,
      "outputs": []
    },
    {
      "cell_type": "code",
      "metadata": {
        "id": "AmU9UC60j0Ry"
      },
      "source": [
        "x = 1\n",
        "y = 'hello'\n",
        "\n",
        "print(x+y) # 실행시키기 전에 먼저 예상, 추측해본다음 실행시켜야 학습효과 UP!\n",
        "\n",
        "# CPU가 타입변환을 해서 연산하기 때문에, 타입 연산에 주의하자."
      ],
      "execution_count": null,
      "outputs": []
    },
    {
      "cell_type": "code",
      "metadata": {
        "id": "y0hTs6KWkR0m"
      },
      "source": [
        "st = \"hello\"\n",
        "print(st.upper())"
      ],
      "execution_count": null,
      "outputs": []
    },
    {
      "cell_type": "code",
      "metadata": {
        "id": "8oARi3HtlRaV"
      },
      "source": [
        "x = 1\n",
        "print(x.upper())"
      ],
      "execution_count": null,
      "outputs": []
    },
    {
      "cell_type": "code",
      "metadata": {
        "id": "SBySO0MPmCYm",
        "colab": {
          "base_uri": "https://localhost:8080/",
          "height": 223
        },
        "outputId": "a95e7495-0bf5-4c10-ae71-77de4cd408f0"
      },
      "source": [
        "## 강사님의 클래스 만들기\n",
        "class Dog:\n",
        "  def moong(): # 클래스 안의 메서드(인스턴스 메서드)들은 self를 써주어야 한다!\n",
        "    print('멍!')\n",
        "d = Dog() # 나는 개라는 걸 d에 넣고 싶어! 함수나 클래스로 만들기\n",
        "print(type(d))\n",
        "d.moong()"
      ],
      "execution_count": null,
      "outputs": [
        {
          "output_type": "stream",
          "text": [
            "<class '__main__.Dog'>\n"
          ],
          "name": "stdout"
        },
        {
          "output_type": "error",
          "ename": "TypeError",
          "evalue": "ignored",
          "traceback": [
            "\u001b[0;31m---------------------------------------------------------------------------\u001b[0m",
            "\u001b[0;31mTypeError\u001b[0m                                 Traceback (most recent call last)",
            "\u001b[0;32m<ipython-input-1-ab7ba61a9b1e>\u001b[0m in \u001b[0;36m<module>\u001b[0;34m()\u001b[0m\n\u001b[1;32m      5\u001b[0m \u001b[0md\u001b[0m \u001b[0;34m=\u001b[0m \u001b[0mDog\u001b[0m\u001b[0;34m(\u001b[0m\u001b[0;34m)\u001b[0m \u001b[0;31m# 나는 개라는 걸 d에 넣고 싶어! 함수나 클래스로 만들기\u001b[0m\u001b[0;34m\u001b[0m\u001b[0;34m\u001b[0m\u001b[0m\n\u001b[1;32m      6\u001b[0m \u001b[0mprint\u001b[0m\u001b[0;34m(\u001b[0m\u001b[0mtype\u001b[0m\u001b[0;34m(\u001b[0m\u001b[0md\u001b[0m\u001b[0;34m)\u001b[0m\u001b[0;34m)\u001b[0m\u001b[0;34m\u001b[0m\u001b[0;34m\u001b[0m\u001b[0m\n\u001b[0;32m----> 7\u001b[0;31m \u001b[0md\u001b[0m\u001b[0;34m.\u001b[0m\u001b[0mmoong\u001b[0m\u001b[0;34m(\u001b[0m\u001b[0;34m)\u001b[0m\u001b[0;34m\u001b[0m\u001b[0;34m\u001b[0m\u001b[0m\n\u001b[0m",
            "\u001b[0;31mTypeError\u001b[0m: moong() takes 0 positional arguments but 1 was given"
          ]
        }
      ]
    },
    {
      "cell_type": "markdown",
      "metadata": {
        "id": "Zn5PI_Pqmyr9"
      },
      "source": [
        "__ main  __ 은 모듈명이다"
      ]
    },
    {
      "cell_type": "code",
      "metadata": {
        "id": "nnQwLVnrm1tg",
        "colab": {
          "base_uri": "https://localhost:8080/"
        },
        "outputId": "3f7a793f-8f9c-4a9a-cddb-52de14c753f2"
      },
      "source": [
        "\n",
        "class Dog:\n",
        "  def moong(self): \n",
        "    print('멍!')\n",
        "  def add_one(self, num):\n",
        "    return (num+1)\n",
        "\n",
        "d = Dog() \n",
        "print(type(d))\n",
        "d.moong()\n",
        "print(d.add_one(5))"
      ],
      "execution_count": null,
      "outputs": [
        {
          "output_type": "stream",
          "text": [
            "<class '__main__.Dog'>\n",
            "멍!\n",
            "6\n"
          ],
          "name": "stdout"
        }
      ]
    },
    {
      "cell_type": "code",
      "metadata": {
        "id": "m0UuODK5oQyC"
      },
      "source": [
        "class Dog:\n",
        "  def __init__(self):\n",
        "    pass\n",
        "  def moong(self): \n",
        "    print('멍!')\n",
        "  def add_one(self, num):\n",
        "    return (num+1)\n",
        "\n",
        "d = Dog('해피')"
      ],
      "execution_count": null,
      "outputs": []
    },
    {
      "cell_type": "markdown",
      "metadata": {
        "id": "SJTlqCzkpEmU"
      },
      "source": [
        "## 초기화"
      ]
    },
    {
      "cell_type": "code",
      "metadata": {
        "id": "fLKEpVqZpGC9"
      },
      "source": [
        "class Dog:\n",
        "  def __init__(self,name):\n",
        "    # name 보관\n",
        "    # 왼쪽의 name과 오른 name은 다른 것임 왼쪽은 보관하는 곳! 이 객체가 살아있는 한 계속 사용가능\n",
        "    self.name = name\n",
        "  def moong(self): \n",
        "    print('멍!')\n",
        "  def add_one(self, num):\n",
        "    return (num+1)\n",
        "\n",
        "d = Dog('해피')"
      ],
      "execution_count": null,
      "outputs": []
    },
    {
      "cell_type": "code",
      "metadata": {
        "id": "QpiKeppDtX2m"
      },
      "source": [
        "class Dog:\n",
        "  def __init__(self,name):\n",
        "    # name 보관\n",
        "    # 왼쪽의 name과 오른 name은 다른 것임 왼쪽은 보관하는 곳! 이 객체가 살아있는 한 계속 사용가능\n",
        "    self.__name = name # 이 속성은 외부에서 접근불가 (히든속성)\n",
        "\n",
        "  def get_name(self): # 메서드를 통해 접근하는 것을 권장\n",
        "    return self.__name\n",
        "\n",
        "d = Dog('해피')\n",
        "print(d.__name) # 속성을 바로 접근하는 것은 권장하지 않음"
      ],
      "execution_count": null,
      "outputs": []
    },
    {
      "cell_type": "code",
      "metadata": {
        "id": "aly-_M25tc9-"
      },
      "source": [
        "\n",
        "class Dog:\n",
        "  def __init__(self,name,age):\n",
        "    self.name = name \n",
        "    self.age = age # 나이도 보관!\n",
        "\n",
        "  # 값을 보관하고 싶다면, self를 사용!\n",
        "  \n",
        "  def get_name(self): # 메서드를 통해 접근하는 것을 권장\n",
        "    return self.name\n",
        "  def get_age(self):\n",
        "    return self.age\n",
        "  def set_age(self,age):\n",
        "    self.age = age # 기존에 보관하고 있는 곳(self.age)에 덮어쓰기!\n",
        "\n",
        "d = Dog('해피', 30) # 초기화\n",
        "\n",
        "print(d.get_name()) # 해피\n",
        "print(d.get_age()) # 30\n",
        "d.set_age(22)\n",
        "print(d.get_age()) # 22"
      ],
      "execution_count": null,
      "outputs": []
    },
    {
      "cell_type": "code",
      "metadata": {
        "id": "HcahFUbUvKvz"
      },
      "source": [
        ""
      ],
      "execution_count": null,
      "outputs": []
    },
    {
      "cell_type": "markdown",
      "metadata": {
        "id": "njuFO7rCzCuz"
      },
      "source": [
        "## 클래스 간의 상호작용"
      ]
    },
    {
      "cell_type": "code",
      "metadata": {
        "id": "pvRRGNS3zEcT"
      },
      "source": [
        "class Student:\n",
        "  def __init__(self, name, age, grade):\n",
        "    self.name = name\n",
        "    self.age = age\n",
        "    self.grade = grade\n",
        "  def get_grade(self):\n",
        "    return self.grade\n",
        "\n",
        "class Course:\n",
        "  def __init__(self, name, max_student):\n",
        "    self.name = name\n",
        "    self.max_student = max_student # 보관\n",
        "    self.students = [] # 학생들 보관\n",
        "  def add_student(self, student):\n",
        "    if len(self.students) < self.max_student:\n",
        "      self.students.append([student.name, student.age, student.grade]) # 학생 추가\n",
        "      return True\n",
        "    return False\n",
        "  def get_average_grade(self):\n",
        "      score = 0\n",
        "      \n",
        "      for i in self.students:\n",
        "        score += i[2]\n",
        "      return score / 2\n",
        "      \n",
        "\n",
        "s1 = Student('아이언맨', 19, 95)\n",
        "s2 = Student('스파이더맨', 19, 75)\n",
        "s3 = Student('헐크', 19, 85)\n",
        "\n",
        "course = Course('과학', 2)\n",
        "course.add_student(s1)\n",
        "course.add_student(s2)\n",
        "# print(course.students)\n",
        "course.get_average_grade()\n",
        "  "
      ],
      "execution_count": null,
      "outputs": []
    },
    {
      "cell_type": "markdown",
      "metadata": {
        "id": "gjkCUM8D5zzX"
      },
      "source": [
        ""
      ]
    },
    {
      "cell_type": "code",
      "metadata": {
        "id": "RiMDjIZR2CWM"
      },
      "source": [
        ""
      ],
      "execution_count": null,
      "outputs": []
    },
    {
      "cell_type": "markdown",
      "metadata": {
        "id": "ORKzNAB5fAzH"
      },
      "source": [
        "## 자료형\n",
        "변수 : 변할 수 있는 수"
      ]
    },
    {
      "cell_type": "code",
      "metadata": {
        "id": "JgkJ36vifCNt"
      },
      "source": [
        "# 숫자\n",
        "x = 1\n",
        "\n",
        "# 문자열\n",
        "stirng = 'hello'\n",
        "\n",
        "# 리스트 - mutable\n",
        "lst = [1,2,3,4,5]\n",
        "\n",
        "# 튜플 - Immutable\n",
        "tup = (1,2,3,4,5)\n",
        "\n",
        "# 딕셔너리 \n",
        "# 여러개의 if문 대신, value에 함수를 넣는 것도 코드를 깔끔하게 만든다.\n",
        "dic = {'name':'홍길동', '나이': 21}\n",
        "\n",
        "# 집합 - 중복요소 제거할 때 잠시 씀. 자주 쓰지는 않음\n",
        "s = set([1,2,3,3])\n",
        "print(s)\n",
        "\n",
        "# Boolean\n",
        "t = True\n",
        "f = False\n",
        "\n",
        "# 문자열\n",
        "st = 'pythons\\n!' # 리스트 함수 쓸 수 있음\n",
        "print(st)\n",
        "print(st[2:5])\n",
        "print(st[::-1])\n",
        "\n",
        "s = '20210316rainy'\n",
        "year = s[0:4]\n",
        "month = s[4:6]\n",
        "day = s[5:7]\n",
        "weather = s[8:]\n",
        "\n",
        "print(year, month, day, weather)\n"
      ],
      "execution_count": null,
      "outputs": []
    },
    {
      "cell_type": "code",
      "metadata": {
        "id": "diqQp8F3fW_b"
      },
      "source": [
        "a = 100\n",
        "b = 200\n",
        "sum = a + b\n",
        "print(\"{}와 {}의 합은 {}입니다\".format(a,b,sum))\n",
        "print(\"%d와 %d의 합은 %d입니다.\"%(a,b,sum))"
      ],
      "execution_count": null,
      "outputs": []
    },
    {
      "cell_type": "code",
      "metadata": {
        "id": "9wLJ0bWHlDoR"
      },
      "source": [
        ""
      ],
      "execution_count": null,
      "outputs": []
    },
    {
      "cell_type": "markdown",
      "metadata": {
        "id": "EGKWsK1MlweZ"
      },
      "source": [
        "## 연산자"
      ]
    },
    {
      "cell_type": "code",
      "metadata": {
        "id": "SFR14cp-lxrX"
      },
      "source": [
        "# 산술연산자\n",
        "n1 = 10\n",
        "n2 = 7\n",
        "\n",
        "print(n1 / n2)\n",
        "print(n1 % n2)\n",
        "print(n1 // n2)\n",
        "\n",
        "# 같은 문제를 다양한 방법으로 풀면 깊이있게 공부할 수 있음\n",
        "# 여러문제 x\n"
      ],
      "execution_count": null,
      "outputs": []
    },
    {
      "cell_type": "code",
      "metadata": {
        "id": "8Dlv_J-lmDB8"
      },
      "source": [
        "nn = 456\n",
        "# nn = str(nn)\n",
        "str(nn)\n",
        "print(nn[0],0,0, sep=\"\")"
      ],
      "execution_count": null,
      "outputs": []
    },
    {
      "cell_type": "code",
      "metadata": {
        "id": "-y-qcXGDppwh"
      },
      "source": [
        ""
      ],
      "execution_count": null,
      "outputs": []
    },
    {
      "cell_type": "markdown",
      "metadata": {
        "id": "mj-KC5UEqUaF"
      },
      "source": [
        "\n",
        "\n",
        "```\n",
        "# 코드로 형식 지정됨\n",
        "```\n",
        "str함수가 작동이 좀 이상하게 되는 것 같음... 그 이유는 위에서 str이라는 변수를 사용했기 때문임. 변수명 바꾸거나, str 재정의!"
      ]
    },
    {
      "cell_type": "code",
      "metadata": {
        "id": "VOaF6-qkrMWe"
      },
      "source": [
        "nn = 456\n",
        "print(nn//100 *100)\n"
      ],
      "execution_count": null,
      "outputs": []
    },
    {
      "cell_type": "code",
      "metadata": {
        "id": "gcdPRk9Brjvm",
        "colab": {
          "base_uri": "https://localhost:8080/"
        },
        "outputId": "c4e50d81-289e-4083-a5fb-846ea9edb6a3"
      },
      "source": [
        "sec = 3723\n",
        "hour = sec / 3600 # 3600초(1시간)로 나눔\n",
        "res = sec % 3600\n",
        "\n",
        "minute = res / 60\n",
        "sec = res % 60\n",
        "\n",
        "\n",
        "print('%d 시간 %d분 %d 초'%(hour, minute, sec))"
      ],
      "execution_count": null,
      "outputs": [
        {
          "output_type": "stream",
          "text": [
            "1 시간 2분 3 초\n"
          ],
          "name": "stdout"
        }
      ]
    },
    {
      "cell_type": "code",
      "metadata": {
        "id": "JK4N_JKwuVA8",
        "colab": {
          "base_uri": "https://localhost:8080/"
        },
        "outputId": "e53d1a74-bba6-4d8f-ab0b-e9b7721e5c85"
      },
      "source": [
        "hour = 11\n",
        "over_time = hour % 8\n",
        "\n",
        "def getMoney(hour, cpay):\n",
        "  money = 0\n",
        "  for i in range(hour):\n",
        "    if i < 8:\n",
        "      money += cpay\n",
        "    else:\n",
        "      money += cpay*1.5\n",
        "  return money\n",
        "\n",
        "money = getMoney(11, 5000)\n",
        "print(money)"
      ],
      "execution_count": null,
      "outputs": [
        {
          "output_type": "stream",
          "text": [
            "62500.0\n"
          ],
          "name": "stdout"
        }
      ]
    },
    {
      "cell_type": "code",
      "metadata": {
        "id": "0Wz1eDNvzIJP"
      },
      "source": [
        ""
      ],
      "execution_count": null,
      "outputs": []
    },
    {
      "cell_type": "markdown",
      "metadata": {
        "id": "gzk0i7DA51H-"
      },
      "source": [
        "## 리스트"
      ]
    },
    {
      "cell_type": "code",
      "metadata": {
        "colab": {
          "base_uri": "https://localhost:8080/"
        },
        "id": "JmRcRYQM52hq",
        "outputId": "c1ccab2c-f843-4495-f18f-09a32b0b6f33"
      },
      "source": [
        "lst1 = []\n",
        "lst2 = [1,2,3]\n",
        "lst3 = [1, 'hello']\n",
        "lst4 = [1, 'hello', [3,4,5]]\n",
        "\n",
        "print(len(lst4))\n",
        "\n"
      ],
      "execution_count": null,
      "outputs": [
        {
          "output_type": "stream",
          "text": [
            "3\n"
          ],
          "name": "stdout"
        }
      ]
    },
    {
      "cell_type": "code",
      "metadata": {
        "colab": {
          "base_uri": "https://localhost:8080/"
        },
        "id": "6ean232J6UA2",
        "outputId": "7bf9caaf-2857-4213-9ab6-6d66b85c3c72"
      },
      "source": [
        "array = [2,5,7,9,10]\n",
        "print(array[0] + array[1])"
      ],
      "execution_count": null,
      "outputs": [
        {
          "output_type": "stream",
          "text": [
            "7\n"
          ],
          "name": "stdout"
        }
      ]
    },
    {
      "cell_type": "code",
      "metadata": {
        "colab": {
          "base_uri": "https://localhost:8080/"
        },
        "id": "KMeTsfNW6-A1",
        "outputId": "307d7f4d-e48b-43c7-eb36-b8eb6adcd747"
      },
      "source": [
        "array[0] = 100 # 리스트는 값의 변경 가능! 튜플은 불가능\n",
        "print(array)"
      ],
      "execution_count": null,
      "outputs": [
        {
          "output_type": "stream",
          "text": [
            "[100, 5, 7, 9, 10]\n"
          ],
          "name": "stdout"
        }
      ]
    },
    {
      "cell_type": "code",
      "metadata": {
        "colab": {
          "base_uri": "https://localhost:8080/"
        },
        "id": "OE30yD7Y7Kuh",
        "outputId": "b9af19b1-8073-4b9a-9f18-d9c37d31305b"
      },
      "source": [
        "# 리스트 복사\n",
        "a = [1,2,3]\n",
        "b = a\n",
        "print(a is b)\n",
        "\n",
        "# a와 b가 같은 것을 가리킴\n",
        "print(id(a), id(b)) # 139663493597216 139663493597216\n",
        "\n",
        "b = a[:] # 값 복사. 메모리에 새로생김\n",
        "print(a is b) # a와 b가 다르다고 나옴. a의 값이 복사되어 b로 들어감"
      ],
      "execution_count": null,
      "outputs": [
        {
          "output_type": "stream",
          "text": [
            "True\n",
            "139663493016224 139663493016224\n",
            "False\n"
          ],
          "name": "stdout"
        }
      ]
    },
    {
      "cell_type": "code",
      "metadata": {
        "colab": {
          "base_uri": "https://localhost:8080/"
        },
        "id": "9zpSc0NS7qDW",
        "outputId": "b106e69a-69ca-4393-aa74-7565229fd96d"
      },
      "source": [
        "array = [1,2,3,4,5]\n",
        "print(array.index(4)) # 위치를 가지고 오고 싶을 때 index()함수"
      ],
      "execution_count": null,
      "outputs": [
        {
          "output_type": "stream",
          "text": [
            "3\n"
          ],
          "name": "stdout"
        }
      ]
    },
    {
      "cell_type": "code",
      "metadata": {
        "colab": {
          "base_uri": "https://localhost:8080/"
        },
        "id": "z3pcyJdO9vCa",
        "outputId": "9560f9df-0662-4379-9c2f-420c8174122b"
      },
      "source": [
        "# array.insert(2, 'y')\n",
        "print(array)\n",
        "array.pop() # 스택에서의 pop\n",
        "# array.remove(1)\n",
        "print(array)"
      ],
      "execution_count": null,
      "outputs": [
        {
          "output_type": "stream",
          "text": [
            "[2, 3, 'y', 'y', 'y']\n",
            "[2, 3, 'y', 'y']\n"
          ],
          "name": "stdout"
        }
      ]
    },
    {
      "cell_type": "code",
      "metadata": {
        "colab": {
          "base_uri": "https://localhost:8080/"
        },
        "id": "4D36oKEx98Yi",
        "outputId": "cde082d7-c2c6-4f5e-c63a-495293592b52"
      },
      "source": [
        "a = [1,2,3]\n",
        "b = [4,5,6]\n",
        "\n",
        "print(a+b)"
      ],
      "execution_count": null,
      "outputs": [
        {
          "output_type": "stream",
          "text": [
            "[1, 2, 3, 4, 5, 6]\n"
          ],
          "name": "stdout"
        }
      ]
    },
    {
      "cell_type": "code",
      "metadata": {
        "colab": {
          "base_uri": "https://localhost:8080/"
        },
        "id": "h4kGrPv9_PRi",
        "outputId": "dcb6fc9d-f2ab-447f-a509-cbc464d8ab0a"
      },
      "source": [
        "# 정렬\n",
        "a = [3,4,2,1]\n",
        "sorted_a = sorted(a)\n",
        "\n",
        "print(sorted_a)\n",
        "# 사실 될 수 있으면 원본은 바꾸지 않는 것이 좋음. 복사해서 쓰는 것이 좋음.\n",
        "a.sort()\n",
        "print(a)"
      ],
      "execution_count": null,
      "outputs": [
        {
          "output_type": "stream",
          "text": [
            "[1, 2, 3, 4]\n",
            "[1, 2, 3, 4]\n"
          ],
          "name": "stdout"
        }
      ]
    },
    {
      "cell_type": "code",
      "metadata": {
        "colab": {
          "base_uri": "https://localhost:8080/"
        },
        "id": "ojYgGVc4_ciq",
        "outputId": "d4b0a78b-e783-4546-a3f1-5d5e7bb98c67"
      },
      "source": [
        "print(range(5))"
      ],
      "execution_count": null,
      "outputs": [
        {
          "output_type": "stream",
          "text": [
            "range(0, 5)\n"
          ],
          "name": "stdout"
        }
      ]
    },
    {
      "cell_type": "code",
      "metadata": {
        "colab": {
          "base_uri": "https://localhost:8080/"
        },
        "id": "xqrNnELhAEq_",
        "outputId": "c8bab93e-fe02-4590-e445-7176bf9cffdf"
      },
      "source": [
        "lst = [ i*10 for i in range(5)]\n",
        "lst # 주피터 노트북에서는 print 안써줘도 이렇게 해줘도 출력됨"
      ],
      "execution_count": null,
      "outputs": [
        {
          "output_type": "execute_result",
          "data": {
            "text/plain": [
              "[0, 10, 20, 30, 40]"
            ]
          },
          "metadata": {
            "tags": []
          },
          "execution_count": 35
        }
      ]
    },
    {
      "cell_type": "code",
      "metadata": {
        "colab": {
          "base_uri": "https://localhost:8080/"
        },
        "id": "zmwHSChCARyg",
        "outputId": "85af7209-65a7-42e9-a340-85e1b9ab7ebd"
      },
      "source": [
        "array = [1,2,3,4,5]\n",
        "array[-1] = 7\n",
        "array[1] = ['a', 'b', 'c']\n",
        "\n",
        "array.remove(4)\n",
        "array.remove(7)\n",
        "array.append('d')\n",
        "array.append('e')\n",
        "array.append('f')\n",
        "array.append('g')\n",
        "array[3:] = ['d','e', 'f']\n",
        "print(array)"
      ],
      "execution_count": null,
      "outputs": [
        {
          "output_type": "stream",
          "text": [
            "[1, ['a', 'b', 'c'], 3, 'd', 'e', 'f']\n"
          ],
          "name": "stdout"
        }
      ]
    },
    {
      "cell_type": "code",
      "metadata": {
        "colab": {
          "base_uri": "https://localhost:8080/"
        },
        "id": "ViizAmHFBttH",
        "outputId": "2d786c2a-afa9-47b5-90ca-8de314ba2cb7"
      },
      "source": [
        "array = [1,2,3,4,5]\n",
        "array[-1] = 7\n",
        "array[1] = ['a', 'b', 'c']\n",
        "\n",
        "# 이 방법으로 여러 항목들을 리스트에 한번에 추가할 수 있다.\n",
        "array[3:] = ['d', 'e', 'f', 'g']\n",
        "print(array)"
      ],
      "execution_count": null,
      "outputs": [
        {
          "output_type": "stream",
          "text": [
            "[1, ['a', 'b', 'c'], 3, 'd', 'e', 'f', 'g']\n"
          ],
          "name": "stdout"
        }
      ]
    },
    {
      "cell_type": "code",
      "metadata": {
        "id": "Y1HQJZr9DdBU"
      },
      "source": [
        ""
      ],
      "execution_count": null,
      "outputs": []
    },
    {
      "cell_type": "markdown",
      "metadata": {
        "id": "qfioRFTuHBdK"
      },
      "source": [
        "## 튜플"
      ]
    },
    {
      "cell_type": "code",
      "metadata": {
        "colab": {
          "base_uri": "https://localhost:8080/"
        },
        "id": "8kDP8kwtHCrA",
        "outputId": "7eaa115f-a058-4258-aa98-8005014efbe8"
      },
      "source": [
        "# 문자열 자체가 리스트!\n",
        "\n",
        "if 'x' in 'xyz': # 문자열\n",
        "  print('true')\n",
        "\n",
        "if 'x' in ('x,y,z'): # 튜플\n",
        "  print('true')\n",
        "if 'x' in ['x,y,z']: # 리스트\n",
        "  print('true')\n",
        "  "
      ],
      "execution_count": null,
      "outputs": [
        {
          "output_type": "stream",
          "text": [
            "true\n",
            "true\n"
          ],
          "name": "stdout"
        }
      ]
    },
    {
      "cell_type": "code",
      "metadata": {
        "id": "7_db4379HIxn"
      },
      "source": [
        ""
      ],
      "execution_count": null,
      "outputs": []
    },
    {
      "cell_type": "markdown",
      "metadata": {
        "id": "TcYx24kAHskI"
      },
      "source": [
        "## 딕셔너리"
      ]
    },
    {
      "cell_type": "code",
      "metadata": {
        "colab": {
          "base_uri": "https://localhost:8080/"
        },
        "id": "dT5nE9MxHuKl",
        "outputId": "328bf7ea-d689-48c4-ae89-c67af2a64a33"
      },
      "source": [
        "dict1 = {'name': 'kim', 'age': 31, 'grade': 3}\n",
        "print(dict1['grade'])\n",
        "print(dict1.keys())\n",
        "print(dict1.values())\n",
        "print(dict1.items()) # 키와 값 쌍을 튜플로 반환\n",
        "\n",
        "for x,y in dict1.items():\n",
        "  print(x,y)"
      ],
      "execution_count": null,
      "outputs": [
        {
          "output_type": "stream",
          "text": [
            "3\n",
            "dict_keys(['name', 'age', 'grade'])\n",
            "dict_values(['kim', 31, 3])\n",
            "dict_items([('name', 'kim'), ('age', 31), ('grade', 3)])\n",
            "name kim\n",
            "age 31\n",
            "grade 3\n"
          ],
          "name": "stdout"
        }
      ]
    },
    {
      "cell_type": "code",
      "metadata": {
        "colab": {
          "base_uri": "https://localhost:8080/"
        },
        "id": "7v8ECCJWH8Dk",
        "outputId": "5726ca91-e740-445b-ba50-670d0e6fd48b"
      },
      "source": [
        "# 위에서, str 함수를 변수처럼 사용해서 재정의함.. str 함수를 재정의함... 그래서 그 뒤에 str함수를 사용할 때 문제가 있었음\n",
        "# str = 'hello'\n",
        "# 위 코드가 str함수를 hello라는 문자열로 재정의 해버린 것이다.\n",
        "\n",
        "# 딕셔너리 사용시 주의점\n",
        "# 인덱스가 있는지 없는지!\n",
        "\n",
        "dict1 = {}\n",
        "for i in [1,2,3,3,4,4]:\n",
        "  if i in dict1:\n",
        "    dict1[i] += 1\n",
        "  else:\n",
        "    dict1[i] = 1\n",
        "print(dict1)\n",
        "# 값이 몇 개 들어있는지 확인하는 프로그램. 많이 쓰는 로직임!"
      ],
      "execution_count": null,
      "outputs": [
        {
          "output_type": "stream",
          "text": [
            "{1: 1, 2: 1, 3: 2, 4: 2}\n"
          ],
          "name": "stdout"
        }
      ]
    },
    {
      "cell_type": "code",
      "metadata": {
        "id": "7v6Y0KhtKqML"
      },
      "source": [
        ""
      ],
      "execution_count": null,
      "outputs": []
    },
    {
      "cell_type": "markdown",
      "metadata": {
        "id": "9c4pflnmKx65"
      },
      "source": [
        "## 집합"
      ]
    },
    {
      "cell_type": "code",
      "metadata": {
        "colab": {
          "base_uri": "https://localhost:8080/"
        },
        "id": "DRSoC1j7KytS",
        "outputId": "77bb762a-e9b9-438d-9423-f5d98b19534b"
      },
      "source": [
        "s1 = set([1,2,2,3,4,4])\n",
        "print(s1)"
      ],
      "execution_count": null,
      "outputs": [
        {
          "output_type": "stream",
          "text": [
            "{1, 2, 3, 4}\n"
          ],
          "name": "stdout"
        }
      ]
    },
    {
      "cell_type": "code",
      "metadata": {
        "id": "2G7DUGeQK_Q5"
      },
      "source": [
        "while True:\n",
        "  num = int(input())\n",
        "  if num >= 11:\n",
        "    cost = (10000*num)*0.9\n",
        "    print(cost, '원을 지불하세요')\n",
        "  else:\n",
        "    cost = 10000*num\n",
        "    print(cost, '원을 지불하세요')\n"
      ],
      "execution_count": null,
      "outputs": []
    },
    {
      "cell_type": "code",
      "metadata": {
        "id": "0owMMWnPOLcI"
      },
      "source": [
        ""
      ],
      "execution_count": null,
      "outputs": []
    }
  ]
}